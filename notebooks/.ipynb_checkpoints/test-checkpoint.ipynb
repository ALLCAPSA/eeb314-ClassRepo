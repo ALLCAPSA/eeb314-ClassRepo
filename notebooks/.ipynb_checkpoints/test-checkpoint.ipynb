{
 "cells": [
  {
   "cell_type": "markdown",
   "metadata": {},
   "source": [
    "# This is a test notebook for configuring automation of interactive pages"
   ]
  },
  {
   "cell_type": "markdown",
   "metadata": {},
   "source": [
    "Lorem ipsum dolor sit amet, consectetur adipiscing elit. Aenean a lobortis augue. Nunc mollis urna et leo sollicitudin, vel luctus ante fringilla. Ut viverra diam elit, eu semper magna imperdiet faucibus. Nulla facilisi. Sed turpis augue, vulputate nec commodo in, venenatis vitae magna. Aliquam placerat neque non consequat fringilla. Mauris tempor, enim eget consectetur dapibus, nisl lorem luctus felis, id volutpat magna lacus sit amet lorem. Curabitur id felis et risus ornare facilisis sit amet id sem. Interdum et malesuada fames ac ante ipsum primis in faucibus. Duis sed turpis ipsum. Suspendisse risus urna, euismod nec odio commodo, elementum vulputate quam. Nullam nulla tortor, congue ac nunc ac, fringilla pretium leo. Duis ut massa a ante aliquam dapibus. Phasellus in mi quis ante pharetra suscipit gravida ut arcu. Sed fringilla et massa in hendrerit.\n",
    "\n",
    "Nam eu tempor nunc, sed finibus diam. Vivamus felis enim, suscipit sit amet laoreet non, volutpat faucibus eros. In vehicula elit mi. Sed gravida risus id tortor ultrices, at consectetur diam tempor. Proin sit amet erat purus. Duis viverra elit eu egestas luctus. Vestibulum ut cursus sem, ut feugiat lorem. Cras sed nulla ut tellus ultricies mollis. Interdum et malesuada fames ac ante ipsum primis in faucibus. Duis porttitor sagittis dolor, sed laoreet enim semper eget."
   ]
  },
  {
   "cell_type": "code",
   "execution_count": 1,
   "metadata": {},
   "outputs": [
    {
     "name": "stdout",
     "output_type": "stream",
     "text": [
      "1\n",
      "2\n",
      "3\n"
     ]
    }
   ],
   "source": [
    "# This is code\n",
    "x = [1, 2, 3]\n",
    "for i in x:\n",
    "    print(i)"
   ]
  }
 ],
 "metadata": {
  "kernelspec": {
   "display_name": "Python 3 (ipykernel)",
   "language": "python",
   "name": "python3"
  },
  "language_info": {
   "codemirror_mode": {
    "name": "ipython",
    "version": 3
   },
   "file_extension": ".py",
   "mimetype": "text/x-python",
   "name": "python",
   "nbconvert_exporter": "python",
   "pygments_lexer": "ipython3",
   "version": "3.8.12"
  }
 },
 "nbformat": 4,
 "nbformat_minor": 4
}
