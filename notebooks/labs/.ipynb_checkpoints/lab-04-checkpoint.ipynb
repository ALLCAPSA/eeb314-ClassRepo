{
 "cells": [
  {
   "cell_type": "markdown",
   "id": "ffa02a7e",
   "metadata": {},
   "source": [
    "# Lab 4 - Vectors and matrices"
   ]
  },
  {
   "cell_type": "markdown",
   "id": "e0d39ce0",
   "metadata": {},
   "source": [
    "Python/SymPy can make our lives easier when working with vectors and matrices. Today we'll learn some basics. For more information see https://docs.sympy.org/latest/modules/matrices/matrices.html#linear-algebra."
   ]
  },
  {
   "cell_type": "code",
   "execution_count": 1,
   "id": "58d871eb",
   "metadata": {},
   "outputs": [],
   "source": [
    "from sympy import * #import all (*) of the sympy library"
   ]
  },
  {
   "cell_type": "markdown",
   "id": "ff46e870-0437-4d15-9ee5-691778df7d70",
   "metadata": {},
   "source": [
    "## Vectors"
   ]
  },
  {
   "cell_type": "markdown",
   "id": "461bc021-079b-4a6e-ae44-26f077452525",
   "metadata": {},
   "source": [
    "A row vector is a matrix with a single row"
   ]
  },
  {
   "cell_type": "code",
   "execution_count": 5,
   "id": "e4892f8b-00cc-4d35-8b8d-27f7d908696b",
   "metadata": {},
   "outputs": [
    {
     "data": {
      "text/latex": [
       "$\\displaystyle \\left[\\begin{matrix}v_{1} & v_{2} & v_{3}\\end{matrix}\\right]$"
      ],
      "text/plain": [
       "Matrix([[v1, v2, v3]])"
      ]
     },
     "execution_count": 5,
     "metadata": {},
     "output_type": "execute_result"
    }
   ],
   "source": [
    "var('v1,v2,v3') #define symbols\n",
    "v = Matrix([[v1,v2,v3]])\n",
    "v"
   ]
  },
  {
   "cell_type": "markdown",
   "id": "e55a0e6b-4e0e-4cf9-b017-4a01825bbecf",
   "metadata": {},
   "source": [
    "A column vector is a matrix with a single column"
   ]
  },
  {
   "cell_type": "code",
   "execution_count": 12,
   "id": "b4d8fd74",
   "metadata": {},
   "outputs": [
    {
     "data": {
      "text/latex": [
       "$\\displaystyle \\left[\\begin{matrix}v_{1}\\\\v_{2}\\\\v_{3}\\end{matrix}\\right]$"
      ],
      "text/plain": [
       "Matrix([\n",
       "[v1],\n",
       "[v2],\n",
       "[v3]])"
      ]
     },
     "execution_count": 12,
     "metadata": {},
     "output_type": "execute_result"
    }
   ],
   "source": [
    "v = Matrix([[v1], \n",
    "            [v2],\n",
    "            [v3]]) \n",
    "v"
   ]
  },
  {
   "cell_type": "markdown",
   "id": "c039f99f-8f09-4c08-af33-dfa8e42a1787",
   "metadata": {},
   "source": [
    "We can switch between row and column vectors by transposing"
   ]
  },
  {
   "cell_type": "code",
   "execution_count": 13,
   "id": "c21310bf-5fd6-4b30-be4c-d0dfe951ac7a",
   "metadata": {},
   "outputs": [
    {
     "data": {
      "text/latex": [
       "$\\displaystyle \\left[\\begin{matrix}v_{1}\\\\v_{2}\\\\v_{3}\\end{matrix}\\right]$"
      ],
      "text/plain": [
       "Matrix([\n",
       "[v1],\n",
       "[v2],\n",
       "[v3]])"
      ]
     },
     "metadata": {},
     "output_type": "display_data"
    },
    {
     "data": {
      "text/latex": [
       "$\\displaystyle \\left[\\begin{matrix}v_{1} & v_{2} & v_{3}\\end{matrix}\\right]$"
      ],
      "text/plain": [
       "Matrix([[v1, v2, v3]])"
      ]
     },
     "execution_count": 13,
     "metadata": {},
     "output_type": "execute_result"
    }
   ],
   "source": [
    "display(v)\n",
    "v.transpose()"
   ]
  },
  {
   "cell_type": "markdown",
   "id": "71813f7a-282f-4f67-b041-408b87ab69bb",
   "metadata": {},
   "source": [
    "## Matrices"
   ]
  },
  {
   "cell_type": "markdown",
   "id": "8004af32",
   "metadata": {},
   "source": [
    "A matrix is created similarly"
   ]
  },
  {
   "cell_type": "code",
   "execution_count": 36,
   "id": "d2eba138",
   "metadata": {},
   "outputs": [
    {
     "data": {
      "text/latex": [
       "$\\displaystyle \\left[\\begin{matrix}m_{11} & m_{12} & m_{13}\\\\m_{21} & m_{22} & m_{23}\\\\m_{31} & m_{32} & m_{33}\\end{matrix}\\right]$"
      ],
      "text/plain": [
       "Matrix([\n",
       "[m11, m12, m13],\n",
       "[m21, m22, m23],\n",
       "[m31, m32, m33]])"
      ]
     },
     "execution_count": 36,
     "metadata": {},
     "output_type": "execute_result"
    }
   ],
   "source": [
    "var('m11,m12,m13,m21,m22,m23,m31,m32,m33') #define symbols that we'll use as matrix elements\n",
    "M = Matrix([[m11,m12,m13], #convert list of lists (where inner lists are rows) into SymPy Matrix \n",
    "            [m21,m22,m23],\n",
    "            [m31,m32,m33]])\n",
    "M #print matrix to see result"
   ]
  },
  {
   "cell_type": "markdown",
   "id": "dd9ef9a7-5185-48fc-81e9-36650d383259",
   "metadata": {},
   "source": [
    "And can be transposed"
   ]
  },
  {
   "cell_type": "code",
   "execution_count": 37,
   "id": "4978faca-fb56-4138-91fb-453675608f87",
   "metadata": {},
   "outputs": [
    {
     "data": {
      "text/latex": [
       "$\\displaystyle \\left[\\begin{matrix}m_{11} & m_{21} & m_{31}\\\\m_{12} & m_{22} & m_{32}\\\\m_{13} & m_{23} & m_{33}\\end{matrix}\\right]$"
      ],
      "text/plain": [
       "Matrix([\n",
       "[m11, m21, m31],\n",
       "[m12, m22, m32],\n",
       "[m13, m23, m33]])"
      ]
     },
     "execution_count": 37,
     "metadata": {},
     "output_type": "execute_result"
    }
   ],
   "source": [
    "M.transpose()"
   ]
  },
  {
   "cell_type": "markdown",
   "id": "feadd8d8-7eb8-4eb2-997c-9e872cda11bc",
   "metadata": {},
   "source": [
    "There are also methods to quickly make some special matrices, eg, "
   ]
  },
  {
   "cell_type": "code",
   "execution_count": 40,
   "id": "4d29193e-583d-4063-b9ec-ec18a33eb841",
   "metadata": {},
   "outputs": [
    {
     "data": {
      "text/latex": [
       "$\\displaystyle \\left[\\begin{matrix}1 & 0\\\\0 & 1\\end{matrix}\\right]$"
      ],
      "text/plain": [
       "Matrix([\n",
       "[1, 0],\n",
       "[0, 1]])"
      ]
     },
     "execution_count": 40,
     "metadata": {},
     "output_type": "execute_result"
    }
   ],
   "source": [
    "n = 2\n",
    "eye(n) #identity matrix of dimension nxn"
   ]
  },
  {
   "cell_type": "code",
   "execution_count": 44,
   "id": "9f88b452-ba6f-447d-85b9-a45dbbab2daf",
   "metadata": {},
   "outputs": [
    {
     "data": {
      "text/latex": [
       "$\\displaystyle \\left[\\begin{matrix}3 & 0 & 0\\\\0 & 2 & 0\\\\0 & 0 & 1\\end{matrix}\\right]$"
      ],
      "text/plain": [
       "Matrix([\n",
       "[3, 0, 0],\n",
       "[0, 2, 0],\n",
       "[0, 0, 1]])"
      ]
     },
     "execution_count": 44,
     "metadata": {},
     "output_type": "execute_result"
    }
   ],
   "source": [
    "diag(3,2,1) #diagonal matrix, provide the diagonal entries "
   ]
  },
  {
   "cell_type": "markdown",
   "id": "8d53aeac-7d7f-4081-b7c1-eef1b0aa86a8",
   "metadata": {},
   "source": [
    "## Addition"
   ]
  },
  {
   "cell_type": "markdown",
   "id": "f3b312c0-a4e2-445e-ba03-4ee2618e2aec",
   "metadata": {},
   "source": [
    "We can add (or subtract) together vectors (and matrices) of the same dimension"
   ]
  },
  {
   "cell_type": "code",
   "execution_count": 19,
   "id": "bed88382-439a-4236-b7ea-822d4445256e",
   "metadata": {},
   "outputs": [
    {
     "data": {
      "text/latex": [
       "$\\displaystyle \\left[\\begin{matrix}0\\\\0\\\\0\\end{matrix}\\right]$"
      ],
      "text/plain": [
       "Matrix([\n",
       "[0],\n",
       "[0],\n",
       "[0]])"
      ]
     },
     "execution_count": 19,
     "metadata": {},
     "output_type": "execute_result"
    }
   ],
   "source": [
    "v - v"
   ]
  },
  {
   "cell_type": "code",
   "execution_count": 21,
   "id": "19333075-f519-45e6-bb3c-012854877c77",
   "metadata": {},
   "outputs": [
    {
     "data": {
      "text/latex": [
       "$\\displaystyle \\left[\\begin{matrix}2 m_{11} & 2 m_{12} & 2 m_{13}\\\\2 m_{21} & 2 m_{22} & 2 m_{23}\\\\2 m_{31} & 2 m_{32} & 2 m_{33}\\end{matrix}\\right]$"
      ],
      "text/plain": [
       "Matrix([\n",
       "[2*m11, 2*m12, 2*m13],\n",
       "[2*m21, 2*m22, 2*m23],\n",
       "[2*m31, 2*m32, 2*m33]])"
      ]
     },
     "execution_count": 21,
     "metadata": {},
     "output_type": "execute_result"
    }
   ],
   "source": [
    "M + M"
   ]
  },
  {
   "cell_type": "markdown",
   "id": "181d2227-4e26-4819-9acc-7861ddc66040",
   "metadata": {},
   "source": [
    "### Multiplication"
   ]
  },
  {
   "cell_type": "markdown",
   "id": "8aea5241-9096-4a86-a0e6-127234bc9a65",
   "metadata": {},
   "source": [
    "We can multiply by scalars"
   ]
  },
  {
   "cell_type": "code",
   "execution_count": 23,
   "id": "2c0ff69f-801d-4cb1-aff2-e3b5bae633b4",
   "metadata": {},
   "outputs": [
    {
     "data": {
      "text/latex": [
       "$\\displaystyle \\left[\\begin{matrix}4.1 v_{1}\\\\4.1 v_{2}\\\\4.1 v_{3}\\end{matrix}\\right]$"
      ],
      "text/plain": [
       "Matrix([\n",
       "[4.1*v1],\n",
       "[4.1*v2],\n",
       "[4.1*v3]])"
      ]
     },
     "execution_count": 23,
     "metadata": {},
     "output_type": "execute_result"
    }
   ],
   "source": [
    "4.1 * v"
   ]
  },
  {
   "cell_type": "code",
   "execution_count": 25,
   "id": "ce863631-643b-424c-980e-bc47f0bf5e49",
   "metadata": {},
   "outputs": [
    {
     "data": {
      "text/latex": [
       "$\\displaystyle \\left[\\begin{matrix}- 7 m_{11} & - 7 m_{12} & - 7 m_{13}\\\\- 7 m_{21} & - 7 m_{22} & - 7 m_{23}\\\\- 7 m_{31} & - 7 m_{32} & - 7 m_{33}\\end{matrix}\\right]$"
      ],
      "text/plain": [
       "Matrix([\n",
       "[-7*m11, -7*m12, -7*m13],\n",
       "[-7*m21, -7*m22, -7*m23],\n",
       "[-7*m31, -7*m32, -7*m33]])"
      ]
     },
     "execution_count": 25,
     "metadata": {},
     "output_type": "execute_result"
    }
   ],
   "source": [
    "-7 * M"
   ]
  },
  {
   "cell_type": "markdown",
   "id": "4330851c",
   "metadata": {},
   "source": [
    "We can also multiply vectors and matrices with each other when their inner dimensions match (ie, the number of columns of the first object is equal to the number of rows of the second object)"
   ]
  },
  {
   "cell_type": "code",
   "execution_count": 27,
   "id": "572ec168",
   "metadata": {},
   "outputs": [
    {
     "data": {
      "text/latex": [
       "$\\displaystyle \\left[\\begin{matrix}v_{1}^{2} & v_{1} v_{2} & v_{1} v_{3}\\\\v_{1} v_{2} & v_{2}^{2} & v_{2} v_{3}\\\\v_{1} v_{3} & v_{2} v_{3} & v_{3}^{2}\\end{matrix}\\right]$"
      ],
      "text/plain": [
       "Matrix([\n",
       "[v1**2, v1*v2, v1*v3],\n",
       "[v1*v2, v2**2, v2*v3],\n",
       "[v1*v3, v2*v3, v3**2]])"
      ]
     },
     "execution_count": 27,
     "metadata": {},
     "output_type": "execute_result"
    }
   ],
   "source": [
    "v*v.transpose()"
   ]
  },
  {
   "cell_type": "code",
   "execution_count": 28,
   "id": "7642a8cc-877e-4d6d-83d2-3a69de92e6c8",
   "metadata": {},
   "outputs": [
    {
     "data": {
      "text/latex": [
       "$\\displaystyle \\left[\\begin{matrix}v_{1}^{2} + v_{2}^{2} + v_{3}^{2}\\end{matrix}\\right]$"
      ],
      "text/plain": [
       "Matrix([[v1**2 + v2**2 + v3**2]])"
      ]
     },
     "execution_count": 28,
     "metadata": {},
     "output_type": "execute_result"
    }
   ],
   "source": [
    "v.transpose()*v"
   ]
  },
  {
   "cell_type": "code",
   "execution_count": 26,
   "id": "ec2ace43",
   "metadata": {},
   "outputs": [
    {
     "data": {
      "text/latex": [
       "$\\displaystyle \\left[\\begin{matrix}m_{11} v_{1} + m_{12} v_{2} + m_{13} v_{3}\\\\m_{21} v_{1} + m_{22} v_{2} + m_{23} v_{3}\\\\m_{31} v_{1} + m_{32} v_{2} + m_{33} v_{3}\\end{matrix}\\right]$"
      ],
      "text/plain": [
       "Matrix([\n",
       "[m11*v1 + m12*v2 + m13*v3],\n",
       "[m21*v1 + m22*v2 + m23*v3],\n",
       "[m31*v1 + m32*v2 + m33*v3]])"
      ]
     },
     "execution_count": 26,
     "metadata": {},
     "output_type": "execute_result"
    }
   ],
   "source": [
    "M * v"
   ]
  },
  {
   "cell_type": "code",
   "execution_count": 29,
   "id": "c2e2652f-e04e-4054-9e6e-e4ceced69231",
   "metadata": {},
   "outputs": [
    {
     "data": {
      "text/latex": [
       "$\\displaystyle \\left[\\begin{matrix}m_{11}^{2} + m_{12} m_{21} + m_{13} m_{31} & m_{11} m_{12} + m_{12} m_{22} + m_{13} m_{32} & m_{11} m_{13} + m_{12} m_{23} + m_{13} m_{33}\\\\m_{11} m_{21} + m_{21} m_{22} + m_{23} m_{31} & m_{12} m_{21} + m_{22}^{2} + m_{23} m_{32} & m_{13} m_{21} + m_{22} m_{23} + m_{23} m_{33}\\\\m_{11} m_{31} + m_{21} m_{32} + m_{31} m_{33} & m_{12} m_{31} + m_{22} m_{32} + m_{32} m_{33} & m_{13} m_{31} + m_{23} m_{32} + m_{33}^{2}\\end{matrix}\\right]$"
      ],
      "text/plain": [
       "Matrix([\n",
       "[ m11**2 + m12*m21 + m13*m31, m11*m12 + m12*m22 + m13*m32, m11*m13 + m12*m23 + m13*m33],\n",
       "[m11*m21 + m21*m22 + m23*m31,  m12*m21 + m22**2 + m23*m32, m13*m21 + m22*m23 + m23*m33],\n",
       "[m11*m31 + m21*m32 + m31*m33, m12*m31 + m22*m32 + m32*m33,  m13*m31 + m23*m32 + m33**2]])"
      ]
     },
     "execution_count": 29,
     "metadata": {},
     "output_type": "execute_result"
    }
   ],
   "source": [
    "M * M"
   ]
  },
  {
   "cell_type": "markdown",
   "id": "bf43311a-6087-4657-9119-ab33c1517aa0",
   "metadata": {},
   "source": [
    "## Plotting vectors"
   ]
  },
  {
   "cell_type": "markdown",
   "id": "c7415925",
   "metadata": {},
   "source": [
    "To visualize vectors and how they are transformed by matrix multiplication, let's turn to a numerical example with a 2 dimensional vector and a 2x2 matrix"
   ]
  },
  {
   "cell_type": "code",
   "execution_count": 30,
   "id": "fc7dcee9",
   "metadata": {},
   "outputs": [
    {
     "data": {
      "text/latex": [
       "$\\displaystyle \\left[\\begin{matrix}1\\\\1\\end{matrix}\\right]$"
      ],
      "text/plain": [
       "Matrix([\n",
       "[1],\n",
       "[1]])"
      ]
     },
     "execution_count": 30,
     "metadata": {},
     "output_type": "execute_result"
    }
   ],
   "source": [
    "v = Matrix([[1], #2 dimensional column vector\n",
    "            [1]])\n",
    "M = Matrix([[1,0], #2x2 matrix\n",
    "            [0,2]]) \n",
    "v"
   ]
  },
  {
   "cell_type": "markdown",
   "id": "8ec71bd7",
   "metadata": {},
   "source": [
    "We first plot the original vector"
   ]
  },
  {
   "cell_type": "code",
   "execution_count": 31,
   "id": "336c659a",
   "metadata": {},
   "outputs": [],
   "source": [
    "import matplotlib.pyplot as plt #import plotting library"
   ]
  },
  {
   "cell_type": "code",
   "execution_count": 46,
   "id": "8402cc55",
   "metadata": {},
   "outputs": [
    {
     "data": {
      "image/png": "[encoded data removed]",
      "text/plain": [
       "<Figure size 640x480 with 1 Axes>"
      ]
     },
     "metadata": {},
     "output_type": "display_data"
    }
   ],
   "source": [
    "plt.arrow(0, 0, #starting x and y values of arrow\n",
    "          float(v[0]), float(v[1]), #change in x and y (here need to convert elements of vector to floats)\n",
    "          head_width=0.05, color='black', length_includes_head=True) #aesthetics\n",
    "plt.xlim(0,2.5) #set bounds on x axis\n",
    "plt.ylim(0,2.5) #set bounds on y axis\n",
    "plt.show()"
   ]
  },
  {
   "cell_type": "markdown",
   "id": "43a31b78",
   "metadata": {},
   "source": [
    "and now we add the transformed vector we get by multiplying the original vector by the matrix"
   ]
  },
  {
   "cell_type": "code",
   "execution_count": 33,
   "id": "726347a0",
   "metadata": {},
   "outputs": [
    {
     "data": {
      "text/latex": [
       "$\\displaystyle \\left[\\begin{matrix}1\\\\2\\end{matrix}\\right]$"
      ],
      "text/plain": [
       "Matrix([\n",
       "[1],\n",
       "[2]])"
      ]
     },
     "execution_count": 33,
     "metadata": {},
     "output_type": "execute_result"
    }
   ],
   "source": [
    "u = M * v # multiplying by the matrix transforms the original vector v into a new vector u\n",
    "u"
   ]
  },
  {
   "cell_type": "code",
   "execution_count": 54,
   "id": "5ddd93bd",
   "metadata": {},
   "outputs": [
    {
     "data": {
      "image/png": "[encoded data removed]",
      "text/plain": [
       "<Figure size 640x480 with 1 Axes>"
      ]
     },
     "metadata": {},
     "output_type": "display_data"
    }
   ],
   "source": [
    "colors = ['black','blue']\n",
    "i = 0 #color index\n",
    "for x in [v,u]: #for the old and new vector\n",
    "    plt.arrow(0, 0, #starting x and y values of arrow\n",
    "          float(x[0]), float(x[1]), #change in x and y (here need to convert elements of vector to floats)\n",
    "          head_width=0.05, color=colors[i], length_includes_head=True) #aesthetics\n",
    "    i = i + 1\n",
    "plt.xlim(0,2.5)\n",
    "plt.ylim(0,2.5)\n",
    "plt.show()"
   ]
  },
  {
   "cell_type": "markdown",
   "id": "3b6f32f1-571e-4d23-8f77-6c6777274fd8",
   "metadata": {},
   "source": [
    "## Question"
   ]
  },
  {
   "cell_type": "markdown",
   "id": "ccc308dd-ee0a-4549-8285-f7bfc484cf46",
   "metadata": {},
   "source": [
    "Consider a discrete time version of our 2-island bird model\n",
    "\n",
    "$$\n",
    "\\vec{n}(t+1) = \\mathbf{M} \\vec{n}(t) + \\vec{m},\n",
    "$$\n",
    "\n",
    "where\n",
    "\n",
    "$$\n",
    "\\begin{align}\n",
    "\\vec{n}(t) = \\begin{pmatrix} n_1(t) \\\\ n_2(t) \\end{pmatrix}\\\\\n",
    "\\mathbf{M} = \\begin{pmatrix} R_1 & m_{12} \\\\ m_{21} & R_2 \\end{pmatrix}\\\\\n",
    "\\vec{m} = \\begin{pmatrix} m_1 \\\\ m_2 \\end{pmatrix},\n",
    "\\end{align}\n",
    "$$\n",
    "\n",
    "with $n_i(t)$ the number of birds on island $i$ at time $t$, $R_i$ the reproductive factor on island $i$, $m_{ij}$ the proportion of birds on island $j$ that migrate to island $i$, and $m_i$ the number of birds arriving to island $i$ from elsewhere.\n",
    "\n",
    "Using the initial conditions and parameter values below, iterate the multivariate recursion equation in matrix form, $\\vec{n}(t+1) = \\mathbf{M} \\vec{n}(t) + \\vec{m}$, for 10 time steps (a generator would be most efficient). Plot the vectors for all time steps in one plot (coloring by time would be helpful) to see how the number of birds on each of the two islands changes over time."
   ]
  },
  {
   "cell_type": "code",
   "execution_count": 61,
   "id": "2a62a41c-2777-48b7-9ae8-070a83d778bf",
   "metadata": {},
   "outputs": [],
   "source": [
    "# initial conditions\n",
    "n10, n20 = 10, 5\n",
    "\n",
    "# parameter values\n",
    "R1, R2 = 0.9, 0.9\n",
    "m12, m21 = 0.05, 0.05\n",
    "m1, m2 = 5, 5"
   ]
  }
 ],
 "metadata": {
  "kernelspec": {
   "display_name": "eeb430",
   "language": "python",
   "name": "eeb430"
  },
  "language_info": {
   "codemirror_mode": {
    "name": "ipython",
    "version": 3
   },
   "file_extension": ".py",
   "mimetype": "text/x-python",
   "name": "python",
   "nbconvert_exporter": "python",
   "pygments_lexer": "ipython3",
   "version": "3.7.4"
  }
 },
 "nbformat": 4,
 "nbformat_minor": 5
}
