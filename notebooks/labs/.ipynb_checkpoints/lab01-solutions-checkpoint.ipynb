{
 "cells": [
  {
   "cell_type": "markdown",
   "id": "d2cd533e-69a3-46cf-a1fb-813bba307766",
   "metadata": {},
   "source": [
    "# Lab 1: Introduction to the Jupyter Notebook, Python, and SymPy"
   ]
  },
  {
   "cell_type": "markdown",
   "id": "a16992c3-8c40-4f41-8fc0-c13c98135dee",
   "metadata": {
    "tags": []
   },
   "source": [
    "The [Jupyter Notebook](https://jupyter.org/) is the original web application for creating and sharing computational documents. It offers a simple, streamlined, document-centric experience. Jupyter supports over 40 programming languages, including Python, R, Julia, and Scala. These notebooks can be easily shared (eg, via [Google Colab](https://colab.research.google.com/)) and conveniently include notes (written in [Markdown](https://www.markdownguide.org/)), code, and output.\n",
    "\n",
    "[Python](https://www.python.org/) is a high-level general-purpose programming language that can be applied to many different classes of problems.\n",
    "\n",
    "[SymPy](https://www.sympy.org/en/index.html) is a Python library for symbolic mathematics.\n",
    "\n",
    "Importantly, all three of these softwares are free.\n",
    "\n",
    "This lab will give you a little tour of the Jupyter Notebook, Python, and SymPy."
   ]
  },
  {
   "cell_type": "markdown",
   "id": "83d383f7-4417-4c8e-ad7c-9cdeaa4e04e1",
   "metadata": {},
   "source": [
    "## 1. The Jupyter Notebook\n",
    "\n",
    "The first thing we need to figure out is how to interact with this Jupyter Notebook. Let's start with this very text. This is a chunk of code (\"cell\") is a Markdown cell, which allows us to make notes in all sorts of convenient ways. For example we can make a list\n",
    "\n",
    "- and write whatever we want\n",
    "- even fancy [$\\LaTeX$](https://www.latex-project.org/) code that let's us write equations such as $\\beta/\\sigma^2 = \\sqrt{2\\pi}$\n",
    "\n",
    "To see how this text was written, double click on this cell. Try adding some text yourself. When you are done press ```Shift + Enter``` (Windows) or ```shift + return``` (Mac) to \"evaluate\" this cell."
   ]
  },
  {
   "cell_type": "markdown",
   "id": "a087e68d-c15e-4ae9-87f2-5624a0479641",
   "metadata": {},
   "source": [
    "The other type of cell that we will use is simply called a \"Code\" cell. In our case this will be code written in Python. Below is such a cell. Click on the cell below, change something if you'd like, and evaluate as above."
   ]
  },
  {
   "cell_type": "code",
   "execution_count": null,
   "id": "456a8192-00ad-4638-8196-09d666ad281d",
   "metadata": {},
   "outputs": [],
   "source": [
    "2 + 2"
   ]
  },
  {
   "cell_type": "markdown",
   "id": "5b6192d6-f857-4208-bb36-e11bdd99f891",
   "metadata": {},
   "source": [
    "OK, now you know how to interact with existing cells. The next step is to create new ones. First, click once (not twice) on this cell. If you clicked twice you are now in \"Edit\" mode. To return to \"Command\" mode either evaluate the cell or press `Esc`. Next, to create a new cell below this one, press `B`. You can then edit this cell by clicking on it or pressing `Enter`/`return` to enter Edit mode. Type in an expression, like $2+2$, and evaluate it. Notice that this cell was set as a Code cell by default. Also notice that after evaluating you are in Command mode and located at the next cell. To make a new cell above the Code cell you just created, press the up button on your keyboard so that you are at the new Code cell, in Command mode, and then press `A`. This creates a new Code cell above the first Code cell you created. But this time we want a Markdown cell, so press `M` to convert this Code cell to a Markdown cell. (Pressing `Y` will convert back to a Code cell.) Press enter to edit the cell, enter some text to describe your Code cell below, and evaluate."
   ]
  },
  {
   "cell_type": "markdown",
   "id": "7286e855-799d-4d60-8aee-12739300eb67",
   "metadata": {},
   "source": [
    "It is also convenient to be able to move cells around. From Command mode you can copy a cell with `C`, cut a cell with `X`, and paste below the current cell with `V`. Try this out by changing the order of the cells you just created."
   ]
  },
  {
   "cell_type": "markdown",
   "id": "d51b2a09-280b-46d7-8741-1380dc4b6a3f",
   "metadata": {},
   "source": [
    "It can take a little time to get comfortable with the keyboard shortcuts, but keep practicing and you can quickly and easily navigate these Jupyter Notebooks with \n",
    "- `Enter`/`return` (switch from Command to Edit mode)\n",
    "- `Esc` (switch from Edit to Command mode)\n",
    "- `A` (new cell above, while in Command mode) \n",
    "- `B` (new cell below, while in Command mode) \n",
    "- `M` (make cell a Markdown cell, while in Command mode)\n",
    "- `Y` (make cell a Code cell, while in Command mode)\n",
    "- the up and down keys (change cells, while in Command mode)\n",
    "- `C`, `X`, `V` (copy, cut, or paste cell, while in Command mode)\n",
    "- `Shift + Enter`/`shift + return` (evaluate cell)"
   ]
  },
  {
   "cell_type": "markdown",
   "id": "8dab5198-331d-4d0a-8591-cecb8b31ed05",
   "metadata": {},
   "source": [
    "In Google Colab you can find the list of shortcuts in the `Tools` dropdown menu above. There are also lots of \"cheat sheets\" online, eg, https://defkey.com/jupyter-notebook-shortcuts. You may want to keep one handy."
   ]
  },
  {
   "cell_type": "markdown",
   "id": "44bea22b-c51a-4244-aa44-c7e5a4c3216c",
   "metadata": {},
   "source": [
    "Of course you can also use your mouse and the dropdown menus above if you prefer or if you get stuck, but with a little practice the keyboard shortcuts become much faster and more convenient."
   ]
  },
  {
   "cell_type": "markdown",
   "id": "d0cd82ef-b983-4e05-8dd0-438e45396f57",
   "metadata": {},
   "source": [
    "## 2. Loading SymPy"
   ]
  },
  {
   "cell_type": "markdown",
   "id": "3857d9de-4bfc-43ff-8717-2b8a5a220aee",
   "metadata": {},
   "source": [
    "To use SymPy (like any other python library), we have to import the library into our environment. One way to do it is to simply call:"
   ]
  },
  {
   "cell_type": "code",
   "execution_count": null,
   "id": "42b3c86c-c492-42b4-bc2f-5ed61e799fb0",
   "metadata": {},
   "outputs": [],
   "source": [
    "import sympy"
   ]
  },
  {
   "cell_type": "markdown",
   "id": "7947d00a-684e-4616-8976-ffebe366e3ba",
   "metadata": {},
   "source": [
    "By importing the SymPy library this way, we have to preface all of our function calls with the `sympy.[function]` prefix. For example, we can define a variable $x$ with"
   ]
  },
  {
   "cell_type": "code",
   "execution_count": null,
   "id": "b132fe31-0f00-48e9-88fa-03ed195859c5",
   "metadata": {},
   "outputs": [],
   "source": [
    "sympy.var('x')"
   ]
  },
  {
   "cell_type": "markdown",
   "id": "5d0a2a58-6d7c-4fbe-a778-1a61312f173b",
   "metadata": {},
   "source": [
    "Although this is good practice when using multiple libraries simultaneously, we can avoid having to preface every sympy function call by doing:"
   ]
  },
  {
   "cell_type": "code",
   "execution_count": null,
   "id": "95b272a6-10d4-465b-b61c-2c8bc2aebe40",
   "metadata": {},
   "outputs": [],
   "source": [
    "from sympy import *"
   ]
  },
  {
   "cell_type": "markdown",
   "id": "840ad521-310a-4ee4-8995-7cd6140da01f",
   "metadata": {},
   "source": [
    "This loads *all* of the SymPy functions and classes into our environment. For example, we can now call the same function as above with just:"
   ]
  },
  {
   "cell_type": "code",
   "execution_count": null,
   "id": "ca84ab03-76df-49de-9db0-1003a198c28d",
   "metadata": {},
   "outputs": [],
   "source": [
    "var('x')"
   ]
  },
  {
   "cell_type": "markdown",
   "id": "43ad3d4a-aa97-4165-ae4c-f80f0c7e95a4",
   "metadata": {
    "tags": []
   },
   "source": [
    "## 3. Python as a Calculator\n",
    "\n",
    "Python's most basic function is to act as a conventional calculator. For example, we can use Python to simplify the expression $$\\frac{3(2+\\frac{1}{2})^2}{\\frac{1}{5} - \\frac{2}{3}}$$ We can simply input the expression into an executable cell exactly as we would a calculator. "
   ]
  },
  {
   "cell_type": "code",
   "execution_count": null,
   "id": "2718b495-c533-4dcd-a289-ddc21b6033f1",
   "metadata": {},
   "outputs": [],
   "source": [
    "(3*(2+1/2)**2)/(1/5 - 2/3)"
   ]
  },
  {
   "cell_type": "markdown",
   "id": "71b490ca-0b71-405d-9d0e-59b0017d634a",
   "metadata": {},
   "source": [
    "Note that we use `**` to represent exponentiation."
   ]
  },
  {
   "cell_type": "markdown",
   "id": "6c8a0146-8cd4-454b-89c7-b7455963626f",
   "metadata": {},
   "source": [
    "Another thing to be careful about in Python is that you must use ```*``` to represent multiplication (eg, just leaving a space will result in an error). Try fixing the code below."
   ]
  },
  {
   "cell_type": "code",
   "execution_count": null,
   "id": "b2adaa81-7415-482a-8a44-9aff6d2458a0",
   "metadata": {},
   "outputs": [],
   "source": [
    "(3 (2+1/2)**2)/(1/5 - 2/3)"
   ]
  },
  {
   "cell_type": "markdown",
   "id": "051ad907-85ae-45d2-81c2-1b6822999844",
   "metadata": {},
   "source": [
    "By default, the output is not displayed in a \"nice\" way. You can display the output in a more readable form by using the ```init_printing()``` command from SymPy. This loads \"pretty\" printing for your entire active session."
   ]
  },
  {
   "cell_type": "code",
   "execution_count": null,
   "id": "f2f87940-53fe-4cfa-ae77-569d1eb7105c",
   "metadata": {},
   "outputs": [],
   "source": [
    "init_printing()\n",
    "(3*(2+1/2)**2)/(1/5 - 2/3)"
   ]
  },
  {
   "cell_type": "markdown",
   "id": "9b39c4db-c109-4dc5-bca9-baae79220f20",
   "metadata": {},
   "source": [
    "Note that despite our expression only containing only rational numbers, Python returns a real number approximation. If we want to see the true rational number we can use SymPy's ```Rational``` function"
   ]
  },
  {
   "cell_type": "code",
   "execution_count": null,
   "id": "206c73de-9194-49e4-a8c2-c3ea0e9203e5",
   "metadata": {},
   "outputs": [],
   "source": [
    "Rational((3*(2+1/2)**2)/(1/5 - 2/3))"
   ]
  },
  {
   "cell_type": "markdown",
   "id": "bd509fb8-b58d-47de-8f2b-e609de9c7bae",
   "metadata": {},
   "source": [
    "Or we can round to any number of decimals we wish"
   ]
  },
  {
   "cell_type": "code",
   "execution_count": null,
   "id": "87f5d71a-e3d3-4c9b-9065-61478e098ec4",
   "metadata": {},
   "outputs": [],
   "source": [
    "round((3*(2+1/2)**2)/(1/5 - 2/3), 5)"
   ]
  },
  {
   "cell_type": "markdown",
   "id": "2e99106b-f0de-49cd-9250-04afac02af4a",
   "metadata": {},
   "source": [
    "A second way in which we could get a decimal approximation for a rational expression is load another python library. Python has a variety of useful libraries for performing mathematical and numerical computation that integrate smoothly with SymPy. For example, [NumPy](https://numpy.org/) is one very useful library for this."
   ]
  },
  {
   "cell_type": "code",
   "execution_count": null,
   "id": "9834f17a-c31d-45bb-9a90-712400bc0292",
   "metadata": {},
   "outputs": [],
   "source": [
    "import numpy as np\n",
    "\n",
    "np.round((3*(2+1/2)**2)/(1/5 - 2/3), 5)"
   ]
  },
  {
   "cell_type": "markdown",
   "id": "0c35c43d-f85d-4870-b9db-c3e8aadf166a",
   "metadata": {
    "tags": []
   },
   "source": [
    "## 4. Predefined Functions and Constants\n",
    "SymPy has many of the common math functions and constants predefined. Most of these can be referenced by their normal notation. Note how SymPy has no issue calculating $\\sqrt{100}$, $\\sqrt[3]{54}$, $e^{0}$, $\\cos(\\pi)$ and $\\arcsin\\left(\\dfrac{1}{2}\\right)$. "
   ]
  },
  {
   "cell_type": "code",
   "execution_count": null,
   "id": "94fd514d-c6d8-4018-968f-d45fdafb9972",
   "metadata": {},
   "outputs": [],
   "source": [
    "sqrt(100)"
   ]
  },
  {
   "cell_type": "code",
   "execution_count": null,
   "id": "e3881fcb-0d31-4847-a23c-c7aaf043a4c1",
   "metadata": {},
   "outputs": [],
   "source": [
    "(54)**(1/3)"
   ]
  },
  {
   "cell_type": "code",
   "execution_count": null,
   "id": "4bf65bdf-a29a-4ee2-8fb9-33a9c3eb8773",
   "metadata": {},
   "outputs": [],
   "source": [
    "exp(0)"
   ]
  },
  {
   "cell_type": "code",
   "execution_count": null,
   "id": "c205e4a4-ec43-4fa1-b4f1-e2ce78c378c0",
   "metadata": {},
   "outputs": [],
   "source": [
    "cos(pi)"
   ]
  },
  {
   "cell_type": "code",
   "execution_count": null,
   "id": "541cac4a-d3db-4c89-b853-0e6c3ec50b43",
   "metadata": {},
   "outputs": [],
   "source": [
    "asin(1/2)"
   ]
  },
  {
   "cell_type": "markdown",
   "id": "ba6b35a5-c2c6-4e7f-9f7e-b01a054090bb",
   "metadata": {},
   "source": [
    "It is helpful to use auto-complete when you forget the exact name of the function you want to use or the function name is long. You can auto-complete by typing in something and then pressing the `tab` key. Try typing `as` in the cell below and then hitting `tab` to see all functions that start with \"as\", and then navigate down with the down key to select ```asin``` (**Note**: If you are using Google Colab you do not have to press `tab`, the dropdown menu should autopopulate if you pause before typing another letter)."
   ]
  },
  {
   "cell_type": "code",
   "execution_count": null,
   "id": "343bab70-fa95-4756-9ef7-510853f97361",
   "metadata": {},
   "outputs": [],
   "source": []
  },
  {
   "cell_type": "markdown",
   "id": "bbad4786-7063-4fba-9b52-44b882c833e6",
   "metadata": {},
   "source": [
    "You can get information about any predefined function by simply ending the function name with a ```?```. Try this for ```asin``` in a new cell below this one."
   ]
  },
  {
   "cell_type": "markdown",
   "id": "b16b07fc-e901-4dd5-bf5e-11671253ab9e",
   "metadata": {
    "tags": []
   },
   "source": [
    "## 5. Assigning Expressions to Names \n",
    "\n",
    "Python allows us to assign an expression to a name so that it can easily be referenced throughout the entire notebook. For example, we can assign $\\dfrac{\\pi}{2}$ to the name ```a``` by doing the following."
   ]
  },
  {
   "cell_type": "code",
   "execution_count": null,
   "id": "de42e562-4fd1-4382-9f61-dec0a948012d",
   "metadata": {},
   "outputs": [],
   "source": [
    "a = pi/2"
   ]
  },
  {
   "cell_type": "markdown",
   "id": "9cb6c8f0-373c-4d42-8061-a44226607aef",
   "metadata": {},
   "source": [
    "Note that there is no output whenever you are making an assignment. We can check that ```a``` really has been assigned to $\\dfrac{\\pi}{2}$ by entering it into an input cell by itself and evaluating"
   ]
  },
  {
   "cell_type": "code",
   "execution_count": null,
   "id": "7d0309b8-936d-470e-b8dc-68ec10e18a1a",
   "metadata": {},
   "outputs": [],
   "source": [
    "a"
   ]
  },
  {
   "cell_type": "markdown",
   "id": "5f965af9-6f01-4938-9fa6-4aaf8bfdddae",
   "metadata": {},
   "source": [
    "Now, whenever we use ```a``` throughout the entire notebook, it will be referring to $\\dfrac{\\pi}{2}$. If we wanted to reassign ```a``` to something else, all we have to do is set it equal to the new value."
   ]
  },
  {
   "cell_type": "code",
   "execution_count": null,
   "id": "e789ec74-b86c-404b-b507-ee04055c9926",
   "metadata": {},
   "outputs": [],
   "source": [
    "a = pi/3\n",
    "a"
   ]
  },
  {
   "cell_type": "markdown",
   "id": "5947e4aa-54e0-46a8-af25-35ada57ac891",
   "metadata": {},
   "source": [
    "Note that this time, we did not see the output of the initial assignment of `a` in the first row. This is because we both assigned `a` to its new value and asked for output `a` in the same input cell. Jupyter allows multiple lines of code in the same cell and will execute all lines, however, it will only display the last line by default. For example"
   ]
  },
  {
   "cell_type": "code",
   "execution_count": null,
   "id": "09a22469-76f4-4b69-8292-c05313fc0cb6",
   "metadata": {},
   "outputs": [],
   "source": [
    "a\n",
    "a + 1\n",
    "a + 2"
   ]
  },
  {
   "cell_type": "markdown",
   "id": "65ee4fdf-7125-4625-a342-30e25e544d00",
   "metadata": {},
   "source": [
    "If you want to display the output of lines other than the last, use ```print(...)```"
   ]
  },
  {
   "cell_type": "code",
   "execution_count": null,
   "id": "3c421ddd-52b2-4456-9ef2-6f1658d54a0f",
   "metadata": {},
   "outputs": [],
   "source": [
    "print(a)\n",
    "print(a + 1)\n",
    "print(a + 2)"
   ]
  },
  {
   "cell_type": "markdown",
   "id": "a2e8715d-597d-4bc2-ba92-753582bc3d10",
   "metadata": {},
   "source": [
    "We can also \"pretty\" print the expressions using `pprint()`"
   ]
  },
  {
   "cell_type": "code",
   "execution_count": null,
   "id": "305821d8-52cb-4e0c-b3a8-75154d16496e",
   "metadata": {},
   "outputs": [],
   "source": [
    "pprint(a)\n",
    "pprint(a + 1)\n",
    "pprint(a + 2)"
   ]
  },
  {
   "cell_type": "markdown",
   "id": "01c82c51-3f53-41aa-9917-a488dc93b7fd",
   "metadata": {},
   "source": [
    "Another option that generally guarantees a $\\LaTeX$-like formatted output, is to load the `display` function from the `IPython` library."
   ]
  },
  {
   "cell_type": "code",
   "execution_count": null,
   "id": "476a5a6c-dad4-45ff-bdd9-c0c7fe5ee61f",
   "metadata": {},
   "outputs": [],
   "source": [
    "from IPython.display import display\n",
    "display(a)\n",
    "display(a + 1)\n",
    "display(a + 2)"
   ]
  },
  {
   "cell_type": "markdown",
   "id": "589cc620-66d6-4513-8a32-ccb5f4b3c4c2",
   "metadata": {},
   "source": [
    "Very nice!"
   ]
  },
  {
   "cell_type": "markdown",
   "id": "1bba6448-3ac4-41f9-a8ed-1f5305b41d8e",
   "metadata": {},
   "source": [
    "## 6. Creating Functions\n",
    "\n",
    "We can also create functions. For example, in order to create the function $f(x) = x^2$, we do the following."
   ]
  },
  {
   "cell_type": "code",
   "execution_count": null,
   "id": "4cece460-2eee-41cf-9dd6-76f2e4a70353",
   "metadata": {},
   "outputs": [],
   "source": [
    "def f(x):\n",
    "    return x^2"
   ]
  },
  {
   "cell_type": "markdown",
   "id": "4ff8e76e-ddbd-4c39-9ef1-0d6a543064bb",
   "metadata": {},
   "source": [
    "Note this is a interpreted as a 'function'"
   ]
  },
  {
   "cell_type": "code",
   "execution_count": null,
   "id": "2b5a6ce2-1d84-463d-9b91-39dd645073fa",
   "metadata": {},
   "outputs": [],
   "source": [
    "type(f)"
   ]
  },
  {
   "cell_type": "markdown",
   "id": "f7a60a7d-b29e-4a84-95e3-6b02d8c2e4a6",
   "metadata": {},
   "source": [
    "which is slightly different from a 'symbolic expression' which is written more simply as"
   ]
  },
  {
   "cell_type": "code",
   "execution_count": null,
   "id": "9c2218a9-198f-4289-b571-da814218a994",
   "metadata": {},
   "outputs": [],
   "source": [
    "g = x**2\n",
    "type(g)"
   ]
  },
  {
   "cell_type": "markdown",
   "id": "f4c4da02-cbe1-4715-ae0b-49ab2826d421",
   "metadata": {},
   "source": [
    "and can come in handy in some cases."
   ]
  },
  {
   "cell_type": "markdown",
   "id": "077d7ce0-cc64-4791-83be-5cb272f9e918",
   "metadata": {},
   "source": [
    "Simlilar to assignments, we do not see any output when creating a function. It is therefore good practice to call the function after creating it in order to verify that you created the intended function."
   ]
  },
  {
   "cell_type": "code",
   "execution_count": null,
   "id": "469442f2-0aa1-4dc8-8603-a849d3c838ab",
   "metadata": {},
   "outputs": [],
   "source": [
    "def f(x):\n",
    "    return x**2\n",
    "f(x)"
   ]
  },
  {
   "cell_type": "markdown",
   "id": "75e71f90-6837-4847-b098-2e3565a351d6",
   "metadata": {},
   "source": [
    "  Now that we have $f(x)$ defined, we can evaluate the function at different inputs."
   ]
  },
  {
   "cell_type": "code",
   "execution_count": null,
   "id": "f995d767-8403-4d51-add6-82271ab0ba98",
   "metadata": {},
   "outputs": [],
   "source": [
    "f(4)"
   ]
  },
  {
   "cell_type": "code",
   "execution_count": null,
   "id": "9cf88df3-b84c-467d-8b37-0d973487c557",
   "metadata": {},
   "outputs": [],
   "source": [
    "f(x) + 4"
   ]
  },
  {
   "cell_type": "code",
   "execution_count": null,
   "id": "6291d6ee-4767-4077-add6-45e4642a42ad",
   "metadata": {},
   "outputs": [],
   "source": [
    "f(f(x))"
   ]
  },
  {
   "cell_type": "markdown",
   "id": "720c1554-92ea-41dd-a5fd-355811f33d9d",
   "metadata": {},
   "source": [
    "What if we wanted to use the variable $t$ in place of $x$?"
   ]
  },
  {
   "cell_type": "code",
   "execution_count": null,
   "id": "8f9c90ce-2d91-4c0a-9961-29ce2816fd08",
   "metadata": {},
   "outputs": [],
   "source": [
    "f(t)"
   ]
  },
  {
   "cell_type": "markdown",
   "id": "76da91e7-17f8-4c4b-93c3-201bb2a68d75",
   "metadata": {},
   "source": [
    "We get an error saying that $t$ is not defined. The only variable that we've predefined is $x$ (way back in section 2). If we want to use other variables, such as $t$, then we will need to make $t$ a variable by using the ```var``` command."
   ]
  },
  {
   "cell_type": "code",
   "execution_count": null,
   "id": "59aa9fca-f5d3-4671-99ad-a32776528d36",
   "metadata": {},
   "outputs": [],
   "source": [
    "var('t')"
   ]
  },
  {
   "cell_type": "markdown",
   "id": "f114240a-3f8c-4bd0-8af9-05becbf235d5",
   "metadata": {},
   "source": [
    "Now we have no problem evaluating $f(t)$. "
   ]
  },
  {
   "cell_type": "code",
   "execution_count": null,
   "id": "e43e9ddd-7ffd-4e3c-80b2-3ed59fab90c1",
   "metadata": {},
   "outputs": [],
   "source": [
    "f(t)"
   ]
  },
  {
   "cell_type": "markdown",
   "id": "d42d5497-d921-41bd-be00-3730040b8309",
   "metadata": {},
   "source": [
    "It is also possible to define functions without specifying the exact form. For instance, we can define $f$ to be a generic function of $x$ with"
   ]
  },
  {
   "cell_type": "code",
   "execution_count": null,
   "id": "5647f624-ca89-4b32-95eb-4c1d1c69fdce",
   "metadata": {},
   "outputs": [],
   "source": [
    "f = Function('f')(x)"
   ]
  },
  {
   "cell_type": "markdown",
   "id": "3f6ef8a4-8f18-439d-9f61-5a482f646741",
   "metadata": {},
   "source": [
    "And this allows us to then do things like take the derivative of $f$ with respect to $x$ without knowing what $f(x)$ is exactly"
   ]
  },
  {
   "cell_type": "code",
   "execution_count": null,
   "id": "2c04016a-70c6-4f82-9373-0a0be523a6a7",
   "metadata": {},
   "outputs": [],
   "source": [
    "diff(f, x)"
   ]
  },
  {
   "cell_type": "markdown",
   "id": "0e41a0be-0c59-44f2-bdd5-5835886036c6",
   "metadata": {},
   "source": [
    "Since we don't know the function we don't know the derivative, but Python now knows this might not be zero."
   ]
  },
  {
   "cell_type": "markdown",
   "id": "7c6c85ca-92ac-4969-b83e-8dcad56e7ec2",
   "metadata": {},
   "source": [
    "In contrast, if we don't specify that $f$ is a function of $x$ then Python will assume it is not a function of $x$ and the derivative is therefore zero"
   ]
  },
  {
   "cell_type": "code",
   "execution_count": null,
   "id": "142e22cd-bd2c-4ed9-9ca8-945970396d38",
   "metadata": {},
   "outputs": [],
   "source": [
    "f = var('f')\n",
    "diff(f,x)"
   ]
  },
  {
   "cell_type": "markdown",
   "id": "1d089818-7953-49e0-aa6f-6182c81b82b5",
   "metadata": {
    "tags": []
   },
   "source": [
    "## 7. Manipulating expressions and functions"
   ]
  },
  {
   "cell_type": "markdown",
   "id": "d3a61ac8-0e34-4876-ad35-068f75ceb50a",
   "metadata": {},
   "source": [
    "Sometimes we will want to simplify expressions to make them easier to understand and easier to work with downstream."
   ]
  },
  {
   "cell_type": "markdown",
   "id": "21f016d7-2b70-48cf-943f-83a6fb8fb44e",
   "metadata": {},
   "source": [
    "Here is a simple example where the function `simplify` comes in handy"
   ]
  },
  {
   "cell_type": "code",
   "execution_count": null,
   "id": "946d3079-4983-4804-a142-d912e33f7054",
   "metadata": {},
   "outputs": [],
   "source": [
    "a = (sqrt(2) - 1)*(sqrt(2)+1)\n",
    "display(a)\n",
    "a.simplify()"
   ]
  },
  {
   "cell_type": "markdown",
   "id": "f3329bda-cbb4-486b-93b9-b9453edf161f",
   "metadata": {},
   "source": [
    "Note that this \"function\", ```simplify```, is actually a \"method\" applied only to Sympy expressions (here ```a```) and not a stand-alone function. This is why we use it by placing ```.simplify()``` after the expression we want to simplify, rather than ```simplify(a)```. Above `a` was a Sympy expression because it contained the SymPy function `sqrt`. If `a` was not a SymPy expression we would get an error, for example "
   ]
  },
  {
   "cell_type": "code",
   "execution_count": null,
   "id": "0a790610-1cd2-4019-936e-44852e81dbac",
   "metadata": {},
   "outputs": [],
   "source": [
    "a = 5 + 1\n",
    "display(a)\n",
    "a.simplify()"
   ]
  },
  {
   "cell_type": "markdown",
   "id": "14ea24e9-6c1a-4a6a-86ca-e8b81c818ca0",
   "metadata": {},
   "source": [
    "And here is an example where we can use ```factor``` to factor an expression into a simpler form (note we can use factor as a method, ```a.factor()```, or as a stand-alone function, ```factor(a)```)"
   ]
  },
  {
   "cell_type": "code",
   "execution_count": null,
   "id": "623015aa-36a6-482b-bbf9-a393be8dfb60",
   "metadata": {},
   "outputs": [],
   "source": [
    "a = x**2 + 2*x + 1\n",
    "display(a)\n",
    "display(factor(a))\n",
    "display(a.factor())"
   ]
  },
  {
   "cell_type": "markdown",
   "id": "3971170b-508d-4b93-afb5-a7b66eb7188f",
   "metadata": {},
   "source": [
    "(We can only apply the method to Sympy expressions, but the function works on any expression. Try it out.)"
   ]
  },
  {
   "cell_type": "markdown",
   "id": "e35736aa-cb88-4f42-92ec-bf4a996d68ad",
   "metadata": {},
   "source": [
    "We can undo the work of factor with ```expand```"
   ]
  },
  {
   "cell_type": "code",
   "execution_count": null,
   "id": "c26ad455-094e-4ad0-acb9-5ca58c90438b",
   "metadata": {},
   "outputs": [],
   "source": [
    "a = x**2 + 2*x + 1\n",
    "display(a)\n",
    "b = factor(a)\n",
    "display(b)\n",
    "c = expand(b)\n",
    "display(c)"
   ]
  },
  {
   "cell_type": "markdown",
   "id": "06e28d86-f00b-4ab2-9651-32acfb37adaa",
   "metadata": {},
   "source": [
    "We can also substitute values into an expression using ```subs```"
   ]
  },
  {
   "cell_type": "code",
   "execution_count": null,
   "id": "6d175973-fb68-48b7-bf6f-a69d6eb1db1b",
   "metadata": {},
   "outputs": [],
   "source": [
    "a = 2 * x\n",
    "display(a)\n",
    "display(a.subs({'x': 1}))"
   ]
  },
  {
   "cell_type": "markdown",
   "id": "47303dc3-3be1-40fd-9d26-9deb6819b63e",
   "metadata": {},
   "source": [
    "The object `{'x': 1}` is called a dictionary in python. It stores values (e.g. 1) that can be accessed by calling the associated key (e.g. `'x'`). To make this a bit more concrete, here's another example"
   ]
  },
  {
   "cell_type": "code",
   "execution_count": null,
   "id": "fac94755-0bf6-4e8e-9175-66524f4323e7",
   "metadata": {},
   "outputs": [],
   "source": [
    "d = {'a': 2, 'b': 4, 'c': 'z', 'd': [1, 2, 3]}\n",
    "print(d['a'])\n",
    "print(d['b'])\n",
    "print(d['c'])\n",
    "print(d['d'])"
   ]
  },
  {
   "cell_type": "markdown",
   "id": "42f697db-2866-4f4b-ae9a-7411b8297dd2",
   "metadata": {},
   "source": [
    "Notice that each key can store values of different types."
   ]
  },
  {
   "cell_type": "markdown",
   "id": "6eb5f659-578a-44f7-bcc8-2175e38b3e17",
   "metadata": {},
   "source": [
    "If we are just making one substitution at a time you can also just list the parameter and its value like so"
   ]
  },
  {
   "cell_type": "code",
   "execution_count": null,
   "id": "58681a35-8635-4ab7-a2ca-66ba491f2c8b",
   "metadata": {},
   "outputs": [],
   "source": [
    "a.subs(x,1)"
   ]
  },
  {
   "cell_type": "markdown",
   "id": "ca9e79f8-f3ab-4148-bb10-24a9052bd822",
   "metadata": {},
   "source": [
    "## 8. Calculus"
   ]
  },
  {
   "cell_type": "markdown",
   "id": "1897807d-9f9e-47b0-9903-de97fc344ebb",
   "metadata": {},
   "source": [
    "We can also use SymPy to do some calculus."
   ]
  },
  {
   "cell_type": "markdown",
   "id": "e23637c5-6a9d-4b1d-b6dc-96968fcd8ad6",
   "metadata": {},
   "source": [
    "For example, we can use the definition of a derivative to calculate the derivative of our function f"
   ]
  },
  {
   "cell_type": "code",
   "execution_count": null,
   "id": "021b36aa-aed5-45fd-9213-b4c1c466e9f6",
   "metadata": {},
   "outputs": [],
   "source": [
    "def f(x):\n",
    "    return x**2\n",
    "f(x)"
   ]
  },
  {
   "cell_type": "code",
   "execution_count": null,
   "id": "34fc513b-395b-4f2c-9abc-6f6b517d6f44",
   "metadata": {},
   "outputs": [],
   "source": [
    "var('x, h')\n",
    "limit((f(x+h) - f(x))/h, h, 0)"
   ]
  },
  {
   "cell_type": "markdown",
   "id": "c44aaae7-869a-46be-b29d-789f9c5e8d04",
   "metadata": {},
   "source": [
    "Or we can just use the predefined function ```diff```, which takes as its first argument the function and as its second argument the variable we are taking the derivative with respect to"
   ]
  },
  {
   "cell_type": "code",
   "execution_count": null,
   "id": "638a6e4f-535e-4449-b586-3bb912256325",
   "metadata": {},
   "outputs": [],
   "source": [
    "diff(f(x), x)"
   ]
  },
  {
   "cell_type": "markdown",
   "id": "f3f35f15-675f-41bb-bdd0-abe6f51fa317",
   "metadata": {},
   "source": [
    "We can also take the 2nd derivative (or higher) by adding an option to ```diff```. To take multiple derivatives, you can pass the variable multiple times, or you can add a number after the variable."
   ]
  },
  {
   "cell_type": "code",
   "execution_count": null,
   "id": "beb5f171-7da6-4601-a375-ac806764f440",
   "metadata": {},
   "outputs": [],
   "source": [
    "# Second derivative\n",
    "display(diff(f(x), x, x))\n",
    "\n",
    "# Also second derivative\n",
    "diff(f(x), x, 2)"
   ]
  },
  {
   "cell_type": "markdown",
   "id": "746c1e01-a762-4a7f-85dc-8c17b63d90ab",
   "metadata": {},
   "source": [
    "And we can also integrate. To get the indefinite integral we simplify tell the function ```integrate``` what function we want the intergral of (our integrand) and what variable we want to integrate over"
   ]
  },
  {
   "cell_type": "code",
   "execution_count": null,
   "id": "dd5b72f8-4d22-4d76-bbcb-1842e5954ba3",
   "metadata": {},
   "outputs": [],
   "source": [
    "integrate(f(x),x)"
   ]
  },
  {
   "cell_type": "markdown",
   "id": "fa0040e1-9300-4cfb-a7cc-07ab0a72af75",
   "metadata": {},
   "source": [
    "and to get the definite integral we also pass the upper and lower bounds of the variable"
   ]
  },
  {
   "cell_type": "code",
   "execution_count": null,
   "id": "ce3c469e-e34a-4ad2-bf18-d6d7b9a9a975",
   "metadata": {},
   "outputs": [],
   "source": [
    "integrate(f(x), (x,0,1))"
   ]
  },
  {
   "cell_type": "markdown",
   "id": "7723f020-1b73-40b8-9da7-18da7dee23af",
   "metadata": {},
   "source": [
    "and these bounds can themselves be symbolic"
   ]
  },
  {
   "cell_type": "code",
   "execution_count": null,
   "id": "bb28f1f6-f60b-4dea-9875-d4cadaafddfb",
   "metadata": {},
   "outputs": [],
   "source": [
    "var('a,b')\n",
    "integrate(f(x), (x,a,b))"
   ]
  },
  {
   "cell_type": "markdown",
   "id": "9e8c45dd-4793-4a92-ac19-47c568c16458",
   "metadata": {},
   "source": [
    "## 9. Plotting\n",
    "\n",
    "We'll next look at how to plot. First, create a cell below and define the function $g(x) = \\dfrac{\\sin(x)}{x}$."
   ]
  },
  {
   "cell_type": "code",
   "execution_count": null,
   "id": "08c7684d-4178-4509-8a77-fa7287fda61f",
   "metadata": {},
   "outputs": [],
   "source": [
    "def g(x):\n",
    "    return sin(x) / x"
   ]
  },
  {
   "cell_type": "markdown",
   "id": "59b059bc-1e1d-440b-9296-cd1d174362b8",
   "metadata": {},
   "source": [
    "Now, plot $g(x)$ by using the function ```plot(g(x))```."
   ]
  },
  {
   "cell_type": "code",
   "execution_count": null,
   "id": "f032643a-1912-432f-9a1f-2275aff86896",
   "metadata": {},
   "outputs": [],
   "source": [
    "plot(g(x))"
   ]
  },
  {
   "cell_type": "markdown",
   "id": "8d45d6be-58c7-41da-8498-31f3d06b934b",
   "metadata": {},
   "source": [
    "The function ```plot()``` can take inputs other than just $g(x)$. The other inputs allow you to change specific characteristics about the graph of the function such as the $x$-range and $y$-range, the color, the linestyle, etc. To see a detailed description about use the `?` method described above (for `asin`) in a new cell below."
   ]
  },
  {
   "cell_type": "markdown",
   "id": "d11bc85c-4a6d-47bb-b384-daa6ce506245",
   "metadata": {
    "tags": []
   },
   "source": [
    "For example, we can run the following code to display the graph of $g(x)$ in a window that goes from $[-5,5]$ on the $x$-axis and $[-1,1]$ on the $y$-axis, changes the graph color to red, and changes the linestyle to dashed."
   ]
  },
  {
   "cell_type": "code",
   "execution_count": null,
   "id": "85b466a2-7fef-4826-9060-036872e4217a",
   "metadata": {},
   "outputs": [],
   "source": [
    "plot(g(x), xlim= (-5, 5), ylim=(-1, 1), line_color = 'red')"
   ]
  },
  {
   "cell_type": "markdown",
   "id": "504efc24-13d9-4e8f-8130-ffe512e67b0a",
   "metadata": {},
   "source": [
    "SymPy also has the ability to graph multiple functions at once. When plotting multiple functions at the same time, simply sequentially pass all the expressions as the first entries of the plot function. The following command plots both $g(x)$ and its derivative $g'(x)$ from $[-5,5]$ on the $x$-axis and $[-1,1]$ on the $y$-axis. It also plots $g(x)$ in green and $g'(x)$ in orange. Additonally, we add a legend to distinguish between the two functions in the graph. "
   ]
  },
  {
   "cell_type": "code",
   "execution_count": null,
   "id": "d3323b65-89fd-406c-999a-4a1280d82573",
   "metadata": {},
   "outputs": [],
   "source": [
    "p = plot(g(x), diff(g(x)), xlim=(-5,5),ylim=(-1,1), legend = ['g(x)', \"g'(x)\"], show=False)\n",
    "p[0].line_color = 'green'\n",
    "p[1].line_color = 'orange'\n",
    "p.show()"
   ]
  },
  {
   "cell_type": "markdown",
   "id": "facb1513-e71e-497f-8144-d99979e06f49",
   "metadata": {},
   "source": [
    "The plotting functionality of SymPy is actually a bit lackluster compared to other libraries and so in future labs we will build more complex plotting functions with `matplotlib`."
   ]
  },
  {
   "cell_type": "markdown",
   "id": "7267b64b-0673-4162-bbde-2edf0f36b3ae",
   "metadata": {
    "tags": []
   },
   "source": [
    "## 10. Converting a Jupyter Notebook to a PDF for Submission\n",
    "\n",
    "Once you are done with a lab, you will submit a PDF version of the notebook to Quercus for your TA to grade. Assuming you are using `Google Colab` to view this Notebook, you can save this notebook as a PDF by clicking `Print` from the `File` dropdown menu (use the Colab dropdown menu, not your browser's dropdown menu). Upload to Quercus.\n",
    "\n",
    "Please do this after completing the questions below."
   ]
  },
  {
   "cell_type": "markdown",
   "id": "1b6588d1-3695-40b2-a49a-e058931b5e61",
   "metadata": {},
   "source": [
    "## 11. Questions"
   ]
  },
  {
   "cell_type": "markdown",
   "id": "c7e515a9-45ce-493b-9e49-a01a5e15f95f",
   "metadata": {
    "tags": []
   },
   "source": [
    "### **Exponetial growth**"
   ]
  },
  {
   "cell_type": "markdown",
   "id": "aef95e0e-6c49-4c9f-8490-75273ed9f8c3",
   "metadata": {},
   "source": [
    "At any future point in time, $t$, the number of individuals predicted under exponential growth, $n(t)$, is\n",
    "given by the general solutions for:\n",
    "\n",
    "The discrete-time model: $n(t) = n_0 (1 + r)^t$\n",
    "\n",
    "The continuous-time model: $n(t) = n_0 e^{rt}$\n",
    "\n",
    "Where $n_0$ is the number of individuals at time $t=0$ and $r$ is the growth rate.\n",
    "\n",
    "Note that these are functions of three parameters: $t$, $r$, and $n_0$."
   ]
  },
  {
   "cell_type": "markdown",
   "id": "a79378cb-02ee-4f1d-87bc-2df48809b79b",
   "metadata": {},
   "source": [
    "a)  **Defining functions** [4 points]\n",
    "\n",
    "Define functions for each model."
   ]
  },
  {
   "cell_type": "code",
   "execution_count": null,
   "id": "8cdeff7a-62ed-4ee3-80fb-cd4dab943b83",
   "metadata": {},
   "outputs": [],
   "source": [
    "def nc(t,r,n0):\n",
    "    return n0*(1+r)**t\n",
    "\n",
    "def nd(t,r,n0):\n",
    "    return n0*exp(r*t)"
   ]
  },
  {
   "cell_type": "markdown",
   "id": "9fdfa48e-1433-4e7d-9d99-4e4ebd3b8ca0",
   "metadata": {},
   "source": [
    "b) **Evaluating functions** [1 point]"
   ]
  },
  {
   "cell_type": "markdown",
   "id": "e6579b5f-4ec6-45cd-8bfd-e185bca9c51d",
   "metadata": {},
   "source": [
    "What are the population sizes under the two models with the follow parameters and starting\n",
    "condition? \n",
    "- $t = 20$\n",
    "- $r = 0.2$\n",
    "- $n_0 = 2$"
   ]
  },
  {
   "cell_type": "code",
   "execution_count": null,
   "id": "fb287cce-bd28-455d-924b-0375cc50c3f5",
   "metadata": {},
   "outputs": [],
   "source": [
    "nc(20, 0.2, 2)"
   ]
  },
  {
   "cell_type": "code",
   "execution_count": null,
   "id": "0695f56b-616d-4fa7-87fa-bd8061c73afa",
   "metadata": {},
   "outputs": [],
   "source": [
    "nd(20, 0.2, 2)"
   ]
  },
  {
   "cell_type": "markdown",
   "id": "6873cc04-135f-4395-88fb-3058f3437c31",
   "metadata": {},
   "source": [
    "c) **Plotting functions** [5 points]"
   ]
  },
  {
   "cell_type": "markdown",
   "id": "f1b6d8e2-9b8d-4e5d-9619-07567c14e4ac",
   "metadata": {},
   "source": [
    "Plot the two functions on the same plot from $t=0$ to $t = 20$ with parameter values $r = 0.2$ and $n_0=2$. Use `plot?` or see https://docs.sympy.org/latest/modules/plotting.html#sympy.plotting.plot.plot if you need some help (or ask your friend Google -- hits from [Stack Overflow](https://stackoverflow.com/) often have the answer)."
   ]
  },
  {
   "cell_type": "code",
   "execution_count": null,
   "id": "4951e83b-8ba7-49e2-a9cc-de1199bbc03e",
   "metadata": {},
   "outputs": [],
   "source": [
    "plot(nc(t,0.2,2), nd(t,0.2,2), (t,0,20)) "
   ]
  },
  {
   "cell_type": "markdown",
   "id": "eb1d1280-e47d-4eb7-a51f-247d7dccc24c",
   "metadata": {},
   "source": [
    "Note: Above you may have plotted the discrete time equation as a continuous function of time (ie for all values of $t$). This is a little misleading since in the discrete time model we are modelling population size only at integer values of time. Can you figure out how to plot the discrete time function only at integer values of $t$? Hint: try out a function from the matplotlib library, https://matplotlib.org/stable/api/_as_gen/matplotlib.pyplot.scatter.html"
   ]
  },
  {
   "cell_type": "markdown",
   "id": "d019fec7-d0b3-4bff-823b-7e47683e6eae",
   "metadata": {},
   "source": [
    "## 11. Practice questions"
   ]
  },
  {
   "cell_type": "markdown",
   "id": "0fe9bae5-9a01-4930-a445-1b1455c3156e",
   "metadata": {},
   "source": [
    "If you'd like more practice with Jupyter, Python, and SymPy, do the questions below or write some of your own code. These will not be marked."
   ]
  },
  {
   "cell_type": "markdown",
   "id": "b2a2d324-eb9a-46b1-b6d4-103d4eacd14e",
   "metadata": {},
   "source": [
    "### Q1. **Practice factoring**. \n",
    "\n",
    "Factor the following equations:\n",
    "- $1 + 3x + 2x^2$\n",
    "- $(1-x^2)/(1-x)$\n",
    "- $2 - 5x - 12x^2$\n",
    "\n",
    "And for a little algebra practice, check these by hand."
   ]
  },
  {
   "cell_type": "markdown",
   "id": "36a733bd-3567-4c71-a488-c280ebb84291",
   "metadata": {},
   "source": [
    "### Q2. **Practice derivatives**. \n",
    "Take derivatives of the following functions with respect to x:\n",
    "- $1 + 3x + 2x^2$\n",
    "- $(1-x^2)/(1-x)$\n",
    "- $x^3 y^2$\n",
    "- $x^3 y(x)^2$ (here y is a function of x)\n",
    "\n",
    "For a little calculus practice, check these by hand."
   ]
  },
  {
   "cell_type": "markdown",
   "id": "42eab225-fe55-4134-bfc3-dcf52e6f61bf",
   "metadata": {
    "tags": []
   },
   "source": [
    "### Q3. **Practice indefinite integrals**. \n",
    "Take the integral of the following functions with respect to x:\n",
    "- $1 + 3x + 2x^2$\n",
    "- $(1-x^2)/(1-x)$\n",
    "- $x^3 y^2$\n",
    "- $x^3 y(x)^2$\n",
    "\n",
    "For a little calculus practice, check these by hand.\n",
    "\n",
    "Hint: for the final integral, define y as an unknown function of x (as we did above with f). Can SymPy integrate an unknown function?"
   ]
  },
  {
   "cell_type": "markdown",
   "id": "71ef1ff1-9e9f-4e0a-ae57-7b038f06fbf5",
   "metadata": {},
   "source": [
    "### Q4. **Practice definite integrals**. \n",
    "Take integral of the following functions with respect to x between 0 and 1:\n",
    "- $1 + 3x + 2x^2$\n",
    "- $(1-x^2)/(1-x)$\n",
    "- $x^3 y^2$\n",
    "- $\\pi x^3$\n",
    "\n",
    "For a little calculus practice, check these by hand."
   ]
  },
  {
   "cell_type": "markdown",
   "id": "57a2462e-f4e2-4091-96c4-5dc2d78b181e",
   "metadata": {
    "tags": []
   },
   "source": [
    "### Q5. **The limits of our knowledge**. \n",
    "Find a function that SymPy cannot integrate."
   ]
  },
  {
   "cell_type": "markdown",
   "id": "f1bdc2ea-ae83-4125-a6b7-09db7cbc2383",
   "metadata": {},
   "source": [
    "### Q6. **Practice plotting**. \n",
    "Plot the following functions from x=0 to x=1:\n",
    "- $1 + 3x + 2x^2$\n",
    "- $(1-x^2)/(1-x)$\n",
    "- $2 - 5x - 12x^2$"
   ]
  },
  {
   "cell_type": "code",
   "execution_count": null,
   "id": "c1777a53-40fc-48b3-b17f-ec41ac131365",
   "metadata": {},
   "outputs": [],
   "source": []
  }
 ],
 "metadata": {
  "kernelspec": {
   "display_name": "sympy",
   "language": "python",
   "name": "sympy"
  },
  "language_info": {
   "codemirror_mode": {
    "name": "ipython",
    "version": 3
   },
   "file_extension": ".py",
   "mimetype": "text/x-python",
   "name": "python",
   "nbconvert_exporter": "python",
   "pygments_lexer": "ipython3",
   "version": "3.9.13"
  }
 },
 "nbformat": 4,
 "nbformat_minor": 5
}
