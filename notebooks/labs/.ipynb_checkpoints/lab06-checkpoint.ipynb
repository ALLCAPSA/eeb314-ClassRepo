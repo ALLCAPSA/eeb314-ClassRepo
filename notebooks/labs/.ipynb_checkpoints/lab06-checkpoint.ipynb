{
 "cells": [
  {
   "cell_type": "markdown",
   "metadata": {},
   "source": [
    "# Lab 6 - Linear algebra"
   ]
  },
  {
   "cell_type": "markdown",
   "metadata": {},
   "source": [
    "As part of our linear algebra \"review\" let's see how Python/SymPy can make our lives easier when working with vectors and matrices. For more information see https://docs.sympy.org/latest/modules/matrices/matrices.html#linear-algebra."
   ]
  },
  {
   "cell_type": "code",
   "execution_count": null,
   "metadata": {},
   "outputs": [],
   "source": [
    "from sympy import * #import all (*) of the sympy library"
   ]
  },
  {
   "cell_type": "markdown",
   "metadata": {},
   "source": [
    "Let's start by creating a general 3x3 matrix $M$"
   ]
  },
  {
   "cell_type": "code",
   "execution_count": null,
   "metadata": {},
   "outputs": [],
   "source": [
    "var('m11,m12,m13,m21,m22,m23,m31,m32,m33') #define symbols that we'll use as matrix elements\n",
    "M = Matrix([[m11,m12,m13], #convert list of lists (where inner lists are rows) into SymPy Matrix \n",
    "            [m21,m22,m23],\n",
    "            [m31,m32,m33]])\n",
    "M #print matrix to see result"
   ]
  },
  {
   "cell_type": "markdown",
   "metadata": {},
   "source": [
    "We can also do this by separately providing the dimensions of the matrix and a list of elements"
   ]
  },
  {
   "cell_type": "code",
   "execution_count": null,
   "metadata": {},
   "outputs": [],
   "source": [
    "M = Matrix(3,3, #dimensions\n",
    "           [m11,m12,m13,m21,m22,m23,m31,m32,m33]) #elements\n",
    "M"
   ]
  },
  {
   "cell_type": "markdown",
   "metadata": {},
   "source": [
    "We can use the same ```Matrix``` function to create vectors (which are matrices with one of the dimensions equal to 1). Let's first make a 3 dimensional row vector, $v$"
   ]
  },
  {
   "cell_type": "code",
   "execution_count": null,
   "metadata": {},
   "outputs": [],
   "source": [
    "var('v1,v2,v3') #define symbols\n",
    "v = Matrix([[v1,v2,v3]]) #a row vector is a matrix with just one row\n",
    "v"
   ]
  },
  {
   "cell_type": "markdown",
   "metadata": {},
   "source": [
    "To make a 3 dimensional column vector we can write out the three rows"
   ]
  },
  {
   "cell_type": "code",
   "execution_count": null,
   "metadata": {},
   "outputs": [],
   "source": [
    "v = Matrix([[v1], #a column vector is a matrix with just one column\n",
    "            [v2],\n",
    "            [v3]]) \n",
    "v"
   ]
  },
  {
   "cell_type": "markdown",
   "metadata": {},
   "source": [
    "We can switch between row and column vectors by taking the transpose"
   ]
  },
  {
   "cell_type": "code",
   "execution_count": null,
   "metadata": {},
   "outputs": [],
   "source": [
    "v = v.transpose()\n",
    "v"
   ]
  },
  {
   "cell_type": "code",
   "execution_count": null,
   "metadata": {},
   "outputs": [],
   "source": [
    "v = v.transpose()\n",
    "v"
   ]
  },
  {
   "cell_type": "markdown",
   "metadata": {},
   "source": [
    "We can multiply by scalars and add and subtract as we did before"
   ]
  },
  {
   "cell_type": "code",
   "execution_count": null,
   "metadata": {},
   "outputs": [],
   "source": [
    "M + 2*M"
   ]
  },
  {
   "cell_type": "code",
   "execution_count": null,
   "metadata": {},
   "outputs": [],
   "source": [
    "v - 3*v"
   ]
  },
  {
   "cell_type": "markdown",
   "metadata": {},
   "source": [
    "We can also multiply as we did before"
   ]
  },
  {
   "cell_type": "code",
   "execution_count": null,
   "metadata": {},
   "outputs": [],
   "source": [
    "M * M"
   ]
  },
  {
   "cell_type": "markdown",
   "metadata": {},
   "source": [
    "Though we need to be careful the dimensions are appropriate. For instance, if we try to mutliply two column (or row) vectors by each other we get an error telling us we have 'Matrix size mismatch'"
   ]
  },
  {
   "cell_type": "code",
   "execution_count": null,
   "metadata": {},
   "outputs": [],
   "source": [
    "v * v"
   ]
  },
  {
   "cell_type": "markdown",
   "metadata": {},
   "source": [
    "If you get this error, a good first check is to look at the dimensions of your vectors and matrices with the ```shape``` function"
   ]
  },
  {
   "cell_type": "code",
   "execution_count": null,
   "metadata": {},
   "outputs": [],
   "source": [
    "v.shape"
   ]
  },
  {
   "cell_type": "markdown",
   "metadata": {},
   "source": [
    "To multiply two matrices together we need the number of columns in the first to equal the number of rows in the second. So in the special case of vectors, we can only multiply a column vector (3x1) by a row vector (1x3) or vice versa (1x3, 3x1)"
   ]
  },
  {
   "cell_type": "code",
   "execution_count": null,
   "metadata": {},
   "outputs": [],
   "source": [
    "v * transpose(v)"
   ]
  },
  {
   "cell_type": "code",
   "execution_count": null,
   "metadata": {},
   "outputs": [],
   "source": [
    "transpose(v) * v"
   ]
  },
  {
   "cell_type": "markdown",
   "metadata": {},
   "source": [
    "We also have to be careful the dimensions match when multiplying vectors by matrices. We can't mutliply a column vector by a matrix on the right"
   ]
  },
  {
   "cell_type": "code",
   "execution_count": null,
   "metadata": {},
   "outputs": [],
   "source": [
    "v * M"
   ]
  },
  {
   "cell_type": "markdown",
   "metadata": {},
   "source": [
    "but we can multiply a column vector by a matrix on the left"
   ]
  },
  {
   "cell_type": "code",
   "execution_count": null,
   "metadata": {},
   "outputs": [],
   "source": [
    "M * v"
   ]
  },
  {
   "cell_type": "markdown",
   "metadata": {},
   "source": [
    "To visualize vectors and how they are transformed by matrix multiplication, let's turn to a numerical example with a 2 dimensional vector and a 2x2 matrix"
   ]
  },
  {
   "cell_type": "code",
   "execution_count": null,
   "metadata": {},
   "outputs": [],
   "source": [
    "v = Matrix([[1], #2 dimensional column vector\n",
    "            [1]])\n",
    "M = Matrix([[1,0], #2x2 matrix\n",
    "            [0,2]]) \n",
    "v"
   ]
  },
  {
   "cell_type": "markdown",
   "metadata": {},
   "source": [
    "We first plot the original vector"
   ]
  },
  {
   "cell_type": "code",
   "execution_count": null,
   "metadata": {},
   "outputs": [],
   "source": [
    "import matplotlib.pyplot as plt #import plotting library"
   ]
  },
  {
   "cell_type": "code",
   "execution_count": null,
   "metadata": {},
   "outputs": [],
   "source": [
    "plt.arrow(0, 0, #starting x and y values of arrow\n",
    "          float(v[0]), float(v[1]), #change in x and y (here need to convert elements of vector to floats)\n",
    "          head_width=0.1, color='black') #aesthetics\n",
    "plt.xlim(0,2.5) #set bounds on x axis\n",
    "plt.ylim(0,2.5) #set bounds on y axis\n",
    "plt.show()"
   ]
  },
  {
   "cell_type": "markdown",
   "metadata": {},
   "source": [
    "and now we add the transformed vector we get by multiplying the original vector by the matrix"
   ]
  },
  {
   "cell_type": "code",
   "execution_count": null,
   "metadata": {},
   "outputs": [],
   "source": [
    "u = M * v # multiplying by the matrix transforms the original vector v into a new vector u\n",
    "u"
   ]
  },
  {
   "cell_type": "code",
   "execution_count": null,
   "metadata": {},
   "outputs": [],
   "source": [
    "colors = ['black','blue']\n",
    "i = 0 #color index\n",
    "for x in [v,u]: #for the old and new vector\n",
    "    plt.arrow(0, 0, #starting x and y values of arrow\n",
    "          float(x[0]), float(x[1]), #change in x and y (here need to convert elements of vector to floats)\n",
    "          head_width=0.1, color=colors[i]) #aesthetics\n",
    "    i = i + 1\n",
    "plt.xlim(0,2.5)\n",
    "plt.ylim(0,2.5)\n",
    "plt.show()"
   ]
  },
  {
   "cell_type": "markdown",
   "metadata": {},
   "source": [
    "In this case we see that multiplying by the matrix simply doubles the second entry (y value) of the original (black) vector while leaving the first entry (x value) unchanged."
   ]
  },
  {
   "cell_type": "markdown",
   "metadata": {},
   "source": [
    "We can make a few special vectors and matrices quickly, like an identity matrix (I = \"eye\" :D)"
   ]
  },
  {
   "cell_type": "code",
   "execution_count": null,
   "metadata": {},
   "outputs": [],
   "source": [
    "eye(2) #provide the dimension"
   ]
  },
  {
   "cell_type": "markdown",
   "metadata": {},
   "source": [
    "a matrix (or vector) of zeros"
   ]
  },
  {
   "cell_type": "code",
   "execution_count": null,
   "metadata": {},
   "outputs": [],
   "source": [
    "zeros(2,2) #provide the dimensions"
   ]
  },
  {
   "cell_type": "markdown",
   "metadata": {},
   "source": [
    "or a diagonal matrix"
   ]
  },
  {
   "cell_type": "code",
   "execution_count": null,
   "metadata": {},
   "outputs": [],
   "source": [
    "diag(3,2,1) #provide the entries along the diagonal"
   ]
  },
  {
   "cell_type": "markdown",
   "metadata": {},
   "source": [
    "We can also extract properties of a matrix, like the trace"
   ]
  },
  {
   "cell_type": "code",
   "execution_count": null,
   "metadata": {},
   "outputs": [],
   "source": [
    "M = Matrix([[m11,m12,m13], #convert list of lists (where inner lists are rows) into SymPy Matrix \n",
    "            [m21,m22,m23],\n",
    "            [m31,m32,m33]])\n",
    "M.trace()"
   ]
  },
  {
   "cell_type": "markdown",
   "metadata": {},
   "source": [
    "determinant"
   ]
  },
  {
   "cell_type": "code",
   "execution_count": null,
   "metadata": {},
   "outputs": [],
   "source": [
    "M.det()"
   ]
  },
  {
   "cell_type": "markdown",
   "metadata": {},
   "source": [
    "transpose"
   ]
  },
  {
   "cell_type": "code",
   "execution_count": null,
   "metadata": {},
   "outputs": [],
   "source": [
    "M.transpose()"
   ]
  },
  {
   "cell_type": "markdown",
   "metadata": {},
   "source": [
    "and inverse"
   ]
  },
  {
   "cell_type": "code",
   "execution_count": null,
   "metadata": {},
   "outputs": [],
   "source": [
    "M.inv()"
   ]
  },
  {
   "cell_type": "markdown",
   "metadata": {},
   "source": [
    "Finally, we can solve equations, like $Mv=u$, just as we have in the univariate case"
   ]
  },
  {
   "cell_type": "code",
   "execution_count": null,
   "metadata": {},
   "outputs": [],
   "source": [
    "var('u1,u2')\n",
    "M = Matrix(2,2,[m11,m12,m21,m22]) #2x2 matrix\n",
    "v = Matrix(2,1,[v1,v2]) #2d column vector\n",
    "u = Matrix(2,1,[u1,u2]) #2d column vector\n",
    "\n",
    "solve(M*v-u, #the equation we want to solve (move all terms to one side as this is assumed to equal zero)\n",
    "      v) #the vector we are solving for"
   ]
  },
  {
   "cell_type": "markdown",
   "metadata": {},
   "source": [
    "## Questions"
   ]
  },
  {
   "cell_type": "markdown",
   "metadata": {},
   "source": [
    "**Q1.** [1 point] Using $A = \\begin{pmatrix} 1 & 2 \\\\ 2 & 1 \\end{pmatrix}$, $B = \\begin{pmatrix} 1 & 1 \\\\ 3 & 1 \\end{pmatrix}$, and $C = \\begin{pmatrix} 7 & 3 \\\\ 5 & 3 \\end{pmatrix}$, show that the associative law holds for matrix multiplication. In particular, that $A(BC)=(AB)C$. [Hint: you can ask Python if two things are equal with a double equal sign, eg, x == y.]"
   ]
  },
  {
   "cell_type": "code",
   "execution_count": null,
   "metadata": {},
   "outputs": [],
   "source": []
  },
  {
   "cell_type": "markdown",
   "metadata": {},
   "source": [
    "**Q2.** [1 point] Using the same $A$ and $B$ as above, show that the commutative law does not hold for matrix multiplication. In particular, that $AB\\neq BA$."
   ]
  },
  {
   "cell_type": "code",
   "execution_count": null,
   "metadata": {},
   "outputs": [],
   "source": []
  },
  {
   "cell_type": "markdown",
   "metadata": {},
   "source": [
    "**Q3.** [1 point] Show that the inverse of a diagonal matrix $D$ (use three dimensions and non-zero integer entries) is equal to a diagonal matrix with each diagonal entry inverted."
   ]
  },
  {
   "cell_type": "code",
   "execution_count": null,
   "metadata": {},
   "outputs": [],
   "source": []
  },
  {
   "cell_type": "markdown",
   "metadata": {},
   "source": [
    "**Q4.** [2 points] Using a generic 2x2 matrix $M$, show that a matrix multiplied by its inverse is the identity matrix. (You may need to simplify your output to see this, with ```.simplify()```)"
   ]
  },
  {
   "cell_type": "code",
   "execution_count": null,
   "metadata": {},
   "outputs": [],
   "source": []
  },
  {
   "cell_type": "markdown",
   "metadata": {},
   "source": [
    "**Q5.** [1 point] Using the general $M$ just defined, show that the determinant of the transpose is equal to the determinant of the original."
   ]
  },
  {
   "cell_type": "code",
   "execution_count": null,
   "metadata": {},
   "outputs": [],
   "source": []
  },
  {
   "cell_type": "markdown",
   "metadata": {},
   "source": [
    "**Q6.** [2 points] Using $M = \\begin{pmatrix} 1 & 2\\\\ 3 & 4 \\end{pmatrix}$ and $v = \\begin{pmatrix} 5 \\\\ 6 \\end{pmatrix}$, find the solution $n = \\begin{pmatrix}n_1\\\\n_2\\end{pmatrix}$ to $Mn=v$."
   ]
  },
  {
   "cell_type": "code",
   "execution_count": null,
   "metadata": {},
   "outputs": [],
   "source": []
  },
  {
   "cell_type": "markdown",
   "metadata": {},
   "source": [
    "**Q7.** [2 points] Using the same $M$, $v$ and $n$, find the solution $n$ to $n^\\intercal M=v^\\intercal$, where $\\intercal$ indicates the transpose."
   ]
  },
  {
   "cell_type": "code",
   "execution_count": null,
   "metadata": {},
   "outputs": [],
   "source": []
  }
 ],
 "metadata": {
  "kernelspec": {
   "display_name": "eeb430",
   "language": "python",
   "name": "eeb430"
  },
  "language_info": {
   "codemirror_mode": {
    "name": "ipython",
    "version": 3
   },
   "file_extension": ".py",
   "mimetype": "text/x-python",
   "name": "python",
   "nbconvert_exporter": "python",
   "pygments_lexer": "ipython3",
   "version": "3.7.4"
  }
 },
 "nbformat": 4,
 "nbformat_minor": 5
}
