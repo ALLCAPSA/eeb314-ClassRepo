{
 "cells": [
  {
   "cell_type": "markdown",
   "metadata": {},
   "source": [
    "# Lab 6 - Linear algebra"
   ]
  },
  {
   "cell_type": "markdown",
   "metadata": {},
   "source": [
    "As part of our linear algebra \"review\" let's see how Python/SymPy can make our lives easier when working with vectors and matrices. For more information see https://docs.sympy.org/latest/modules/matrices/matrices.html#linear-algebra."
   ]
  },
  {
   "cell_type": "code",
   "execution_count": 1,
   "metadata": {},
   "outputs": [],
   "source": [
    "from sympy import * #import all (*) of the sympy library"
   ]
  },
  {
   "cell_type": "markdown",
   "metadata": {},
   "source": [
    "Let's start by creating a general 3x3 matrix $M$"
   ]
  },
  {
   "cell_type": "code",
   "execution_count": 2,
   "metadata": {},
   "outputs": [
    {
     "data": {
      "text/latex": [
       "$\\displaystyle \\left[\\begin{matrix}m_{11} & m_{12} & m_{13}\\\\m_{21} & m_{22} & m_{23}\\\\m_{31} & m_{32} & m_{33}\\end{matrix}\\right]$"
      ],
      "text/plain": [
       "Matrix([\n",
       "[m11, m12, m13],\n",
       "[m21, m22, m23],\n",
       "[m31, m32, m33]])"
      ]
     },
     "execution_count": 2,
     "metadata": {},
     "output_type": "execute_result"
    }
   ],
   "source": [
    "var('m11,m12,m13,m21,m22,m23,m31,m32,m33') #define symbols that we'll use as matrix elements\n",
    "M = Matrix([[m11,m12,m13], #convert list of lists (where inner lists are rows) into SymPy Matrix \n",
    "            [m21,m22,m23],\n",
    "            [m31,m32,m33]])\n",
    "M #print matrix to see result"
   ]
  },
  {
   "cell_type": "markdown",
   "metadata": {},
   "source": [
    "We can also do this by separately providing the dimensions of the matrix and a list of elements"
   ]
  },
  {
   "cell_type": "code",
   "execution_count": 3,
   "metadata": {},
   "outputs": [
    {
     "data": {
      "text/latex": [
       "$\\displaystyle \\left[\\begin{matrix}m_{11} & m_{12} & m_{13}\\\\m_{21} & m_{22} & m_{23}\\\\m_{31} & m_{32} & m_{33}\\end{matrix}\\right]$"
      ],
      "text/plain": [
       "Matrix([\n",
       "[m11, m12, m13],\n",
       "[m21, m22, m23],\n",
       "[m31, m32, m33]])"
      ]
     },
     "execution_count": 3,
     "metadata": {},
     "output_type": "execute_result"
    }
   ],
   "source": [
    "M = Matrix(3,3, #dimensions\n",
    "           [m11,m12,m13,m21,m22,m23,m31,m32,m33]) #elements\n",
    "M"
   ]
  },
  {
   "cell_type": "markdown",
   "metadata": {},
   "source": [
    "We can use the same ```Matrix``` function to create vectors (which are matrices with one of the dimensions equal to 1). Let's first make a 3 dimensional row vector, $v$"
   ]
  },
  {
   "cell_type": "code",
   "execution_count": 4,
   "metadata": {},
   "outputs": [
    {
     "data": {
      "text/latex": [
       "$\\displaystyle \\left[\\begin{matrix}v_{1} & v_{2} & v_{3}\\end{matrix}\\right]$"
      ],
      "text/plain": [
       "Matrix([[v1, v2, v3]])"
      ]
     },
     "execution_count": 4,
     "metadata": {},
     "output_type": "execute_result"
    }
   ],
   "source": [
    "var('v1,v2,v3') #define symbols\n",
    "v = Matrix([[v1,v2,v3]]) #a row vector is a matrix with just one row\n",
    "v"
   ]
  },
  {
   "cell_type": "markdown",
   "metadata": {},
   "source": [
    "To make a 3 dimensional column vector we can write out the three rows"
   ]
  },
  {
   "cell_type": "code",
   "execution_count": 12,
   "metadata": {},
   "outputs": [
    {
     "data": {
      "text/latex": [
       "$\\displaystyle \\left[\\begin{matrix}v_{1}\\\\v_{2}\\\\v_{3}\\end{matrix}\\right]$"
      ],
      "text/plain": [
       "Matrix([\n",
       "[v1],\n",
       "[v2],\n",
       "[v3]])"
      ]
     },
     "execution_count": 12,
     "metadata": {},
     "output_type": "execute_result"
    }
   ],
   "source": [
    "v = Matrix([[v1], #a column vector is a matrix with just one column\n",
    "            [v2],\n",
    "            [v3]]) \n",
    "v"
   ]
  },
  {
   "cell_type": "markdown",
   "metadata": {},
   "source": [
    "We can switch between row and column vectors by taking the transpose"
   ]
  },
  {
   "cell_type": "code",
   "execution_count": 13,
   "metadata": {},
   "outputs": [
    {
     "data": {
      "text/latex": [
       "$\\displaystyle \\left[\\begin{matrix}v_{1} & v_{2} & v_{3}\\end{matrix}\\right]$"
      ],
      "text/plain": [
       "Matrix([[v1, v2, v3]])"
      ]
     },
     "execution_count": 13,
     "metadata": {},
     "output_type": "execute_result"
    }
   ],
   "source": [
    "v = v.transpose()\n",
    "v"
   ]
  },
  {
   "cell_type": "code",
   "execution_count": 14,
   "metadata": {},
   "outputs": [
    {
     "data": {
      "text/latex": [
       "$\\displaystyle \\left[\\begin{matrix}v_{1}\\\\v_{2}\\\\v_{3}\\end{matrix}\\right]$"
      ],
      "text/plain": [
       "Matrix([\n",
       "[v1],\n",
       "[v2],\n",
       "[v3]])"
      ]
     },
     "execution_count": 14,
     "metadata": {},
     "output_type": "execute_result"
    }
   ],
   "source": [
    "v = v.transpose()\n",
    "v"
   ]
  },
  {
   "cell_type": "markdown",
   "metadata": {},
   "source": [
    "We can multiply by scalars and add and subtract as we did before"
   ]
  },
  {
   "cell_type": "code",
   "execution_count": 15,
   "metadata": {},
   "outputs": [
    {
     "data": {
      "text/latex": [
       "$\\displaystyle \\left[\\begin{matrix}3 m_{11} & 3 m_{12} & 3 m_{13}\\\\3 m_{21} & 3 m_{22} & 3 m_{23}\\\\3 m_{31} & 3 m_{32} & 3 m_{33}\\end{matrix}\\right]$"
      ],
      "text/plain": [
       "Matrix([\n",
       "[3*m11, 3*m12, 3*m13],\n",
       "[3*m21, 3*m22, 3*m23],\n",
       "[3*m31, 3*m32, 3*m33]])"
      ]
     },
     "execution_count": 15,
     "metadata": {},
     "output_type": "execute_result"
    }
   ],
   "source": [
    "M + 2*M"
   ]
  },
  {
   "cell_type": "code",
   "execution_count": 16,
   "metadata": {},
   "outputs": [
    {
     "data": {
      "text/latex": [
       "$\\displaystyle \\left[\\begin{matrix}- 2 v_{1}\\\\- 2 v_{2}\\\\- 2 v_{3}\\end{matrix}\\right]$"
      ],
      "text/plain": [
       "Matrix([\n",
       "[-2*v1],\n",
       "[-2*v2],\n",
       "[-2*v3]])"
      ]
     },
     "execution_count": 16,
     "metadata": {},
     "output_type": "execute_result"
    }
   ],
   "source": [
    "v - 3*v"
   ]
  },
  {
   "cell_type": "markdown",
   "metadata": {},
   "source": [
    "We can also multiply as we did before"
   ]
  },
  {
   "cell_type": "code",
   "execution_count": 17,
   "metadata": {},
   "outputs": [
    {
     "data": {
      "text/latex": [
       "$\\displaystyle \\left[\\begin{matrix}m_{11}^{2} + m_{12} m_{21} + m_{13} m_{31} & m_{11} m_{12} + m_{12} m_{22} + m_{13} m_{32} & m_{11} m_{13} + m_{12} m_{23} + m_{13} m_{33}\\\\m_{11} m_{21} + m_{21} m_{22} + m_{23} m_{31} & m_{12} m_{21} + m_{22}^{2} + m_{23} m_{32} & m_{13} m_{21} + m_{22} m_{23} + m_{23} m_{33}\\\\m_{11} m_{31} + m_{21} m_{32} + m_{31} m_{33} & m_{12} m_{31} + m_{22} m_{32} + m_{32} m_{33} & m_{13} m_{31} + m_{23} m_{32} + m_{33}^{2}\\end{matrix}\\right]$"
      ],
      "text/plain": [
       "Matrix([\n",
       "[ m11**2 + m12*m21 + m13*m31, m11*m12 + m12*m22 + m13*m32, m11*m13 + m12*m23 + m13*m33],\n",
       "[m11*m21 + m21*m22 + m23*m31,  m12*m21 + m22**2 + m23*m32, m13*m21 + m22*m23 + m23*m33],\n",
       "[m11*m31 + m21*m32 + m31*m33, m12*m31 + m22*m32 + m32*m33,  m13*m31 + m23*m32 + m33**2]])"
      ]
     },
     "execution_count": 17,
     "metadata": {},
     "output_type": "execute_result"
    }
   ],
   "source": [
    "M * M"
   ]
  },
  {
   "cell_type": "markdown",
   "metadata": {},
   "source": [
    "Though we need to be careful the dimensions are appropriate. For instance, if we try to mutliply two column (or row) vectors by each other we get an error telling us we have 'Matrix size mismatch'"
   ]
  },
  {
   "cell_type": "code",
   "execution_count": 18,
   "metadata": {},
   "outputs": [
    {
     "ename": "ShapeError",
     "evalue": "Matrix size mismatch: (3, 1) * (3, 1).",
     "output_type": "error",
     "traceback": [
      "\u001b[0;31m---------------------------------------------------------------------------\u001b[0m",
      "\u001b[0;31mShapeError\u001b[0m                                Traceback (most recent call last)",
      "\u001b[0;32m/var/folders/gj/1k0smn6d6v12jdjjtsvm4d8w0000gn/T/ipykernel_57569/3046240905.py\u001b[0m in \u001b[0;36m<module>\u001b[0;34m\u001b[0m\n\u001b[0;32m----> 1\u001b[0;31m \u001b[0mv\u001b[0m \u001b[0;34m*\u001b[0m \u001b[0mv\u001b[0m\u001b[0;34m\u001b[0m\u001b[0;34m\u001b[0m\u001b[0m\n\u001b[0m",
      "\u001b[0;32m~/.virtualenvs/eeb430/lib/python3.7/site-packages/sympy/core/decorators.py\u001b[0m in \u001b[0;36mbinary_op_wrapper\u001b[0;34m(self, other)\u001b[0m\n\u001b[1;32m    104\u001b[0m                     \u001b[0;32mif\u001b[0m \u001b[0mf\u001b[0m \u001b[0;32mis\u001b[0m \u001b[0;32mnot\u001b[0m \u001b[0;32mNone\u001b[0m\u001b[0;34m:\u001b[0m\u001b[0;34m\u001b[0m\u001b[0;34m\u001b[0m\u001b[0m\n\u001b[1;32m    105\u001b[0m                         \u001b[0;32mreturn\u001b[0m \u001b[0mf\u001b[0m\u001b[0;34m(\u001b[0m\u001b[0mself\u001b[0m\u001b[0;34m)\u001b[0m\u001b[0;34m\u001b[0m\u001b[0;34m\u001b[0m\u001b[0m\n\u001b[0;32m--> 106\u001b[0;31m             \u001b[0;32mreturn\u001b[0m \u001b[0mfunc\u001b[0m\u001b[0;34m(\u001b[0m\u001b[0mself\u001b[0m\u001b[0;34m,\u001b[0m \u001b[0mother\u001b[0m\u001b[0;34m)\u001b[0m\u001b[0;34m\u001b[0m\u001b[0;34m\u001b[0m\u001b[0m\n\u001b[0m\u001b[1;32m    107\u001b[0m         \u001b[0;32mreturn\u001b[0m \u001b[0mbinary_op_wrapper\u001b[0m\u001b[0;34m\u001b[0m\u001b[0;34m\u001b[0m\u001b[0m\n\u001b[1;32m    108\u001b[0m     \u001b[0;32mreturn\u001b[0m \u001b[0mpriority_decorator\u001b[0m\u001b[0;34m\u001b[0m\u001b[0;34m\u001b[0m\u001b[0m\n",
      "\u001b[0;32m~/.virtualenvs/eeb430/lib/python3.7/site-packages/sympy/matrices/common.py\u001b[0m in \u001b[0;36m__mul__\u001b[0;34m(self, other)\u001b[0m\n\u001b[1;32m   2772\u001b[0m         \"\"\"\n\u001b[1;32m   2773\u001b[0m \u001b[0;34m\u001b[0m\u001b[0m\n\u001b[0;32m-> 2774\u001b[0;31m         \u001b[0;32mreturn\u001b[0m \u001b[0mself\u001b[0m\u001b[0;34m.\u001b[0m\u001b[0mmultiply\u001b[0m\u001b[0;34m(\u001b[0m\u001b[0mother\u001b[0m\u001b[0;34m)\u001b[0m\u001b[0;34m\u001b[0m\u001b[0;34m\u001b[0m\u001b[0m\n\u001b[0m\u001b[1;32m   2775\u001b[0m \u001b[0;34m\u001b[0m\u001b[0m\n\u001b[1;32m   2776\u001b[0m     \u001b[0;32mdef\u001b[0m \u001b[0mmultiply\u001b[0m\u001b[0;34m(\u001b[0m\u001b[0mself\u001b[0m\u001b[0;34m,\u001b[0m \u001b[0mother\u001b[0m\u001b[0;34m,\u001b[0m \u001b[0mdotprodsimp\u001b[0m\u001b[0;34m=\u001b[0m\u001b[0;32mNone\u001b[0m\u001b[0;34m)\u001b[0m\u001b[0;34m:\u001b[0m\u001b[0;34m\u001b[0m\u001b[0;34m\u001b[0m\u001b[0m\n",
      "\u001b[0;32m~/.virtualenvs/eeb430/lib/python3.7/site-packages/sympy/matrices/common.py\u001b[0m in \u001b[0;36mmultiply\u001b[0;34m(self, other, dotprodsimp)\u001b[0m\n\u001b[1;32m   2795\u001b[0m             \u001b[0;32mif\u001b[0m \u001b[0mself\u001b[0m\u001b[0;34m.\u001b[0m\u001b[0mshape\u001b[0m\u001b[0;34m[\u001b[0m\u001b[0;36m1\u001b[0m\u001b[0;34m]\u001b[0m \u001b[0;34m!=\u001b[0m \u001b[0mother\u001b[0m\u001b[0;34m.\u001b[0m\u001b[0mshape\u001b[0m\u001b[0;34m[\u001b[0m\u001b[0;36m0\u001b[0m\u001b[0;34m]\u001b[0m\u001b[0;34m:\u001b[0m\u001b[0;34m\u001b[0m\u001b[0;34m\u001b[0m\u001b[0m\n\u001b[1;32m   2796\u001b[0m                 raise ShapeError(\"Matrix size mismatch: %s * %s.\" % (\n\u001b[0;32m-> 2797\u001b[0;31m                     self.shape, other.shape))\n\u001b[0m\u001b[1;32m   2798\u001b[0m \u001b[0;34m\u001b[0m\u001b[0m\n\u001b[1;32m   2799\u001b[0m         \u001b[0;31m# honest SymPy matrices defer to their class's routine\u001b[0m\u001b[0;34m\u001b[0m\u001b[0;34m\u001b[0m\u001b[0;34m\u001b[0m\u001b[0m\n",
      "\u001b[0;31mShapeError\u001b[0m: Matrix size mismatch: (3, 1) * (3, 1)."
     ]
    }
   ],
   "source": [
    "v * v"
   ]
  },
  {
   "cell_type": "markdown",
   "metadata": {},
   "source": [
    "If you get this error, a good first check is to look at the dimensions of your vectors and matrices with the ```shape``` function"
   ]
  },
  {
   "cell_type": "code",
   "execution_count": 19,
   "metadata": {},
   "outputs": [
    {
     "data": {
      "text/plain": [
       "(3, 1)"
      ]
     },
     "execution_count": 19,
     "metadata": {},
     "output_type": "execute_result"
    }
   ],
   "source": [
    "v.shape"
   ]
  },
  {
   "cell_type": "markdown",
   "metadata": {},
   "source": [
    "To multiply two matrices together we need the number of columns in the first to equal the number of rows in the second. So in the special case of vectors, we can only multiply a column vector (3x1) by a row vector (1x3) or vice versa (1x3, 3x1)"
   ]
  },
  {
   "cell_type": "code",
   "execution_count": 20,
   "metadata": {},
   "outputs": [
    {
     "data": {
      "text/latex": [
       "$\\displaystyle \\left[\\begin{matrix}v_{1}^{2} & v_{1} v_{2} & v_{1} v_{3}\\\\v_{1} v_{2} & v_{2}^{2} & v_{2} v_{3}\\\\v_{1} v_{3} & v_{2} v_{3} & v_{3}^{2}\\end{matrix}\\right]$"
      ],
      "text/plain": [
       "Matrix([\n",
       "[v1**2, v1*v2, v1*v3],\n",
       "[v1*v2, v2**2, v2*v3],\n",
       "[v1*v3, v2*v3, v3**2]])"
      ]
     },
     "execution_count": 20,
     "metadata": {},
     "output_type": "execute_result"
    }
   ],
   "source": [
    "v * transpose(v)"
   ]
  },
  {
   "cell_type": "code",
   "execution_count": 21,
   "metadata": {},
   "outputs": [
    {
     "data": {
      "text/latex": [
       "$\\displaystyle \\left[\\begin{matrix}v_{1}^{2} + v_{2}^{2} + v_{3}^{2}\\end{matrix}\\right]$"
      ],
      "text/plain": [
       "Matrix([[v1**2 + v2**2 + v3**2]])"
      ]
     },
     "execution_count": 21,
     "metadata": {},
     "output_type": "execute_result"
    }
   ],
   "source": [
    "transpose(v) * v"
   ]
  },
  {
   "cell_type": "markdown",
   "metadata": {},
   "source": [
    "We also have to be careful the dimensions match when multiplying vectors by matrices. We can't mutliply a column vector by a matrix on the right"
   ]
  },
  {
   "cell_type": "code",
   "execution_count": 22,
   "metadata": {},
   "outputs": [
    {
     "ename": "ShapeError",
     "evalue": "Matrix size mismatch: (3, 1) * (3, 3).",
     "output_type": "error",
     "traceback": [
      "\u001b[0;31m---------------------------------------------------------------------------\u001b[0m",
      "\u001b[0;31mShapeError\u001b[0m                                Traceback (most recent call last)",
      "\u001b[0;32m/var/folders/gj/1k0smn6d6v12jdjjtsvm4d8w0000gn/T/ipykernel_57569/1253851188.py\u001b[0m in \u001b[0;36m<module>\u001b[0;34m\u001b[0m\n\u001b[0;32m----> 1\u001b[0;31m \u001b[0mv\u001b[0m \u001b[0;34m*\u001b[0m \u001b[0mM\u001b[0m\u001b[0;34m\u001b[0m\u001b[0;34m\u001b[0m\u001b[0m\n\u001b[0m",
      "\u001b[0;32m~/.virtualenvs/eeb430/lib/python3.7/site-packages/sympy/core/decorators.py\u001b[0m in \u001b[0;36mbinary_op_wrapper\u001b[0;34m(self, other)\u001b[0m\n\u001b[1;32m    104\u001b[0m                     \u001b[0;32mif\u001b[0m \u001b[0mf\u001b[0m \u001b[0;32mis\u001b[0m \u001b[0;32mnot\u001b[0m \u001b[0;32mNone\u001b[0m\u001b[0;34m:\u001b[0m\u001b[0;34m\u001b[0m\u001b[0;34m\u001b[0m\u001b[0m\n\u001b[1;32m    105\u001b[0m                         \u001b[0;32mreturn\u001b[0m \u001b[0mf\u001b[0m\u001b[0;34m(\u001b[0m\u001b[0mself\u001b[0m\u001b[0;34m)\u001b[0m\u001b[0;34m\u001b[0m\u001b[0;34m\u001b[0m\u001b[0m\n\u001b[0;32m--> 106\u001b[0;31m             \u001b[0;32mreturn\u001b[0m \u001b[0mfunc\u001b[0m\u001b[0;34m(\u001b[0m\u001b[0mself\u001b[0m\u001b[0;34m,\u001b[0m \u001b[0mother\u001b[0m\u001b[0;34m)\u001b[0m\u001b[0;34m\u001b[0m\u001b[0;34m\u001b[0m\u001b[0m\n\u001b[0m\u001b[1;32m    107\u001b[0m         \u001b[0;32mreturn\u001b[0m \u001b[0mbinary_op_wrapper\u001b[0m\u001b[0;34m\u001b[0m\u001b[0;34m\u001b[0m\u001b[0m\n\u001b[1;32m    108\u001b[0m     \u001b[0;32mreturn\u001b[0m \u001b[0mpriority_decorator\u001b[0m\u001b[0;34m\u001b[0m\u001b[0;34m\u001b[0m\u001b[0m\n",
      "\u001b[0;32m~/.virtualenvs/eeb430/lib/python3.7/site-packages/sympy/matrices/common.py\u001b[0m in \u001b[0;36m__mul__\u001b[0;34m(self, other)\u001b[0m\n\u001b[1;32m   2772\u001b[0m         \"\"\"\n\u001b[1;32m   2773\u001b[0m \u001b[0;34m\u001b[0m\u001b[0m\n\u001b[0;32m-> 2774\u001b[0;31m         \u001b[0;32mreturn\u001b[0m \u001b[0mself\u001b[0m\u001b[0;34m.\u001b[0m\u001b[0mmultiply\u001b[0m\u001b[0;34m(\u001b[0m\u001b[0mother\u001b[0m\u001b[0;34m)\u001b[0m\u001b[0;34m\u001b[0m\u001b[0;34m\u001b[0m\u001b[0m\n\u001b[0m\u001b[1;32m   2775\u001b[0m \u001b[0;34m\u001b[0m\u001b[0m\n\u001b[1;32m   2776\u001b[0m     \u001b[0;32mdef\u001b[0m \u001b[0mmultiply\u001b[0m\u001b[0;34m(\u001b[0m\u001b[0mself\u001b[0m\u001b[0;34m,\u001b[0m \u001b[0mother\u001b[0m\u001b[0;34m,\u001b[0m \u001b[0mdotprodsimp\u001b[0m\u001b[0;34m=\u001b[0m\u001b[0;32mNone\u001b[0m\u001b[0;34m)\u001b[0m\u001b[0;34m:\u001b[0m\u001b[0;34m\u001b[0m\u001b[0;34m\u001b[0m\u001b[0m\n",
      "\u001b[0;32m~/.virtualenvs/eeb430/lib/python3.7/site-packages/sympy/matrices/common.py\u001b[0m in \u001b[0;36mmultiply\u001b[0;34m(self, other, dotprodsimp)\u001b[0m\n\u001b[1;32m   2795\u001b[0m             \u001b[0;32mif\u001b[0m \u001b[0mself\u001b[0m\u001b[0;34m.\u001b[0m\u001b[0mshape\u001b[0m\u001b[0;34m[\u001b[0m\u001b[0;36m1\u001b[0m\u001b[0;34m]\u001b[0m \u001b[0;34m!=\u001b[0m \u001b[0mother\u001b[0m\u001b[0;34m.\u001b[0m\u001b[0mshape\u001b[0m\u001b[0;34m[\u001b[0m\u001b[0;36m0\u001b[0m\u001b[0;34m]\u001b[0m\u001b[0;34m:\u001b[0m\u001b[0;34m\u001b[0m\u001b[0;34m\u001b[0m\u001b[0m\n\u001b[1;32m   2796\u001b[0m                 raise ShapeError(\"Matrix size mismatch: %s * %s.\" % (\n\u001b[0;32m-> 2797\u001b[0;31m                     self.shape, other.shape))\n\u001b[0m\u001b[1;32m   2798\u001b[0m \u001b[0;34m\u001b[0m\u001b[0m\n\u001b[1;32m   2799\u001b[0m         \u001b[0;31m# honest SymPy matrices defer to their class's routine\u001b[0m\u001b[0;34m\u001b[0m\u001b[0;34m\u001b[0m\u001b[0;34m\u001b[0m\u001b[0m\n",
      "\u001b[0;31mShapeError\u001b[0m: Matrix size mismatch: (3, 1) * (3, 3)."
     ]
    }
   ],
   "source": [
    "v * M"
   ]
  },
  {
   "cell_type": "markdown",
   "metadata": {},
   "source": [
    "but we can multiply a column vector by a matrix on the left"
   ]
  },
  {
   "cell_type": "code",
   "execution_count": 23,
   "metadata": {},
   "outputs": [
    {
     "data": {
      "text/latex": [
       "$\\displaystyle \\left[\\begin{matrix}m_{11} v_{1} + m_{12} v_{2} + m_{13} v_{3}\\\\m_{21} v_{1} + m_{22} v_{2} + m_{23} v_{3}\\\\m_{31} v_{1} + m_{32} v_{2} + m_{33} v_{3}\\end{matrix}\\right]$"
      ],
      "text/plain": [
       "Matrix([\n",
       "[m11*v1 + m12*v2 + m13*v3],\n",
       "[m21*v1 + m22*v2 + m23*v3],\n",
       "[m31*v1 + m32*v2 + m33*v3]])"
      ]
     },
     "execution_count": 23,
     "metadata": {},
     "output_type": "execute_result"
    }
   ],
   "source": [
    "M * v"
   ]
  },
  {
   "cell_type": "markdown",
   "metadata": {},
   "source": [
    "To visualize vectors and how they are transformed by matrix multiplication, let's turn to a numerical example with a 2 dimensional vector and a 2x2 matrix"
   ]
  },
  {
   "cell_type": "code",
   "execution_count": 24,
   "metadata": {},
   "outputs": [
    {
     "data": {
      "text/latex": [
       "$\\displaystyle \\left[\\begin{matrix}1\\\\1\\end{matrix}\\right]$"
      ],
      "text/plain": [
       "Matrix([\n",
       "[1],\n",
       "[1]])"
      ]
     },
     "execution_count": 24,
     "metadata": {},
     "output_type": "execute_result"
    }
   ],
   "source": [
    "v = Matrix([[1], #2 dimensional column vector\n",
    "            [1]])\n",
    "M = Matrix([[1,0], #2x2 matrix\n",
    "            [0,2]]) \n",
    "v"
   ]
  },
  {
   "cell_type": "markdown",
   "metadata": {},
   "source": [
    "We first plot the original vector"
   ]
  },
  {
   "cell_type": "code",
   "execution_count": 25,
   "metadata": {},
   "outputs": [],
   "source": [
    "import matplotlib.pyplot as plt #import plotting library"
   ]
  },
  {
   "cell_type": "code",
   "execution_count": 182,
   "metadata": {},
   "outputs": [
    {
     "data": {
      "image/png": "[encoded data removed]",
      "text/plain": [
       "<Figure size 640x480 with 1 Axes>"
      ]
     },
     "metadata": {},
     "output_type": "display_data"
    }
   ],
   "source": [
    "plt.arrow(0, 0, #starting x and y values of arrow\n",
    "          float(v[0]), float(v[1]), #change in x and y (here need to convert elements of vector to floats)\n",
    "          head_width=0.1, color='black') #aesthetics\n",
    "plt.xlim(0,2.5) #set bounds on x axis\n",
    "plt.ylim(0,2.5) #set bounds on y axis\n",
    "plt.show()"
   ]
  },
  {
   "cell_type": "markdown",
   "metadata": {},
   "source": [
    "and now we add the transformed vector we get by multiplying the original vector by the matrix"
   ]
  },
  {
   "cell_type": "code",
   "execution_count": 183,
   "metadata": {},
   "outputs": [
    {
     "data": {
      "text/latex": [
       "$\\displaystyle \\left[\\begin{matrix}1\\\\2\\end{matrix}\\right]$"
      ],
      "text/plain": [
       "Matrix([\n",
       "[1],\n",
       "[2]])"
      ]
     },
     "execution_count": 183,
     "metadata": {},
     "output_type": "execute_result"
    }
   ],
   "source": [
    "u = M * v # multiplying by the matrix transforms the original vector v into a new vector u\n",
    "u"
   ]
  },
  {
   "cell_type": "code",
   "execution_count": 184,
   "metadata": {},
   "outputs": [
    {
     "data": {
      "image/png": "[encoded data removed]",
      "text/plain": [
       "<Figure size 640x480 with 1 Axes>"
      ]
     },
     "metadata": {},
     "output_type": "display_data"
    }
   ],
   "source": [
    "colors = ['black','blue']\n",
    "i = 0 #color index\n",
    "for x in [v,u]: #for the old and new vector\n",
    "    plt.arrow(0, 0, #starting x and y values of arrow\n",
    "          float(x[0]), float(x[1]), #change in x and y (here need to convert elements of vector to floats)\n",
    "          head_width=0.1, color=colors[i]) #aesthetics\n",
    "    i = i + 1\n",
    "plt.xlim(0,2.5)\n",
    "plt.ylim(0,2.5)\n",
    "plt.show()"
   ]
  },
  {
   "cell_type": "markdown",
   "metadata": {},
   "source": [
    "In this case we see that multiplying by the matrix simply doubles the second entry (y value) of the original (black) vector while leaving the first entry (x value) unchanged."
   ]
  },
  {
   "cell_type": "markdown",
   "metadata": {},
   "source": [
    "We can make a few special vectors and matrices quickly, like an identity matrix (I = \"eye\" :D)"
   ]
  },
  {
   "cell_type": "code",
   "execution_count": 185,
   "metadata": {},
   "outputs": [
    {
     "data": {
      "text/latex": [
       "$\\displaystyle \\left[\\begin{matrix}1 & 0\\\\0 & 1\\end{matrix}\\right]$"
      ],
      "text/plain": [
       "Matrix([\n",
       "[1, 0],\n",
       "[0, 1]])"
      ]
     },
     "execution_count": 185,
     "metadata": {},
     "output_type": "execute_result"
    }
   ],
   "source": [
    "eye(2) #provide the dimension"
   ]
  },
  {
   "cell_type": "markdown",
   "metadata": {},
   "source": [
    "a matrix (or vector) of zeros"
   ]
  },
  {
   "cell_type": "code",
   "execution_count": 186,
   "metadata": {},
   "outputs": [
    {
     "data": {
      "text/latex": [
       "$\\displaystyle \\left[\\begin{matrix}0 & 0\\\\0 & 0\\end{matrix}\\right]$"
      ],
      "text/plain": [
       "Matrix([\n",
       "[0, 0],\n",
       "[0, 0]])"
      ]
     },
     "execution_count": 186,
     "metadata": {},
     "output_type": "execute_result"
    }
   ],
   "source": [
    "zeros(2,2) #provide the dimensions"
   ]
  },
  {
   "cell_type": "markdown",
   "metadata": {},
   "source": [
    "or a diagonal matrix"
   ]
  },
  {
   "cell_type": "code",
   "execution_count": 189,
   "metadata": {},
   "outputs": [
    {
     "data": {
      "text/latex": [
       "$\\displaystyle \\left[\\begin{matrix}3 & 0 & 0\\\\0 & 2 & 0\\\\0 & 0 & 1\\end{matrix}\\right]$"
      ],
      "text/plain": [
       "Matrix([\n",
       "[3, 0, 0],\n",
       "[0, 2, 0],\n",
       "[0, 0, 1]])"
      ]
     },
     "execution_count": 189,
     "metadata": {},
     "output_type": "execute_result"
    }
   ],
   "source": [
    "diag(3,2,1) #provide the entries along the diagonal"
   ]
  },
  {
   "cell_type": "markdown",
   "metadata": {},
   "source": [
    "We can also extract properties of a matrix, like the trace"
   ]
  },
  {
   "cell_type": "code",
   "execution_count": 191,
   "metadata": {},
   "outputs": [
    {
     "data": {
      "text/latex": [
       "$\\displaystyle m_{11} + m_{22} + m_{33}$"
      ],
      "text/plain": [
       "m11 + m22 + m33"
      ]
     },
     "execution_count": 191,
     "metadata": {},
     "output_type": "execute_result"
    }
   ],
   "source": [
    "M = Matrix([[m11,m12,m13], #convert list of lists (where inner lists are rows) into SymPy Matrix \n",
    "            [m21,m22,m23],\n",
    "            [m31,m32,m33]])\n",
    "M.trace()"
   ]
  },
  {
   "cell_type": "markdown",
   "metadata": {},
   "source": [
    "determinant"
   ]
  },
  {
   "cell_type": "code",
   "execution_count": 147,
   "metadata": {},
   "outputs": [
    {
     "data": {
      "text/latex": [
       "$\\displaystyle m_{11} m_{22} m_{33} - m_{11} m_{23} m_{32} - m_{12} m_{21} m_{33} + m_{12} m_{23} m_{31} + m_{13} m_{21} m_{32} - m_{13} m_{22} m_{31}$"
      ],
      "text/plain": [
       "m11*m22*m33 - m11*m23*m32 - m12*m21*m33 + m12*m23*m31 + m13*m21*m32 - m13*m22*m31"
      ]
     },
     "execution_count": 147,
     "metadata": {},
     "output_type": "execute_result"
    }
   ],
   "source": [
    "M.det()"
   ]
  },
  {
   "cell_type": "markdown",
   "metadata": {},
   "source": [
    "transpose"
   ]
  },
  {
   "cell_type": "code",
   "execution_count": 148,
   "metadata": {},
   "outputs": [
    {
     "data": {
      "text/latex": [
       "$\\displaystyle \\left[\\begin{matrix}m_{11} & m_{21} & m_{31}\\\\m_{12} & m_{22} & m_{32}\\\\m_{13} & m_{23} & m_{33}\\end{matrix}\\right]$"
      ],
      "text/plain": [
       "Matrix([\n",
       "[m11, m21, m31],\n",
       "[m12, m22, m32],\n",
       "[m13, m23, m33]])"
      ]
     },
     "execution_count": 148,
     "metadata": {},
     "output_type": "execute_result"
    }
   ],
   "source": [
    "M.transpose()"
   ]
  },
  {
   "cell_type": "markdown",
   "metadata": {},
   "source": [
    "and inverse"
   ]
  },
  {
   "cell_type": "code",
   "execution_count": 150,
   "metadata": {},
   "outputs": [
    {
     "data": {
      "text/latex": [
       "$\\displaystyle \\left[\\begin{matrix}\\frac{m_{22} m_{33} - m_{23} m_{32}}{m_{11} m_{22} m_{33} - m_{11} m_{23} m_{32} - m_{12} m_{21} m_{33} + m_{12} m_{23} m_{31} + m_{13} m_{21} m_{32} - m_{13} m_{22} m_{31}} & \\frac{- m_{12} m_{33} + m_{13} m_{32}}{m_{11} m_{22} m_{33} - m_{11} m_{23} m_{32} - m_{12} m_{21} m_{33} + m_{12} m_{23} m_{31} + m_{13} m_{21} m_{32} - m_{13} m_{22} m_{31}} & \\frac{m_{12} m_{23} - m_{13} m_{22}}{m_{11} m_{22} m_{33} - m_{11} m_{23} m_{32} - m_{12} m_{21} m_{33} + m_{12} m_{23} m_{31} + m_{13} m_{21} m_{32} - m_{13} m_{22} m_{31}}\\\\\\frac{- m_{21} m_{33} + m_{23} m_{31}}{m_{11} m_{22} m_{33} - m_{11} m_{23} m_{32} - m_{12} m_{21} m_{33} + m_{12} m_{23} m_{31} + m_{13} m_{21} m_{32} - m_{13} m_{22} m_{31}} & \\frac{m_{11} m_{33} - m_{13} m_{31}}{m_{11} m_{22} m_{33} - m_{11} m_{23} m_{32} - m_{12} m_{21} m_{33} + m_{12} m_{23} m_{31} + m_{13} m_{21} m_{32} - m_{13} m_{22} m_{31}} & \\frac{- m_{11} m_{23} + m_{13} m_{21}}{m_{11} m_{22} m_{33} - m_{11} m_{23} m_{32} - m_{12} m_{21} m_{33} + m_{12} m_{23} m_{31} + m_{13} m_{21} m_{32} - m_{13} m_{22} m_{31}}\\\\\\frac{m_{21} m_{32} - m_{22} m_{31}}{m_{11} m_{22} m_{33} - m_{11} m_{23} m_{32} - m_{12} m_{21} m_{33} + m_{12} m_{23} m_{31} + m_{13} m_{21} m_{32} - m_{13} m_{22} m_{31}} & \\frac{- m_{11} m_{32} + m_{12} m_{31}}{m_{11} m_{22} m_{33} - m_{11} m_{23} m_{32} - m_{12} m_{21} m_{33} + m_{12} m_{23} m_{31} + m_{13} m_{21} m_{32} - m_{13} m_{22} m_{31}} & \\frac{m_{11} m_{22} - m_{12} m_{21}}{m_{11} m_{22} m_{33} - m_{11} m_{23} m_{32} - m_{12} m_{21} m_{33} + m_{12} m_{23} m_{31} + m_{13} m_{21} m_{32} - m_{13} m_{22} m_{31}}\\end{matrix}\\right]$"
      ],
      "text/plain": [
       "Matrix([\n",
       "[ (m22*m33 - m23*m32)/(m11*m22*m33 - m11*m23*m32 - m12*m21*m33 + m12*m23*m31 + m13*m21*m32 - m13*m22*m31), (-m12*m33 + m13*m32)/(m11*m22*m33 - m11*m23*m32 - m12*m21*m33 + m12*m23*m31 + m13*m21*m32 - m13*m22*m31),  (m12*m23 - m13*m22)/(m11*m22*m33 - m11*m23*m32 - m12*m21*m33 + m12*m23*m31 + m13*m21*m32 - m13*m22*m31)],\n",
       "[(-m21*m33 + m23*m31)/(m11*m22*m33 - m11*m23*m32 - m12*m21*m33 + m12*m23*m31 + m13*m21*m32 - m13*m22*m31),  (m11*m33 - m13*m31)/(m11*m22*m33 - m11*m23*m32 - m12*m21*m33 + m12*m23*m31 + m13*m21*m32 - m13*m22*m31), (-m11*m23 + m13*m21)/(m11*m22*m33 - m11*m23*m32 - m12*m21*m33 + m12*m23*m31 + m13*m21*m32 - m13*m22*m31)],\n",
       "[ (m21*m32 - m22*m31)/(m11*m22*m33 - m11*m23*m32 - m12*m21*m33 + m12*m23*m31 + m13*m21*m32 - m13*m22*m31), (-m11*m32 + m12*m31)/(m11*m22*m33 - m11*m23*m32 - m12*m21*m33 + m12*m23*m31 + m13*m21*m32 - m13*m22*m31),  (m11*m22 - m12*m21)/(m11*m22*m33 - m11*m23*m32 - m12*m21*m33 + m12*m23*m31 + m13*m21*m32 - m13*m22*m31)]])"
      ]
     },
     "execution_count": 150,
     "metadata": {},
     "output_type": "execute_result"
    }
   ],
   "source": [
    "M.inv()"
   ]
  },
  {
   "cell_type": "markdown",
   "metadata": {},
   "source": [
    "Finally, we can solve equations, like $Mv=u$, just as we have in the univariate case"
   ]
  },
  {
   "cell_type": "code",
   "execution_count": 205,
   "metadata": {},
   "outputs": [
    {
     "data": {
      "text/plain": [
       "{v1: (-m12*u2 + m22*u1)/(m11*m22 - m12*m21),\n",
       " v2: (m11*u2 - m21*u1)/(m11*m22 - m12*m21)}"
      ]
     },
     "execution_count": 205,
     "metadata": {},
     "output_type": "execute_result"
    }
   ],
   "source": [
    "var('u1,u2')\n",
    "M = Matrix(2,2,[m11,m12,m21,m22]) #2x2 matrix\n",
    "v = Matrix(2,1,[v1,v2]) #2d column vector\n",
    "u = Matrix(2,1,[u1,u2]) #2d column vector\n",
    "\n",
    "solve(M*v-u, #the equation we want to solve (move all terms to one side as this is assumed to equal zero)\n",
    "      v) #the vector we are solving for"
   ]
  },
  {
   "cell_type": "markdown",
   "metadata": {},
   "source": [
    "## Questions"
   ]
  },
  {
   "cell_type": "markdown",
   "metadata": {},
   "source": [
    "**Q1.** [1 point] Using $A = \\begin{pmatrix} 1 & 2 \\\\ 2 & 1 \\end{pmatrix}$, $B = \\begin{pmatrix} 1 & 1 \\\\ 3 & 1 \\end{pmatrix}$, and $C = \\begin{pmatrix} 7 & 3 \\\\ 5 & 3 \\end{pmatrix}$, show that the associative law holds for matrix multiplication. In particular, that $A(BC)=(AB)C$. [Hint: you can ask Python if two things are equal with a double equal sign, eg, x == y.]"
   ]
  },
  {
   "cell_type": "code",
   "execution_count": 252,
   "metadata": {},
   "outputs": [
    {
     "data": {
      "text/plain": [
       "True"
      ]
     },
     "execution_count": 252,
     "metadata": {},
     "output_type": "execute_result"
    }
   ],
   "source": [
    "A = Matrix(2,2,[1,2,2,1])\n",
    "B = Matrix(2,2,[1,1,3,1])\n",
    "C = Matrix(2,2,[7,3,5,3])\n",
    "\n",
    "A*(B*C) == (A*B)*C"
   ]
  },
  {
   "cell_type": "markdown",
   "metadata": {},
   "source": [
    "**Q2.** [1 point] Using the same $A$ and $B$ as above, show that the commutative law does not hold for matrix multiplication. In particular, that $AB\\neq BA$."
   ]
  },
  {
   "cell_type": "code",
   "execution_count": 253,
   "metadata": {},
   "outputs": [
    {
     "data": {
      "text/plain": [
       "False"
      ]
     },
     "execution_count": 253,
     "metadata": {},
     "output_type": "execute_result"
    }
   ],
   "source": [
    "A*B == B*A"
   ]
  },
  {
   "cell_type": "markdown",
   "metadata": {},
   "source": [
    "**Q3.** [1 point] Show that the inverse of a diagonal matrix $D$ (use three dimensions and non-zero integer entries) is equal to a diagonal matrix with each diagonal entry inverted."
   ]
  },
  {
   "cell_type": "code",
   "execution_count": 221,
   "metadata": {},
   "outputs": [
    {
     "data": {
      "text/latex": [
       "$\\displaystyle \\left[\\begin{matrix}1 & 0 & 0\\\\0 & \\frac{1}{2} & 0\\\\0 & 0 & \\frac{1}{3}\\end{matrix}\\right]$"
      ],
      "text/plain": [
       "Matrix([\n",
       "[1,   0,   0],\n",
       "[0, 1/2,   0],\n",
       "[0,   0, 1/3]])"
      ]
     },
     "execution_count": 221,
     "metadata": {},
     "output_type": "execute_result"
    }
   ],
   "source": [
    "D = diag(1,2,3)\n",
    "D.inv()"
   ]
  },
  {
   "cell_type": "markdown",
   "metadata": {},
   "source": [
    "**Q4.** [2 points] Using a generic 2x2 matrix $M$, show that a matrix multiplied by its inverse is the identity matrix. (You may need to simplify your output to see this, with ```.simplify()```)"
   ]
  },
  {
   "cell_type": "code",
   "execution_count": 246,
   "metadata": {},
   "outputs": [
    {
     "data": {
      "text/plain": [
       "True"
      ]
     },
     "execution_count": 246,
     "metadata": {},
     "output_type": "execute_result"
    }
   ],
   "source": [
    "M = Matrix(2,2,[m11,m12,m21,m22])\n",
    "out = M.inv() * M\n",
    "out.simplify()\n",
    "out == eye(2)"
   ]
  },
  {
   "cell_type": "markdown",
   "metadata": {},
   "source": [
    "**Q5.** [1 point] Using the general $M$ just defined, show that the determinant of the transpose is equal to the determinant of the original."
   ]
  },
  {
   "cell_type": "code",
   "execution_count": 240,
   "metadata": {},
   "outputs": [
    {
     "data": {
      "text/plain": [
       "True"
      ]
     },
     "execution_count": 240,
     "metadata": {},
     "output_type": "execute_result"
    }
   ],
   "source": [
    "M.det() == M.transpose().det()"
   ]
  },
  {
   "cell_type": "markdown",
   "metadata": {},
   "source": [
    "**Q6.** [2 points] Using $M = \\begin{pmatrix} 1 & 2\\\\ 3 & 4 \\end{pmatrix}$ and $v = \\begin{pmatrix} 5 \\\\ 6 \\end{pmatrix}$, find the solution $n = \\begin{pmatrix}n_1\\\\n_2\\end{pmatrix}$ to $Mn=v$."
   ]
  },
  {
   "cell_type": "code",
   "execution_count": 250,
   "metadata": {},
   "outputs": [
    {
     "data": {
      "text/plain": [
       "{n1: -4, n2: 9/2}"
      ]
     },
     "execution_count": 250,
     "metadata": {},
     "output_type": "execute_result"
    }
   ],
   "source": [
    "M = Matrix(2,2,[1,2,3,4])\n",
    "v = Matrix(2,1,[5,6])\n",
    "var('n1,n2')\n",
    "n = Matrix(2,1,[n1,n2])\n",
    "solve(M*n-v,n)"
   ]
  },
  {
   "cell_type": "markdown",
   "metadata": {},
   "source": [
    "**Q7.** [2 points] Using the same $M$, $v$ and $n$, find the solution $n$ to $n^\\intercal M=v^\\intercal$, where $\\intercal$ indicates the transpose."
   ]
  },
  {
   "cell_type": "code",
   "execution_count": 251,
   "metadata": {},
   "outputs": [
    {
     "data": {
      "text/plain": [
       "{n1: -1, n2: 2}"
      ]
     },
     "execution_count": 251,
     "metadata": {},
     "output_type": "execute_result"
    }
   ],
   "source": [
    "solve(n.transpose()*M-v.transpose(),n)"
   ]
  }
 ],
 "metadata": {
  "kernelspec": {
   "display_name": "eeb430",
   "language": "python",
   "name": "eeb430"
  },
  "language_info": {
   "codemirror_mode": {
    "name": "ipython",
    "version": 3
   },
   "file_extension": ".py",
   "mimetype": "text/x-python",
   "name": "python",
   "nbconvert_exporter": "python",
   "pygments_lexer": "ipython3",
   "version": "3.7.4"
  }
 },
 "nbformat": 4,
 "nbformat_minor": 5
}
