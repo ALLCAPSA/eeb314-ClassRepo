{
 "cells": [
  {
   "cell_type": "markdown",
   "metadata": {},
   "source": [
    "# Lab 7 - Eigenvalues, eigenvectors, and linear multivariate solutions"
   ]
  },
  {
   "cell_type": "markdown",
   "metadata": {},
   "source": [
    "How do we use Python to find eigenvalues and eigenvectors? "
   ]
  },
  {
   "cell_type": "markdown",
   "metadata": {},
   "source": [
    "Let's say we have a simple 2x2 matrix"
   ]
  },
  {
   "cell_type": "code",
   "execution_count": 14,
   "metadata": {},
   "outputs": [
    {
     "data": {
      "text/latex": [
       "$\\displaystyle \\left[\\begin{matrix}a & b\\\\c & d\\end{matrix}\\right]$"
      ],
      "text/plain": [
       "Matrix([\n",
       "[a, b],\n",
       "[c, d]])"
      ]
     },
     "execution_count": 14,
     "metadata": {},
     "output_type": "execute_result"
    }
   ],
   "source": [
    "from sympy import *\n",
    "var('a,b,c,d')\n",
    "M = Matrix([[a,b],\n",
    "            [c,d]])\n",
    "M"
   ]
  },
  {
   "cell_type": "markdown",
   "metadata": {},
   "source": [
    "To find both the eigenvalues and eigenvectors we can then use SymPy's built in `eigenvects` function"
   ]
  },
  {
   "cell_type": "code",
   "execution_count": 5,
   "metadata": {},
   "outputs": [
    {
     "data": {
      "text/plain": [
       "[(a/2 + d/2 - sqrt(a**2 - 2*a*d + 4*b*c + d**2)/2,\n",
       "  1,\n",
       "  [Matrix([\n",
       "   [-d/c + (a/2 + d/2 - sqrt(a**2 - 2*a*d + 4*b*c + d**2)/2)/c],\n",
       "   [                                                         1]])]),\n",
       " (a/2 + d/2 + sqrt(a**2 - 2*a*d + 4*b*c + d**2)/2,\n",
       "  1,\n",
       "  [Matrix([\n",
       "   [-d/c + (a/2 + d/2 + sqrt(a**2 - 2*a*d + 4*b*c + d**2)/2)/c],\n",
       "   [                                                         1]])])]"
      ]
     },
     "execution_count": 5,
     "metadata": {},
     "output_type": "execute_result"
    }
   ],
   "source": [
    "es = M.eigenvects()\n",
    "es"
   ]
  },
  {
   "cell_type": "markdown",
   "metadata": {},
   "source": [
    "This is a list of length 2, where the first item is"
   ]
  },
  {
   "cell_type": "code",
   "execution_count": 7,
   "metadata": {},
   "outputs": [
    {
     "data": {
      "text/plain": [
       "(a/2 + d/2 - sqrt(a**2 - 2*a*d + 4*b*c + d**2)/2,\n",
       " 1,\n",
       " [Matrix([\n",
       "  [-d/c + (a/2 + d/2 - sqrt(a**2 - 2*a*d + 4*b*c + d**2)/2)/c],\n",
       "  [                                                         1]])])"
      ]
     },
     "execution_count": 7,
     "metadata": {},
     "output_type": "execute_result"
    }
   ],
   "source": [
    "es0 = es[0]\n",
    "es0"
   ]
  },
  {
   "cell_type": "markdown",
   "metadata": {},
   "source": [
    "which is a \"tuple\" (essentially a list) of length 3. The first item is an eigenvalue"
   ]
  },
  {
   "cell_type": "code",
   "execution_count": 8,
   "metadata": {},
   "outputs": [
    {
     "data": {
      "text/latex": [
       "$\\displaystyle \\frac{a}{2} + \\frac{d}{2} - \\frac{\\sqrt{a^{2} - 2 a d + 4 b c + d^{2}}}{2}$"
      ],
      "text/plain": [
       "a/2 + d/2 - sqrt(a**2 - 2*a*d + 4*b*c + d**2)/2"
      ]
     },
     "execution_count": 8,
     "metadata": {},
     "output_type": "execute_result"
    }
   ],
   "source": [
    "es0[0]"
   ]
  },
  {
   "cell_type": "markdown",
   "metadata": {},
   "source": [
    "the second item is the \"multiplicity\" of that eigenvalue (sometimes there are multiple eigenvalues with the same value, and the multiplicity is how many eigenvalues have this value)"
   ]
  },
  {
   "cell_type": "code",
   "execution_count": 9,
   "metadata": {},
   "outputs": [
    {
     "data": {
      "text/plain": [
       "1"
      ]
     },
     "execution_count": 9,
     "metadata": {},
     "output_type": "execute_result"
    }
   ],
   "source": [
    "es0[1]"
   ]
  },
  {
   "cell_type": "markdown",
   "metadata": {},
   "source": [
    "and the third item is a list of right eigenvectors (if the multiplicity is >1 then there can be more than one right eigenvector)"
   ]
  },
  {
   "cell_type": "code",
   "execution_count": 10,
   "metadata": {},
   "outputs": [
    {
     "data": {
      "text/plain": [
       "[Matrix([\n",
       " [-d/c + (a/2 + d/2 - sqrt(a**2 - 2*a*d + 4*b*c + d**2)/2)/c],\n",
       " [                                                         1]])]"
      ]
     },
     "execution_count": 10,
     "metadata": {},
     "output_type": "execute_result"
    }
   ],
   "source": [
    "es0[2]"
   ]
  },
  {
   "cell_type": "markdown",
   "metadata": {},
   "source": [
    "In this case we can extract the only right eigenvector as the first item in that list"
   ]
  },
  {
   "cell_type": "code",
   "execution_count": 12,
   "metadata": {},
   "outputs": [
    {
     "data": {
      "text/latex": [
       "$\\displaystyle \\left[\\begin{matrix}- \\frac{d}{c} + \\frac{\\frac{a}{2} + \\frac{d}{2} - \\frac{\\sqrt{a^{2} - 2 a d + 4 b c + d^{2}}}{2}}{c}\\\\1\\end{matrix}\\right]$"
      ],
      "text/plain": [
       "Matrix([\n",
       "[-d/c + (a/2 + d/2 - sqrt(a**2 - 2*a*d + 4*b*c + d**2)/2)/c],\n",
       "[                                                         1]])"
      ]
     },
     "execution_count": 12,
     "metadata": {},
     "output_type": "execute_result"
    }
   ],
   "source": [
    "es0[2][0]"
   ]
  },
  {
   "cell_type": "markdown",
   "metadata": {},
   "source": [
    "The second item in the `eigenvects` list is another tuple giving the second eigenvalue, it's multiplicity, and the associated right eigenvector"
   ]
  },
  {
   "cell_type": "code",
   "execution_count": 13,
   "metadata": {},
   "outputs": [
    {
     "data": {
      "text/plain": [
       "(a/2 + d/2 + sqrt(a**2 - 2*a*d + 4*b*c + d**2)/2,\n",
       " 1,\n",
       " [Matrix([\n",
       "  [-d/c + (a/2 + d/2 + sqrt(a**2 - 2*a*d + 4*b*c + d**2)/2)/c],\n",
       "  [                                                         1]])])"
      ]
     },
     "execution_count": 13,
     "metadata": {},
     "output_type": "execute_result"
    }
   ],
   "source": [
    "es[1]"
   ]
  },
  {
   "cell_type": "markdown",
   "metadata": {},
   "source": [
    "As always, you can learn more about the `eigenvects` function by asking"
   ]
  },
  {
   "cell_type": "code",
   "execution_count": 15,
   "metadata": {},
   "outputs": [
    {
     "data": {
      "text/plain": [
       "\u001b[0;31mSignature:\u001b[0m\n",
       "\u001b[0mM\u001b[0m\u001b[0;34m.\u001b[0m\u001b[0meigenvects\u001b[0m\u001b[0;34m(\u001b[0m\u001b[0;34m\u001b[0m\n",
       "\u001b[0;34m\u001b[0m    \u001b[0merror_when_incomplete\u001b[0m\u001b[0;34m=\u001b[0m\u001b[0;32mTrue\u001b[0m\u001b[0;34m,\u001b[0m\u001b[0;34m\u001b[0m\n",
       "\u001b[0;34m\u001b[0m    \u001b[0miszerofunc\u001b[0m\u001b[0;34m=\u001b[0m\u001b[0;34m<\u001b[0m\u001b[0mfunction\u001b[0m \u001b[0m_iszero\u001b[0m \u001b[0mat\u001b[0m \u001b[0;36m0x10c526440\u001b[0m\u001b[0;34m>\u001b[0m\u001b[0;34m,\u001b[0m\u001b[0;34m\u001b[0m\n",
       "\u001b[0;34m\u001b[0m    \u001b[0;34m**\u001b[0m\u001b[0mflags\u001b[0m\u001b[0;34m,\u001b[0m\u001b[0;34m\u001b[0m\n",
       "\u001b[0;34m\u001b[0m\u001b[0;34m)\u001b[0m\u001b[0;34m\u001b[0m\u001b[0;34m\u001b[0m\u001b[0m\n",
       "\u001b[0;31mDocstring:\u001b[0m\n",
       "Compute eigenvectors of the matrix.\n",
       "\n",
       "Parameters\n",
       "==========\n",
       "\n",
       "error_when_incomplete : bool, optional\n",
       "    Raise an error when not all eigenvalues are computed. This is\n",
       "    caused by ``roots`` not returning a full list of eigenvalues.\n",
       "\n",
       "iszerofunc : function, optional\n",
       "    Specifies a zero testing function to be used in ``rref``.\n",
       "\n",
       "    Default value is ``_iszero``, which uses SymPy's naive and fast\n",
       "    default assumption handler.\n",
       "\n",
       "    It can also accept any user-specified zero testing function, if it\n",
       "    is formatted as a function which accepts a single symbolic argument\n",
       "    and returns ``True`` if it is tested as zero and ``False`` if it\n",
       "    is tested as non-zero, and ``None`` if it is undecidable.\n",
       "\n",
       "simplify : bool or function, optional\n",
       "    If ``True``, ``as_content_primitive()`` will be used to tidy up\n",
       "    normalization artifacts.\n",
       "\n",
       "    It will also be used by the ``nullspace`` routine.\n",
       "\n",
       "chop : bool or positive number, optional\n",
       "    If the matrix contains any Floats, they will be changed to Rationals\n",
       "    for computation purposes, but the answers will be returned after\n",
       "    being evaluated with evalf. The ``chop`` flag is passed to ``evalf``.\n",
       "    When ``chop=True`` a default precision will be used; a number will\n",
       "    be interpreted as the desired level of precision.\n",
       "\n",
       "Returns\n",
       "=======\n",
       "\n",
       "ret : [(eigenval, multiplicity, eigenspace), ...]\n",
       "    A ragged list containing tuples of data obtained by ``eigenvals``\n",
       "    and ``nullspace``.\n",
       "\n",
       "    ``eigenspace`` is a list containing the ``eigenvector`` for each\n",
       "    eigenvalue.\n",
       "\n",
       "    ``eigenvector`` is a vector in the form of a ``Matrix``. e.g.\n",
       "    a vector of length 3 is returned as ``Matrix([a_1, a_2, a_3])``.\n",
       "\n",
       "Raises\n",
       "======\n",
       "\n",
       "NotImplementedError\n",
       "    If failed to compute nullspace.\n",
       "\n",
       "Examples\n",
       "========\n",
       "\n",
       ">>> from sympy import Matrix\n",
       ">>> M = Matrix(3, 3, [0, 1, 1, 1, 0, 0, 1, 1, 1])\n",
       ">>> M.eigenvects()\n",
       "[(-1, 1, [Matrix([\n",
       "[-1],\n",
       "[ 1],\n",
       "[ 0]])]), (0, 1, [Matrix([\n",
       "[ 0],\n",
       "[-1],\n",
       "[ 1]])]), (2, 1, [Matrix([\n",
       "[2/3],\n",
       "[1/3],\n",
       "[  1]])])]\n",
       "\n",
       "See Also\n",
       "========\n",
       "\n",
       "eigenvals\n",
       "MatrixSubspaces.nullspace\n",
       "\u001b[0;31mFile:\u001b[0m      ~/.virtualenvs/eeb430/lib/python3.7/site-packages/sympy/matrices/matrices.py\n",
       "\u001b[0;31mType:\u001b[0m      method\n"
      ]
     },
     "metadata": {},
     "output_type": "display_data"
    }
   ],
   "source": [
    "M.eigenvects?"
   ]
  },
  {
   "cell_type": "markdown",
   "metadata": {},
   "source": [
    "## Questions"
   ]
  },
  {
   "cell_type": "markdown",
   "metadata": {},
   "source": [
    "Let's put this into practice by analyzing what is known as \"Kimura's two-parameter model of mutation\". Here we model how the number of adenines ($n_A$), guanines ($n_G$), cytosines ($n_C$), and thymines ($n_T$), in a sequence of DNA changes over generations. We assume that *transitions* (from A to G, G to A, C to T, and T to C) happen with probability $\\alpha$ per generation while *transversions* (the remainder of mutations, which are generally less likely because they alter the ring structure of the DNA) happen with probability $\\beta$ per generation. We assume no other force but mutation is acting (this is a \"neutral\" model, where there is no selection). The system of linear recursion equations is, in matrix form,\n",
    "\n",
    "$$\n",
    "\\begin{pmatrix}\n",
    "n_A(t+1) \\\\ n_G(t+1) \\\\ n_C(t+1) \\\\ n_T(t+1)\n",
    "\\end{pmatrix}\n",
    "= \n",
    "\\begin{pmatrix}\n",
    "1-\\alpha-2\\beta & \\alpha & \\beta & \\beta \\\\\n",
    "\\alpha & 1-\\alpha-2\\beta & \\beta & \\beta \\\\\n",
    "\\beta & \\beta & 1-\\alpha-2\\beta & \\alpha \\\\\n",
    "\\beta & \\beta & \\alpha & 1-\\alpha-2\\beta \\\\\n",
    "\\end{pmatrix}\n",
    "\\begin{pmatrix}\n",
    "n_A(t) \\\\ n_G(t) \\\\ n_C(t) \\\\ n_T(t)\n",
    "\\end{pmatrix}\n",
    "$$"
   ]
  },
  {
   "cell_type": "markdown",
   "metadata": {},
   "source": [
    "**Q1.** [1 point] Define the matrix \n",
    "$$\n",
    "\\mathbf{M} = \\begin{pmatrix}\n",
    "1-\\alpha-2\\beta & \\alpha & \\beta & \\beta \\\\\n",
    "\\alpha & 1-\\alpha-2\\beta & \\beta & \\beta \\\\\n",
    "\\beta & \\beta & 1-\\alpha-2\\beta & \\alpha \\\\\n",
    "\\beta & \\beta & \\alpha & 1-\\alpha-2\\beta \\\\\n",
    "\\end{pmatrix}\n",
    "$$\n",
    "with symbolic entries."
   ]
  },
  {
   "cell_type": "code",
   "execution_count": 36,
   "metadata": {},
   "outputs": [
    {
     "data": {
      "text/latex": [
       "$\\displaystyle \\left[\\begin{matrix}- a - 2 b + 1 & a & b & b\\\\a & - a - 2 b + 1 & b & b\\\\b & b & - a - 2 b + 1 & a\\\\b & b & a & - a - 2 b + 1\\end{matrix}\\right]$"
      ],
      "text/plain": [
       "Matrix([\n",
       "[-a - 2*b + 1,            a,            b,            b],\n",
       "[           a, -a - 2*b + 1,            b,            b],\n",
       "[           b,            b, -a - 2*b + 1,            a],\n",
       "[           b,            b,            a, -a - 2*b + 1]])"
      ]
     },
     "execution_count": 36,
     "metadata": {},
     "output_type": "execute_result"
    }
   ],
   "source": [
    "var('a,b')\n",
    "M = Matrix([[1-a-2*b, a, b, b],\n",
    "            [a, 1-a-2*b, b, b],\n",
    "            [b, b, 1-a-2*b, a],\n",
    "            [b, b, a, 1-a-2*b]])\n",
    "M"
   ]
  },
  {
   "cell_type": "markdown",
   "metadata": {},
   "source": [
    "**Q2.** [1 point] Calculate the eigenvalues and right eigenvectors of $\\mathbf{M}$."
   ]
  },
  {
   "cell_type": "code",
   "execution_count": 37,
   "metadata": {},
   "outputs": [
    {
     "data": {
      "text/plain": [
       "[(1,\n",
       "  1,\n",
       "  [Matrix([\n",
       "   [1],\n",
       "   [1],\n",
       "   [1],\n",
       "   [1]])]),\n",
       " (1 - 4*b,\n",
       "  1,\n",
       "  [Matrix([\n",
       "   [-1],\n",
       "   [-1],\n",
       "   [ 1],\n",
       "   [ 1]])]),\n",
       " (-2*a - 2*b + 1,\n",
       "  2,\n",
       "  [Matrix([\n",
       "   [-1],\n",
       "   [ 1],\n",
       "   [ 0],\n",
       "   [ 0]]),\n",
       "   Matrix([\n",
       "   [ 0],\n",
       "   [ 0],\n",
       "   [-1],\n",
       "   [ 1]])])]"
      ]
     },
     "execution_count": 37,
     "metadata": {},
     "output_type": "execute_result"
    }
   ],
   "source": [
    "es = M.eigenvects()\n",
    "es"
   ]
  },
  {
   "cell_type": "markdown",
   "metadata": {},
   "source": [
    "**Q3.** [1 point] Create a 4x4 matrix $\\mathbf{D}$ with each eigenvalue an entry along the diagonal, and zeros elsewhere."
   ]
  },
  {
   "cell_type": "code",
   "execution_count": 38,
   "metadata": {},
   "outputs": [],
   "source": [
    "D = Matrix([[1,0,0,0],\n",
    "            [0,1-4*b,0,0],\n",
    "            [0,0,1-2*a-2*b,0],\n",
    "            [0,0,0,1-2*a-2*b]])"
   ]
  },
  {
   "cell_type": "markdown",
   "metadata": {},
   "source": [
    "**Q4.** [1 point] Create a 4x4 matrix $\\mathbf{A}$ with the right eigenvectors as columns (make sure they are in the same order as their associated eigenvalues are in $\\mathbf{D}$)"
   ]
  },
  {
   "cell_type": "code",
   "execution_count": 39,
   "metadata": {},
   "outputs": [],
   "source": [
    "A = Matrix([[1,-1,-1,0],\n",
    "            [1,-1,1,0],\n",
    "            [1,1,0,-1],\n",
    "            [1,1,0,1]])"
   ]
  },
  {
   "cell_type": "markdown",
   "metadata": {},
   "source": [
    "**Q5.** [1 point] Calculate the inverse of $\\mathbf{A}$"
   ]
  },
  {
   "cell_type": "code",
   "execution_count": 40,
   "metadata": {},
   "outputs": [
    {
     "data": {
      "text/latex": [
       "$\\displaystyle \\left[\\begin{matrix}\\frac{1}{4} & \\frac{1}{4} & \\frac{1}{4} & \\frac{1}{4}\\\\- \\frac{1}{4} & - \\frac{1}{4} & \\frac{1}{4} & \\frac{1}{4}\\\\- \\frac{1}{2} & \\frac{1}{2} & 0 & 0\\\\0 & 0 & - \\frac{1}{2} & \\frac{1}{2}\\end{matrix}\\right]$"
      ],
      "text/plain": [
       "Matrix([\n",
       "[ 1/4,  1/4,  1/4, 1/4],\n",
       "[-1/4, -1/4,  1/4, 1/4],\n",
       "[-1/2,  1/2,    0,   0],\n",
       "[   0,    0, -1/2, 1/2]])"
      ]
     },
     "execution_count": 40,
     "metadata": {},
     "output_type": "execute_result"
    }
   ],
   "source": [
    "Ainv = A.inv()\n",
    "Ainv"
   ]
  },
  {
   "cell_type": "markdown",
   "metadata": {},
   "source": [
    "**Q6.** [1 point] Create a vector of initial conditions, $\\vec{n}(0) = \\begin{pmatrix} n_A(0) \\\\ n_G(0) \\\\ n_C(0) \\\\ n_T(0) \\end{pmatrix}$"
   ]
  },
  {
   "cell_type": "code",
   "execution_count": 41,
   "metadata": {},
   "outputs": [],
   "source": [
    "var('nA0,nG0,nC0,nT0') \n",
    "n0 = Matrix([[nA0],\n",
    "             [nG0],\n",
    "             [nC0],\n",
    "             [nT0]])"
   ]
  },
  {
   "cell_type": "markdown",
   "metadata": {},
   "source": [
    "**Q7.** [1 point] Calculate the general solution for the number of each type of nucleotide in generation $t$, $\\vec{n}(t) = \\mathbf{A} \\mathbf{D}^t \\mathbf{A}^{-1} \\vec{n}(0)$"
   ]
  },
  {
   "cell_type": "code",
   "execution_count": 42,
   "metadata": {},
   "outputs": [
    {
     "data": {
      "text/latex": [
       "$\\displaystyle \\left[\\begin{matrix}nA_{0} \\left(\\frac{\\left(1 - 4 b\\right)^{t}}{4} + \\frac{\\left(- 2 a - 2 b + 1\\right)^{t}}{2} + \\frac{1}{4}\\right) + nC_{0} \\cdot \\left(\\frac{1}{4} - \\frac{\\left(1 - 4 b\\right)^{t}}{4}\\right) + nG_{0} \\left(\\frac{\\left(1 - 4 b\\right)^{t}}{4} - \\frac{\\left(- 2 a - 2 b + 1\\right)^{t}}{2} + \\frac{1}{4}\\right) + nT_{0} \\cdot \\left(\\frac{1}{4} - \\frac{\\left(1 - 4 b\\right)^{t}}{4}\\right)\\\\nA_{0} \\left(\\frac{\\left(1 - 4 b\\right)^{t}}{4} - \\frac{\\left(- 2 a - 2 b + 1\\right)^{t}}{2} + \\frac{1}{4}\\right) + nC_{0} \\cdot \\left(\\frac{1}{4} - \\frac{\\left(1 - 4 b\\right)^{t}}{4}\\right) + nG_{0} \\left(\\frac{\\left(1 - 4 b\\right)^{t}}{4} + \\frac{\\left(- 2 a - 2 b + 1\\right)^{t}}{2} + \\frac{1}{4}\\right) + nT_{0} \\cdot \\left(\\frac{1}{4} - \\frac{\\left(1 - 4 b\\right)^{t}}{4}\\right)\\\\nA_{0} \\cdot \\left(\\frac{1}{4} - \\frac{\\left(1 - 4 b\\right)^{t}}{4}\\right) + nC_{0} \\left(\\frac{\\left(1 - 4 b\\right)^{t}}{4} + \\frac{\\left(- 2 a - 2 b + 1\\right)^{t}}{2} + \\frac{1}{4}\\right) + nG_{0} \\cdot \\left(\\frac{1}{4} - \\frac{\\left(1 - 4 b\\right)^{t}}{4}\\right) + nT_{0} \\left(\\frac{\\left(1 - 4 b\\right)^{t}}{4} - \\frac{\\left(- 2 a - 2 b + 1\\right)^{t}}{2} + \\frac{1}{4}\\right)\\\\nA_{0} \\cdot \\left(\\frac{1}{4} - \\frac{\\left(1 - 4 b\\right)^{t}}{4}\\right) + nC_{0} \\left(\\frac{\\left(1 - 4 b\\right)^{t}}{4} - \\frac{\\left(- 2 a - 2 b + 1\\right)^{t}}{2} + \\frac{1}{4}\\right) + nG_{0} \\cdot \\left(\\frac{1}{4} - \\frac{\\left(1 - 4 b\\right)^{t}}{4}\\right) + nT_{0} \\left(\\frac{\\left(1 - 4 b\\right)^{t}}{4} + \\frac{\\left(- 2 a - 2 b + 1\\right)^{t}}{2} + \\frac{1}{4}\\right)\\end{matrix}\\right]$"
      ],
      "text/plain": [
       "Matrix([\n",
       "[nA0*((1 - 4*b)**t/4 + (-2*a - 2*b + 1)**t/2 + 1/4) + nC0*(1/4 - (1 - 4*b)**t/4) + nG0*((1 - 4*b)**t/4 - (-2*a - 2*b + 1)**t/2 + 1/4) + nT0*(1/4 - (1 - 4*b)**t/4)],\n",
       "[nA0*((1 - 4*b)**t/4 - (-2*a - 2*b + 1)**t/2 + 1/4) + nC0*(1/4 - (1 - 4*b)**t/4) + nG0*((1 - 4*b)**t/4 + (-2*a - 2*b + 1)**t/2 + 1/4) + nT0*(1/4 - (1 - 4*b)**t/4)],\n",
       "[nA0*(1/4 - (1 - 4*b)**t/4) + nC0*((1 - 4*b)**t/4 + (-2*a - 2*b + 1)**t/2 + 1/4) + nG0*(1/4 - (1 - 4*b)**t/4) + nT0*((1 - 4*b)**t/4 - (-2*a - 2*b + 1)**t/2 + 1/4)],\n",
       "[nA0*(1/4 - (1 - 4*b)**t/4) + nC0*((1 - 4*b)**t/4 - (-2*a - 2*b + 1)**t/2 + 1/4) + nG0*(1/4 - (1 - 4*b)**t/4) + nT0*((1 - 4*b)**t/4 + (-2*a - 2*b + 1)**t/2 + 1/4)]])"
      ]
     },
     "execution_count": 42,
     "metadata": {},
     "output_type": "execute_result"
    }
   ],
   "source": [
    "var('t')\n",
    "nt = A*D**t*Ainv*n0\n",
    "nt"
   ]
  },
  {
   "cell_type": "markdown",
   "metadata": {},
   "source": [
    "**Q8.** [1 point] Assume that $\\alpha=10^{-7}$, $\\beta=10^{-8}$, and we start with $\\vec{n}(0) = \\begin{pmatrix} 0.1 \\\\ 0.25 \\\\ 0.25 \\\\ 0.4 \\end{pmatrix}$ (note that we switched from the *number* of each nucleotide to the *fraction* of each nucleotide, which is fine since the total number of nucleotides will remain constant, meaning we can convert between numbers and fractions without loss of information). What is the fraction of each nucleotide after 100 million generations?"
   ]
  },
  {
   "cell_type": "code",
   "execution_count": 54,
   "metadata": {},
   "outputs": [
    {
     "data": {
      "text/latex": [
       "$\\displaystyle \\left[\\begin{matrix}0.248626327169426\\\\0.248626327211268\\\\0.251373672788732\\\\0.251373672830574\\end{matrix}\\right]$"
      ],
      "text/plain": [
       "Matrix([\n",
       "[0.248626327169426],\n",
       "[0.248626327211268],\n",
       "[0.251373672788732],\n",
       "[0.251373672830574]])"
      ]
     },
     "execution_count": 54,
     "metadata": {},
     "output_type": "execute_result"
    }
   ],
   "source": [
    "nt.subs(nA0,0.1).subs(nG0,0.25).subs(nC0,0.25).subs(nT0,0.4).subs(a,10**-7).subs(b,10**-8).subs(t,10**8)"
   ]
  },
  {
   "cell_type": "markdown",
   "metadata": {},
   "source": [
    "**Q9.** [1 point] What is the leading eigenvalue and it's associated right eigenvector?"
   ]
  },
  {
   "cell_type": "markdown",
   "metadata": {},
   "source": [
    "1, [1,1,1,1]"
   ]
  },
  {
   "cell_type": "markdown",
   "metadata": {},
   "source": [
    "**Q10**. [1 point] Given this right eigenvector associated with the leading eigenvalue, what is the equilibrium fraction of each nucleotide? "
   ]
  },
  {
   "cell_type": "markdown",
   "metadata": {},
   "source": [
    "Since all the elements of the right eigenvector are equal, we expect an equal fraction of each nucleotide at equilibrium."
   ]
  }
 ],
 "metadata": {
  "kernelspec": {
   "display_name": "eeb430",
   "language": "python",
   "name": "eeb430"
  },
  "language_info": {
   "codemirror_mode": {
    "name": "ipython",
    "version": 3
   },
   "file_extension": ".py",
   "mimetype": "text/x-python",
   "name": "python",
   "nbconvert_exporter": "python",
   "pygments_lexer": "ipython3",
   "version": "3.7.4"
  }
 },
 "nbformat": 4,
 "nbformat_minor": 4
}
