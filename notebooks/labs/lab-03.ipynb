{
 "cells": [
  {
   "cell_type": "markdown",
   "id": "58726a33-8e13-4102-8466-22638ab98837",
   "metadata": {},
   "source": [
    "# Lab 3 - General solutions"
   ]
  },
  {
   "cell_type": "markdown",
   "id": "b1815958-2b93-4101-9a77-aa215f21dad8",
   "metadata": {},
   "source": [
    "Finding general solutions can be fairly mathematically intensive. A computer can help."
   ]
  },
  {
   "cell_type": "markdown",
   "id": "26097eb3-33e0-40e3-84f2-593f6b205280",
   "metadata": {},
   "source": [
    "Below are two simpler examples to demonstrate the coding technique."
   ]
  },
  {
   "cell_type": "markdown",
   "id": "21884536-f601-49c5-9c8e-bfa16c6522fe",
   "metadata": {},
   "source": [
    "## Exponential population growth in discrete time"
   ]
  },
  {
   "cell_type": "code",
   "execution_count": 5,
   "id": "739f4e15-eeca-4a38-a86b-b9cd61fccce5",
   "metadata": {},
   "outputs": [
    {
     "data": {
      "text/latex": [
       "$\\displaystyle R^{t} n_{0}$"
      ],
      "text/plain": [
       "R**t*n0"
      ]
     },
     "execution_count": 5,
     "metadata": {},
     "output_type": "execute_result"
    }
   ],
   "source": [
    "from sympy import *\n",
    "\n",
    "# define symbols and function\n",
    "R, t, n0 = symbols('R, t, n0') #define symbols for reproductive factor, time, and intitial population size\n",
    "n = Function('n') #define population size as a function\n",
    "\n",
    "# solve recursion equation\n",
    "rsolve(Eq(n(t+1), R * n(t)), # the recursion\n",
    "       n(t), #the function we want to solve for\n",
    "       {n(0): n0}) #the initial condition"
   ]
  },
  {
   "cell_type": "markdown",
   "id": "925748d1-39e9-47f4-af08-770ec4fadd87",
   "metadata": {},
   "source": [
    "## Logistic population growth in continuous time"
   ]
  },
  {
   "cell_type": "code",
   "execution_count": 7,
   "id": "7d1b3afd-a1f6-4783-8510-2d82a7a22339",
   "metadata": {},
   "outputs": [
    {
     "data": {
      "text/latex": [
       "$\\displaystyle n{\\left(t \\right)} = \\frac{k n_{0} e^{r t}}{k + n_{0} e^{r t} - n_{0}}$"
      ],
      "text/plain": [
       "Eq(n(t), k*n0*exp(r*t)/(k + n0*exp(r*t) - n0))"
      ]
     },
     "execution_count": 7,
     "metadata": {},
     "output_type": "execute_result"
    }
   ],
   "source": [
    "# define symbols and function\n",
    "r,k,t,n0 = var('r, k, t, n0') #define the parameters, variables, and initial condition\n",
    "n = Function('n')(t) #define a general function\n",
    "\n",
    "# solve differential equation\n",
    "f = dsolve(\n",
    "    Eq(Derivative(n,t), r * n * (1 - n / k)), #the differential equation we want to solve\n",
    "    n, #the function we want to solve for\n",
    "    ivar = t, #the independent variable we want the function to be of\n",
    "    ics={n.subs(t,0): n0} #the initial condition\n",
    ")\n",
    "\n",
    "f.simplify() # in this case it is helpful to simplify the final expression"
   ]
  },
  {
   "cell_type": "markdown",
   "id": "9051d655-0a54-4822-b915-bbcf4ca28d4f",
   "metadata": {},
   "source": [
    "## Question"
   ]
  },
  {
   "cell_type": "markdown",
   "id": "59a19e1c-0512-4dfd-a31d-f1ddbe597cfe",
   "metadata": {},
   "source": [
    "Sink populations are defined as populations that are maintained by migration from another source population. Here we consider a sink population, with a negative intrinsic growth rate, $r<0$, that receives immigrants at rate $m$, which is decreasing over time due to habitat deterioration in migration corridors, $m=m_0-\\delta \\;t$. The differential equation describing this situation is \n",
    "\n",
    "$$\\frac{\\mathrm{d}n}{\\mathrm{d}t} = r n + m_0 - \\delta\\; t.$$"
   ]
  },
  {
   "cell_type": "markdown",
   "id": "d4a7e62e-545d-43ff-9904-abed04609860",
   "metadata": {},
   "source": [
    "Use ```dsolve``` to get the general solution, $n(t)$."
   ]
  },
  {
   "cell_type": "markdown",
   "id": "bb94cf4e-1931-4f53-ae51-d34affb23deb",
   "metadata": {},
   "source": [
    "Plot this solution from $t=0$ to $t=80$ using $r=-0.01$, $m_0=0.5$, $\\delta=0.02$, and $n(0)=40$."
   ]
  },
  {
   "cell_type": "markdown",
   "id": "41eabc66-e14b-4934-b2af-57a37d3239af",
   "metadata": {},
   "source": [
    "Use the general solution to solve for the time the population will go extinct under these parameter values."
   ]
  }
 ],
 "metadata": {
  "kernelspec": {
   "display_name": "eeb430",
   "language": "python",
   "name": "eeb430"
  },
  "language_info": {
   "codemirror_mode": {
    "name": "ipython",
    "version": 3
   },
   "file_extension": ".py",
   "mimetype": "text/x-python",
   "name": "python",
   "nbconvert_exporter": "python",
   "pygments_lexer": "ipython3",
   "version": "3.7.4"
  }
 },
 "nbformat": 4,
 "nbformat_minor": 5
}
