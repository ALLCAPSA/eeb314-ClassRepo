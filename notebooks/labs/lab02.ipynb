{
 "cells": [
  {
   "cell_type": "markdown",
   "id": "1074cf3e",
   "metadata": {
    "tags": []
   },
   "source": [
    "# Lab 2: Simulating recursion equations"
   ]
  },
  {
   "cell_type": "markdown",
   "id": "943e1ce8-cb8d-4926-a5b8-14d556e7006f",
   "metadata": {},
   "source": [
    "## Exponential growth in discrete time"
   ]
  },
  {
   "cell_type": "markdown",
   "id": "ee15121a-3bd3-44c3-9169-4cba0b9f5aed",
   "metadata": {},
   "source": [
    "A simple way to write the recursion equation for exponential growth, $n_{t+1} = n_t R$, is to define a function that gives the initial population size, $n_0$ when $t=0$ and otherwise gives the population size at the previous time multiplied by the growth rate, $R$,"
   ]
  },
  {
   "cell_type": "code",
   "execution_count": null,
   "id": "086aaf1b",
   "metadata": {},
   "outputs": [],
   "source": [
    "def n(t, n0, R):\n",
    "    '''population size at time t in discrete time exponential growth model'''\n",
    "    if t == 0:\n",
    "        return n0 #initial condition (population size of n0 at time 0)\n",
    "    else:\n",
    "        return n(t-1, n0, R) * R #recursion (multiply the previous population size by R)"
   ]
  },
  {
   "cell_type": "markdown",
   "id": "77f391f8-c9b9-420d-9b6a-f1044e7aa6d7",
   "metadata": {},
   "source": [
    "So then if we wanted the population size at time $t=5$, with initial population size $n_0=1$ and growth rate $R=2$, we could evaluate"
   ]
  },
  {
   "cell_type": "code",
   "execution_count": null,
   "id": "a8472fc8-edd9-4858-9595-31694aaf8a3d",
   "metadata": {},
   "outputs": [],
   "source": [
    "n(t=5, n0=1, R=2)"
   ]
  },
  {
   "cell_type": "markdown",
   "id": "38814575-e430-42b9-8af1-954467752112",
   "metadata": {},
   "source": [
    "Note that this is not always the smartest way to write a recursion. This is because *everytime* we evaluate $n(t)$ at some time $t$ we first calculate $n(0)$, then $n(1)$, then $n(2)$, ... until we get to $n(t)$. So if we wanted to plot $n(t)$ as a function of $t$, we'd do this recursion down to $t=0$ for *every* value of $t$, which is very redundant."
   ]
  },
  {
   "cell_type": "markdown",
   "id": "96e4a551-1255-47db-947e-0b4ccf909970",
   "metadata": {},
   "source": [
    "### Generators"
   ]
  },
  {
   "cell_type": "markdown",
   "id": "a5b8b365-7098-4490-9252-629e86e608be",
   "metadata": {},
   "source": [
    "We might therefore rather define a function that will store the current value of the function and easily give the next. Below is one"
   ]
  },
  {
   "cell_type": "code",
   "execution_count": null,
   "id": "0958ec48-7a15-45d2-b0e4-07bdf03f6a89",
   "metadata": {},
   "outputs": [],
   "source": [
    "import numpy as np #some numerical tools\n",
    "\n",
    "def n(t0, n0, R, max=np.inf):\n",
    "    '''population size at time t in discrete time exponential growth model'''\n",
    "    t = t0 #set the initial value of t\n",
    "    nt = n0 #and the initial value of n_t\n",
    "    while t < max: #and then if we've not gone too far yet\n",
    "        yield nt #yield the current value of n_t\n",
    "        t += 1 #then update t\n",
    "        nt = nt * R #and update n_t"
   ]
  },
  {
   "cell_type": "markdown",
   "id": "8d3e2d14-8353-4693-9c9c-494076a1a2ab",
   "metadata": {},
   "source": [
    "This is called a \"generator\", and the subtle difference between a generator and a function is mostly being whether we \"return\" or \"yield\" values. The \"yield\" returns the value but then stops evaluating further, until the generator is called again."
   ]
  },
  {
   "cell_type": "markdown",
   "id": "5b2135da-30d9-4470-beed-620beb1ad190",
   "metadata": {},
   "source": [
    "So let's choose some parameter values for our generator, and assign this to an object ```nt```"
   ]
  },
  {
   "cell_type": "code",
   "execution_count": null,
   "id": "56c037ec-b7f5-4172-91e6-61e4a33e1d24",
   "metadata": {},
   "outputs": [],
   "source": [
    "nt = n(t0=0, n0=1, R=2, max=10)"
   ]
  },
  {
   "cell_type": "markdown",
   "id": "37e153ac-66e3-4774-af33-722a9bb4c4dc",
   "metadata": {},
   "source": [
    "Now we can ask what the next value of n is (this will be the initial value, $n_0$)"
   ]
  },
  {
   "cell_type": "code",
   "execution_count": null,
   "id": "7fd800f6-fef0-48b2-ad02-9bac412931a5",
   "metadata": {},
   "outputs": [],
   "source": [
    "next(nt)"
   ]
  },
  {
   "cell_type": "markdown",
   "id": "6a3add98-b95c-41fa-97ff-d59e7bd6ef07",
   "metadata": {},
   "source": [
    "And the next"
   ]
  },
  {
   "cell_type": "code",
   "execution_count": null,
   "id": "5cc245ef-44b6-4b93-a0f8-4d06424e6ae2",
   "metadata": {},
   "outputs": [],
   "source": [
    "next(nt)"
   ]
  },
  {
   "cell_type": "markdown",
   "id": "5e478010-e0c1-4e25-ad11-ae7a6230ce26",
   "metadata": {},
   "source": [
    "And so on. We can also ask for all the values in our generator by asking \"for\" each value \"in\" the generator"
   ]
  },
  {
   "cell_type": "code",
   "execution_count": null,
   "id": "735f6f5c-c6a5-480d-be63-ea385fbf950e",
   "metadata": {},
   "outputs": [],
   "source": [
    "nt = n(t0=0, n0=1, R=2, max=10) #redefine the object nt again so that we start from the beginning again\n",
    "nts = [n for n in nt] #make list of population sizes\n",
    "nts"
   ]
  },
  {
   "cell_type": "markdown",
   "id": "30d54b3b-e3b5-497e-b566-608f5973abdb",
   "metadata": {},
   "source": [
    "### Plotting"
   ]
  },
  {
   "cell_type": "markdown",
   "id": "d256496e-9f99-492b-b04c-43896193f6b7",
   "metadata": {},
   "source": [
    "Now that we have this list of population sizes, we can plot them"
   ]
  },
  {
   "cell_type": "code",
   "execution_count": null,
   "id": "2accefe0-f9db-4504-a0c3-1d4f4352bfbd",
   "metadata": {},
   "outputs": [],
   "source": [
    "import matplotlib.pyplot as plt #standard plotting library\n",
    "\n",
    "plt.scatter(range(10), nts) #plot (t,n) pairs\n",
    "plt.xlabel(\"time, $t$\")\n",
    "plt.ylabel(\"population size, $n_t$\")\n",
    "plt.show()"
   ]
  },
  {
   "cell_type": "markdown",
   "id": "34242d88-31bd-408e-9cf5-ceeb8d199650",
   "metadata": {},
   "source": [
    "If we wanted to compare multiple $R$ values we could use a ```for``` loop"
   ]
  },
  {
   "cell_type": "code",
   "execution_count": null,
   "id": "e9753f33-a064-4c81-8ea4-c1fafa94d4f8",
   "metadata": {},
   "outputs": [],
   "source": [
    "for R in [1, 1.1, 1.2]:\n",
    "    nt = n(t0=0, n0=1, R=R, max=10) #define the object nt again so that we start from the beginning\n",
    "    nts = [n for n in nt] #make list of population sizes\n",
    "    plt.scatter(range(10), nts, label=\"R = %.1f\" %R) #plot (t,n) pairs\n",
    "\n",
    "plt.xlabel(\"time, $t$\")\n",
    "plt.ylabel(\"population size, $n_t$\")\n",
    "plt.legend()\n",
    "plt.show()"
   ]
  },
  {
   "cell_type": "markdown",
   "id": "f61c150e-9692-4728-9b94-ea2cbfc0c963",
   "metadata": {
    "tags": []
   },
   "source": [
    "## Logistic growth in discrete time"
   ]
  },
  {
   "cell_type": "markdown",
   "id": "43a6550f-575a-4f23-8a50-083e1c511197",
   "metadata": {},
   "source": [
    "**Q1.** The dynamics of exponential growth are fairly straightforward, but the same cannot be said of logistic growth in discrete time, $n_{t+1} = n_t (1 + r(1-n_t/K))$. To see this, follow the approach above to plot population size in the logistic model from time 0 to 100 with initial population size 1 and carrying capacity 100 for each intrinsic growth rate in [0.1, 2.1, 2.5, 2.565, 2.7, 3.1]. Plot all of these dynamics in the same figure (as above). Although this is a discrete time model, it is visually helpful to plot as lines (rather than points) in this case. In order to see the dynamics, restrict the y-axis to values between 0 and 150. [3 points] \n",
    "\n",
    "*Here and for all future lab questions, annotate your code with comments (starting with ```#```). This is  best practice in coding more generally. You do not need to annotate every single line, but provide enough so that others can understand what you are doing. We will deduct marks from code that is not annotated. Also be sure to label the axes of your plots, and provide a legend where needed.*"
   ]
  },
  {
   "cell_type": "code",
   "execution_count": null,
   "id": "5d4c4c62-3a76-4e8e-884c-7bfdf8f28030",
   "metadata": {},
   "outputs": [],
   "source": []
  },
  {
   "cell_type": "markdown",
   "id": "1e389f17-bade-4120-af1f-68f77d0aaabb",
   "metadata": {},
   "source": [
    "**Q2.** Explain in words what is happening to the population dynamics as the intrinsic growth rate is increased. Why does a large intrinsic growth rate cause oscillations? [1 point]"
   ]
  },
  {
   "cell_type": "code",
   "execution_count": null,
   "id": "3102e1ff-c806-4d43-bf83-fc7ef7f8eae9",
   "metadata": {},
   "outputs": [],
   "source": []
  },
  {
   "cell_type": "markdown",
   "id": "362c809b-e907-4d4a-a166-1640c8248506",
   "metadata": {},
   "source": [
    "## Natural Selection"
   ]
  },
  {
   "cell_type": "markdown",
   "id": "344b9362-eca1-40e7-9873-396f399576e5",
   "metadata": {},
   "source": [
    "Let's next explore the two models of natural selection we saw in the lecture, haploid and diploid selection."
   ]
  },
  {
   "cell_type": "markdown",
   "id": "0995e69c-1467-4672-9ff0-2ced71672883",
   "metadata": {},
   "source": [
    "Our recursions were\n",
    "\n",
    "$p_{t+1} = \\frac{w_A p_t}{w_A p_t + 1 - p_t}$ (haploid selection)\n",
    "\n",
    "$p_{t+1} = \\frac{w_{AA} p_t^2 + w_{Aa} p_t(1-p_t)}{w_{AA} p_t^2 + w_{Aa} 2 p_t(1-p_t) + (1-p_t)^2}$ (diploid selection)"
   ]
  },
  {
   "cell_type": "markdown",
   "id": "df1c6adb-99f1-422b-86ef-b2c93dcfb734",
   "metadata": {},
   "source": [
    "**Q3.** Plot the dynamics for these two recursions from generation 0 to 200 with initial condition $p_0=0.1$ and parameter values $w_A=1.1$, $w_{AA}=1.1$, and $w_{Aa}=1$. [3 points]"
   ]
  },
  {
   "cell_type": "code",
   "execution_count": null,
   "id": "103143b2-ff24-48a7-96d2-da933d56cd95",
   "metadata": {},
   "outputs": [],
   "source": []
  },
  {
   "cell_type": "markdown",
   "id": "dda5abb7-5c45-486a-a1a5-8fe48153c601",
   "metadata": {},
   "source": [
    "**Q4.** Explain why allele frequency increases slower in the diploid model vs the haploid model with these parameter values. [1 point]"
   ]
  },
  {
   "cell_type": "code",
   "execution_count": null,
   "id": "40797d1b-6e1b-4683-99fc-b075f1a2b914",
   "metadata": {},
   "outputs": [],
   "source": []
  },
  {
   "cell_type": "markdown",
   "id": "3ad5f3ff-ac5b-4c73-bf5d-5f2e43f1ccf8",
   "metadata": {},
   "source": [
    "**Q5.** Now compare with $w_{AA}=1.1^2$, and $w_{Aa}=1.1$. [1 point]"
   ]
  },
  {
   "cell_type": "code",
   "execution_count": null,
   "id": "b2fe5b43-758f-42d1-bc23-829e2000c5e6",
   "metadata": {},
   "outputs": [],
   "source": []
  },
  {
   "cell_type": "markdown",
   "id": "10bdb796-48ad-4dfd-a0b6-a5f1dcd89593",
   "metadata": {},
   "source": [
    "**Q6.** Explain why, biologically, the dynamics in the two models are now the same. [1 point]"
   ]
  },
  {
   "cell_type": "code",
   "execution_count": null,
   "id": "2b5ac86e-3e08-44e7-9055-e65367137cd4",
   "metadata": {},
   "outputs": [],
   "source": []
  }
 ],
 "metadata": {
  "kernelspec": {
   "display_name": "eeb430",
   "language": "python",
   "name": "eeb430"
  },
  "language_info": {
   "codemirror_mode": {
    "name": "ipython",
    "version": 3
   },
   "file_extension": ".py",
   "mimetype": "text/x-python",
   "name": "python",
   "nbconvert_exporter": "python",
   "pygments_lexer": "ipython3",
   "version": "3.7.4"
  }
 },
 "nbformat": 4,
 "nbformat_minor": 5
}
