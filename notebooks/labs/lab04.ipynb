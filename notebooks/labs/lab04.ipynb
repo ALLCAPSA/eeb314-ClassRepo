{
 "cells": [
  {
   "cell_type": "markdown",
   "id": "00ffb4aa-c385-4be6-9a77-f77aae10010b",
   "metadata": {},
   "source": [
    "# Lab 4: Equilibria and stability (univariate)"
   ]
  },
  {
   "cell_type": "markdown",
   "id": "c1ed1cad-4223-428b-a742-60ff508f49c0",
   "metadata": {},
   "source": [
    "In this lab we'll practice finding equilibria and determining their local stability in SymPy."
   ]
  },
  {
   "cell_type": "markdown",
   "id": "c6f5bd89-057f-4f90-8a1c-078d8a619fb0",
   "metadata": {},
   "source": [
    "## Haploid selection\n",
    "\n",
    "Let's illustrate the process with the model of haploid selection\n",
    "\n",
    "$$p_{t+1} = \\frac{p_t W_A}{p_t W_A + q_t W_a}$$\n",
    "\n",
    "We first want to solve for the equilibria, $\\hat{p}$, by setting $p_{t+1}=p_{t}=\\hat{p}$ in the above equation\n",
    "\n",
    "$$\\hat{p} = \\frac{\\hat{p} W_A}{\\hat{p} W_A + \\hat{q} W_a}$$\n",
    "\n",
    "Let's try this in SymPy."
   ]
  },
  {
   "cell_type": "code",
   "execution_count": 1,
   "id": "71ff0665-5ca7-43f5-b1f7-0fe5c6ea7132",
   "metadata": {},
   "outputs": [
    {
     "data": {
      "text/plain": [
       "[0, 1]"
      ]
     },
     "execution_count": 1,
     "metadata": {},
     "output_type": "execute_result"
    }
   ],
   "source": [
    "from sympy import *\n",
    "var('p,WA,Wa') #define variables/parameters\n",
    "pnext = p*WA/(p*WA+(1-p)*Wa) #define recursion\n",
    "phat = solve(pnext-p, p) #solve for the equilibria (note solve(f,x) finds the p that satisfy f(x)=0)  \n",
    "phat"
   ]
  },
  {
   "cell_type": "markdown",
   "id": "703accca-88ad-4e09-b361-91b0fdd2b6af",
   "metadata": {},
   "source": [
    "Fantastic, we get the two equilibria we derived in lecture, $\\hat{p}=0,1$, fixation of $a$ or $A$.\n",
    "\n",
    "Note that if we don't tell `solve()` which variable we are solving for, we also get the special case of parameters, $W_A=W_a$, which can be useful to know "
   ]
  },
  {
   "cell_type": "code",
   "execution_count": 2,
   "id": "aecbf15c-db85-430d-87a9-98793b35697f",
   "metadata": {},
   "outputs": [
    {
     "data": {
      "text/plain": [
       "[{WA: Wa}, {p: 0}, {p: 1}]"
      ]
     },
     "execution_count": 2,
     "metadata": {},
     "output_type": "execute_result"
    }
   ],
   "source": [
    "solve(pnext-p)"
   ]
  },
  {
   "cell_type": "markdown",
   "id": "df40a899-2366-46b3-9d6b-f978319a0abf",
   "metadata": {},
   "source": [
    "OK, now that we have our equilibria, are they stable?\n",
    "\n",
    "To do that we ask how $p$ changes when perturbed a small amount from each of the $\\hat{p}$. We do that by taking the derivative of $p_{t+1}$ with respect to $p_t$ and evaluating at $p_t=\\hat{p}$\n",
    "\n",
    "$$\\left. \\frac{\\mathrm{d}p_{t+1}}{\\mathrm{d}p_t}\\right|_{p_t=\\hat{p}}$$\n",
    "\n",
    "Let's do this first for the fixation of $a$ equilibrium, $\\hat{p}=0$."
   ]
  },
  {
   "cell_type": "code",
   "execution_count": 3,
   "id": "9bd3bb66-474b-4ada-b145-0ee0282a261f",
   "metadata": {},
   "outputs": [
    {
     "data": {
      "text/latex": [
       "$\\displaystyle \\frac{WA}{Wa}$"
      ],
      "text/plain": [
       "WA/Wa"
      ]
     },
     "execution_count": 3,
     "metadata": {},
     "output_type": "execute_result"
    }
   ],
   "source": [
    "dp = diff(pnext,p) #get derivative of p_{t+1} with respect to p_t\n",
    "dp.subs(p,0) #sub in the equilibrium value of p"
   ]
  },
  {
   "cell_type": "markdown",
   "id": "d970f6c6-e62e-4894-8c43-6a3152d0509f",
   "metadata": {},
   "source": [
    "The equilibrium is stable, in a discrete-time model, when the derivative is between -1 and 1. Since the fitnesses are always non-negative (because you can't have a negative number of offspring) this derivative is always non-negative, so we only need to worry about the upper bound at 1. The fixation of $a$ is therefore stabile when $W_A<W_a$, ie., when $a$ has higher fitness than $A$.\n",
    "\n",
    "As you might expect, we find the opposite condition for the fixation of $A$, $\\hat{p}=1$"
   ]
  },
  {
   "cell_type": "code",
   "execution_count": 4,
   "id": "883c1089-c7c0-4f2d-bcb7-dee855cc486e",
   "metadata": {},
   "outputs": [
    {
     "data": {
      "text/latex": [
       "$\\displaystyle \\frac{Wa}{WA}$"
      ],
      "text/plain": [
       "Wa/WA"
      ]
     },
     "execution_count": 4,
     "metadata": {},
     "output_type": "execute_result"
    }
   ],
   "source": [
    "dp.subs(p,1).simplify() #note we use simplify in this case because sympy spits out a more complicated expression without it (always worth a try to see if that helps!)"
   ]
  },
  {
   "cell_type": "markdown",
   "id": "3257803a-e385-42be-8ddd-7aefcb3b6b04",
   "metadata": {},
   "source": [
    "OK, that's it for the equilibria and stability of the haploid model. Now it's your turn..."
   ]
  },
  {
   "cell_type": "markdown",
   "id": "fca07eef-f57e-476c-a269-18b049cf0a0a",
   "metadata": {},
   "source": [
    "## Diploid selection"
   ]
  },
  {
   "cell_type": "markdown",
   "id": "d691c504-c57e-4b58-a1de-a31bb663499d",
   "metadata": {},
   "source": [
    "$$p_{t+1} = \\frac{p_t^2W_{AA}  + p_t q_tW_{Aa} }{p_t^2W_{AA} + 2 p_t q_tW_{Aa}  + q_t^2W_{aa} }$$"
   ]
  },
  {
   "cell_type": "markdown",
   "id": "f4bc7199-e469-4684-9407-491dea569b9a",
   "metadata": {},
   "source": [
    "**Q1.** Solve for the equilibria with SymPy. [1 point]"
   ]
  },
  {
   "cell_type": "code",
   "execution_count": null,
   "id": "d73f0bd4-c7a3-488e-a804-eb718d8dd8ac",
   "metadata": {},
   "outputs": [],
   "source": []
  },
  {
   "cell_type": "markdown",
   "id": "6829139c-1f15-4300-b0f5-dc9a9b8ad471",
   "metadata": {},
   "source": [
    "**Q2.** Describe in words what each of these equilibria represent. [1 point]"
   ]
  },
  {
   "cell_type": "code",
   "execution_count": null,
   "id": "e0c3c1aa-4a99-4632-81b0-66cca498fda6",
   "metadata": {},
   "outputs": [],
   "source": []
  },
  {
   "cell_type": "markdown",
   "id": "0ace1812-11c4-4609-964a-2968852478d4",
   "metadata": {},
   "source": [
    "**Q3.** Use SymPy to determine when $\\hat{p}=0$ is stable. [1 point]"
   ]
  },
  {
   "cell_type": "code",
   "execution_count": null,
   "id": "5fff053f-33a1-4da3-80d2-5ed79f750b14",
   "metadata": {},
   "outputs": [],
   "source": []
  },
  {
   "cell_type": "markdown",
   "id": "893099bd-208b-44cc-8e7d-efa290ac0da8",
   "metadata": {},
   "source": [
    "**Q4.** Use SymPy to determine when $\\hat{p}=1$ is stable. [1 point]"
   ]
  },
  {
   "cell_type": "code",
   "execution_count": null,
   "id": "ebc59b60-a0f0-4776-8503-b5c8f7ebc899",
   "metadata": {},
   "outputs": [],
   "source": []
  },
  {
   "cell_type": "markdown",
   "id": "a1b639a5-655e-4660-8856-ec9c98fb1e0f",
   "metadata": {},
   "source": [
    "**Q5.** Explain in words what these stability criteria mean. [1 point]"
   ]
  },
  {
   "cell_type": "code",
   "execution_count": null,
   "id": "689265a1-cdd8-43c2-abd4-1f535136528c",
   "metadata": {},
   "outputs": [],
   "source": []
  },
  {
   "cell_type": "markdown",
   "id": "f7ce83f2-a03d-4d4d-9711-1122d04a2efb",
   "metadata": {},
   "source": [
    "**Q6.** Note that these stability criteria only contain two of the three fitnesses. Why does the third fitness not appear? [1 point]"
   ]
  },
  {
   "cell_type": "code",
   "execution_count": null,
   "id": "7729259e-8315-4697-ac65-d604ab70a79f",
   "metadata": {},
   "outputs": [],
   "source": []
  },
  {
   "cell_type": "markdown",
   "id": "96333b31-fd37-40b4-9d89-ea5ab3340609",
   "metadata": {},
   "source": [
    "**Q7.** Use SymPy to get (and simplify) the derivative of $p_{t+1}$ with respect to $p_t$ evaluated at the third equilibrium, $\\hat{p}=\\frac{W_{Aa}-W_{aa}}{2W_{Aa}-W_{AA}-W_{aa}}$. [1 point]"
   ]
  },
  {
   "cell_type": "code",
   "execution_count": null,
   "id": "8d05033c-d69c-464e-aebf-7ab2a20cb18d",
   "metadata": {},
   "outputs": [],
   "source": []
  },
  {
   "cell_type": "markdown",
   "id": "03512753-f9ed-4e50-9ed4-0070d73e4c37",
   "metadata": {},
   "source": [
    "It is a little tricky to see when this is between -1 and 1. To help, let's start by choosing to measure all the fitnesses relative to that of the heterozygote, $W_{Aa}$. We can use this to simplify the derivative by replacing $W_{AA}$ by $1+s_{AA}$, $W_{aa}$ by $1+s_{aa}$, and $W_{Aa}$ by 1. \n",
    "\n",
    "NOTE: Since the fitness values can not be negative, we know $s_{aa}$, $s_{AA}$ > -1.\n",
    "\n",
    "**Q8.** Make this substitution with SymPy. [1 point]"
   ]
  },
  {
   "cell_type": "code",
   "execution_count": null,
   "id": "95974006-2db6-414c-99c6-4a293d5de314",
   "metadata": {},
   "outputs": [],
   "source": []
  },
  {
   "cell_type": "markdown",
   "id": "7a8f0126-4019-43ae-a3b6-e66878fd01f6",
   "metadata": {},
   "source": [
    "Now recall from lecture that this third equilibrium is only biologically valid (it is a frequency, so needs to be between 0 and 1) when either\n",
    "- Case A: $W_{AA}<W_{Aa}>W_{aa}$\n",
    "- Case B: $W_{AA}>W_{Aa}<W_{aa}$\n",
    "\n",
    "In our new parameters, where fitness is measured relative to $W_{Aa}$ this is\n",
    "- Case A: $s_{AA}<0>s_{aa}$\n",
    "- Case B: $s_{AA}>0<s_{aa}$\n",
    "\n",
    "Prove to yourself that the derivative above, $\\left.\\frac{\\mathrm{d}p_{t+1}}{\\mathrm{d}p_t}\\right|_{p_t=\\frac{W_{Aa}-W_{aa}}{2W_{Aa}-W_{AA}-W_{aa}}}=\\frac{2s_{AA}s_{aa}+s_{AA}+s_{aa}}{s_{AA}s_{aa}+s_{AA}+s_{aa}}$, is positive under both of these cases. HINT: Rewrite the derivative as $\\frac{ s_{AA}(1+s_{aa}) + s_{aa}(1+s_{AA}) }{s_{AA}(1+s_{aa}) + s_{aa}}$.\n",
    "\n",
    "\n",
    "For stability, we therefore only need to determine if the derivative is less than 1. In this case it is a little easier to subtract 1 from the derivative and figure out if that is negative."
   ]
  },
  {
   "cell_type": "markdown",
   "id": "1f9033e0-d2d2-4af2-97fd-6a1d4183ad0b",
   "metadata": {},
   "source": [
    "**Q9.** Determine which case, A or B, makes this third equilibrium stable. [1 point] (SymPy isn't much help here, but you can at least subtract 1 from the derivative and simplify.)"
   ]
  },
  {
   "cell_type": "code",
   "execution_count": null,
   "id": "0e164976-a33c-482d-8b75-4b9d373f677f",
   "metadata": {},
   "outputs": [],
   "source": []
  },
  {
   "cell_type": "markdown",
   "id": "014ba662-bbc6-43e2-aefa-6fc0687a5936",
   "metadata": {},
   "source": [
    "**Q10.** Interpret the result biologically -- why is it that we only have a stable polymorphic equilibrium in this one case? [1 point]"
   ]
  },
  {
   "cell_type": "code",
   "execution_count": null,
   "id": "c2b76bcd-d142-432b-bd2a-7eff257d50b5",
   "metadata": {},
   "outputs": [],
   "source": []
  }
 ],
 "metadata": {
  "kernelspec": {
   "display_name": "eeb430",
   "language": "python",
   "name": "eeb430"
  },
  "language_info": {
   "codemirror_mode": {
    "name": "ipython",
    "version": 3
   },
   "file_extension": ".py",
   "mimetype": "text/x-python",
   "name": "python",
   "nbconvert_exporter": "python",
   "pygments_lexer": "ipython3",
   "version": "3.10.6"
  }
 },
 "nbformat": 4,
 "nbformat_minor": 5
}
