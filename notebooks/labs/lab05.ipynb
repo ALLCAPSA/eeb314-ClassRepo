{
 "cells": [
  {
   "cell_type": "markdown",
   "id": "58726a33-8e13-4102-8466-22638ab98837",
   "metadata": {},
   "source": [
    "# Lab 5 - General solutions (univariate)"
   ]
  },
  {
   "cell_type": "markdown",
   "id": "b1815958-2b93-4101-9a77-aa215f21dad8",
   "metadata": {},
   "source": [
    "OK, this week we'll see how we can use SymPy to solve for general solutions, ie, our variable of interest as a function of time. "
   ]
  },
  {
   "cell_type": "markdown",
   "id": "04da8b35-1189-4c6b-bf64-db3ecc09ce21",
   "metadata": {},
   "source": [
    "## Discrete time"
   ]
  },
  {
   "cell_type": "markdown",
   "id": "0442b789-4926-4448-a89f-2da5858a4911",
   "metadata": {},
   "source": [
    "To solve recursion equations in SymPy we can use the function `rsolve`."
   ]
  },
  {
   "cell_type": "markdown",
   "id": "057c74ce-e241-4eb9-ad4a-60946f353ffd",
   "metadata": {},
   "source": [
    "For instance, for the exponential growth model we can do"
   ]
  },
  {
   "cell_type": "code",
   "execution_count": 1,
   "id": "fb41c677-069a-4268-8085-39b3032ef60b",
   "metadata": {},
   "outputs": [
    {
     "data": {
      "text/latex": [
       "$\\displaystyle R^{t} n_{0}$"
      ],
      "text/plain": [
       "R**t*n0"
      ]
     },
     "execution_count": 1,
     "metadata": {},
     "output_type": "execute_result"
    }
   ],
   "source": [
    "from sympy import *\n",
    "\n",
    "# Instantiate symbols and function\n",
    "R, t, n0 = symbols('R, t, n0') #define symbols for reproductive factor, time, and intitial population size\n",
    "n = Function('n') #define population size as a function\n",
    "\n",
    "# Specify recursion equation\n",
    "f = Eq(n(t+1), R * n(t))\n",
    "\n",
    "# Solve recursion equation for exponential growth\n",
    "rsolve(f, n(t), {n(0): n0})"
   ]
  },
  {
   "cell_type": "markdown",
   "id": "9950f5e0-0cc7-49c4-a4f8-b5b4c7e2a1f8",
   "metadata": {},
   "source": [
    "This also works for affine models"
   ]
  },
  {
   "cell_type": "code",
   "execution_count": 2,
   "id": "21ee2568-0a76-484a-828c-9e8d2d36de1a",
   "metadata": {},
   "outputs": [
    {
     "data": {
      "text/latex": [
       "$\\displaystyle \\frac{R^{t} \\left(R n_{0} + m - n_{0}\\right) - m}{R - 1}$"
      ],
      "text/plain": [
       "(R**t*(R*n0 + m - n0) - m)/(R - 1)"
      ]
     },
     "execution_count": 2,
     "metadata": {},
     "output_type": "execute_result"
    }
   ],
   "source": [
    "# Instantiate symbol for migration\n",
    "m = symbols('m')\n",
    "\n",
    "# Specify affine model\n",
    "f = Eq(n(t+1), R * n(t) + m)\n",
    "\n",
    "# Solve recurrence equation for exponential growth with migration\n",
    "rsolve(f, n(t), {n(0): n0}).simplify()"
   ]
  },
  {
   "cell_type": "markdown",
   "id": "1dde2b5f-42cb-46f4-8702-b119de9f1963",
   "metadata": {},
   "source": [
    "But let's skip to continuous time, where we can solve more equations."
   ]
  },
  {
   "cell_type": "markdown",
   "id": "925748d1-39e9-47f4-af08-770ec4fadd87",
   "metadata": {},
   "source": [
    "## Continuous time"
   ]
  },
  {
   "cell_type": "markdown",
   "id": "5d14c9d5-17aa-4fef-94ab-88cc6e5a6470",
   "metadata": {},
   "source": [
    "We can also use SymPy to solve differential equations, eg, for exponential growth"
   ]
  },
  {
   "cell_type": "code",
   "execution_count": 3,
   "id": "310d7ec7-40eb-4010-bc0a-a0d9490419ce",
   "metadata": {},
   "outputs": [
    {
     "data": {
      "text/latex": [
       "$\\displaystyle n{\\left(t \\right)} = n_{0} e^{r t}$"
      ],
      "text/plain": [
       "Eq(n(t), n0*exp(r*t))"
      ]
     },
     "execution_count": 3,
     "metadata": {},
     "output_type": "execute_result"
    }
   ],
   "source": [
    "# define\n",
    "r,t,n0 = var('r, t, n0') #define symbols for the intrinsic growth rate, time, and initial population size\n",
    "n = Function('n')(t) #define population size as a function of time\n",
    "\n",
    "# solve\n",
    "f = dsolve(\n",
    "    Eq(Derivative(n, t), r * n), #the differential equation we want to solve\n",
    "    n, #the variable/function we want to solve for\n",
    "    ivar = t, #the independent variable we want the function to be of\n",
    "    ics = {n.subs(t,0): n0} #the initial conditions (t0, n0)\n",
    ")\n",
    "\n",
    "f.simplify()"
   ]
  },
  {
   "cell_type": "markdown",
   "id": "dabd6af2-35d3-417e-94d3-294d310ddd21",
   "metadata": {},
   "source": [
    "for logistic growth"
   ]
  },
  {
   "cell_type": "code",
   "execution_count": 4,
   "id": "7d1b3afd-a1f6-4783-8510-2d82a7a22339",
   "metadata": {},
   "outputs": [
    {
     "data": {
      "text/latex": [
       "$\\displaystyle n{\\left(t \\right)} = \\frac{k n_{0} e^{r t}}{k + n_{0} e^{r t} - n_{0}}$"
      ],
      "text/plain": [
       "Eq(n(t), k*n0*exp(r*t)/(k + n0*exp(r*t) - n0))"
      ]
     },
     "execution_count": 4,
     "metadata": {},
     "output_type": "execute_result"
    }
   ],
   "source": [
    "# define\n",
    "r,k,t,n0 = var('r, k, t, n0') #define the parameters, variables, and initial condition\n",
    "n = Function('n')(t) #define a general function\n",
    "\n",
    "# solve\n",
    "f = dsolve(\n",
    "    Eq(Derivative(n,t), r * n * (1 - n / k)), #the differential equation we want to solve\n",
    "    n, #the function we want to solve for\n",
    "    ivar = t, #the independent variable we want the function to be of\n",
    "    ics={n.subs(t,0): n0} #the initial conditions (t0, n0)\n",
    ")\n",
    "\n",
    "f.simplify()"
   ]
  },
  {
   "cell_type": "markdown",
   "id": "dd92c8a1-e450-4ec7-8375-6e8b098e0484",
   "metadata": {},
   "source": [
    "and for haploid selection (note the similarity of the general solution to that of logistic growth)"
   ]
  },
  {
   "cell_type": "code",
   "execution_count": 5,
   "id": "df9d7f48-13d5-4512-96a2-72934339c9b1",
   "metadata": {},
   "outputs": [
    {
     "data": {
      "text/latex": [
       "$\\displaystyle p{\\left(t \\right)} = \\frac{p_{0} e^{s t}}{p_{0} e^{s t} - p_{0} + 1}$"
      ],
      "text/plain": [
       "Eq(p(t), p0*exp(s*t)/(p0*exp(s*t) - p0 + 1))"
      ]
     },
     "execution_count": 5,
     "metadata": {},
     "output_type": "execute_result"
    }
   ],
   "source": [
    "# define\n",
    "s,t,p0 = var('s, t, p0') #define the parameters, variables, and intial condition\n",
    "p = Function('p')(t) #define a general function\n",
    "\n",
    "# solve\n",
    "f = dsolve(\n",
    "    Eq(Derivative(p,t), s * p * (1 - p)), #the differential equation we want to solve\n",
    "    p, #the function we want to solve for\n",
    "    ivar = t, #the independent variable we want the function to be of\n",
    "    ics={p.subs(t,0): p0} #the initial conditions (t0, p0)\n",
    ")\n",
    "\n",
    "f.simplify()"
   ]
  },
  {
   "cell_type": "markdown",
   "id": "26f87397-964e-4d19-a8a6-1f7a9243e3c6",
   "metadata": {},
   "source": [
    "In Lecture 9 we solved the above equations by hand. Now let's move on to some differential equations that require other methods to solve (see Box 6.2 in the text for how to do these by hand)."
   ]
  },
  {
   "cell_type": "markdown",
   "id": "9051d655-0a54-4822-b915-bbcf4ca28d4f",
   "metadata": {},
   "source": [
    "## Questions"
   ]
  },
  {
   "cell_type": "markdown",
   "id": "59a19e1c-0512-4dfd-a31d-f1ddbe597cfe",
   "metadata": {},
   "source": [
    "**Q1.** Sink populations are defined as populations that are maintained by migration from another source population. Here we consider a sink population, with a negative intrinsic growth rate, $r<0$, that receives immigrants at rate $m$, which is decreasing over time due to habitat deterioration in migration corridors, $m=m_0-\\delta \\;t$. The differential equation describing this situation is \n",
    "\n",
    "$$\\frac{\\mathrm{d}n}{\\mathrm{d}t} = r n + m_0 - \\delta\\; t$$"
   ]
  },
  {
   "cell_type": "markdown",
   "id": "d4a7e62e-545d-43ff-9904-abed04609860",
   "metadata": {},
   "source": [
    "(a) [1 point] Use ```dsolve``` to get the general solution, $n(t)$, with initial condition $n(0)=n_0$."
   ]
  },
  {
   "cell_type": "code",
   "execution_count": null,
   "id": "8be5b1b2-0729-4fce-bcbd-62cb0312ab0a",
   "metadata": {},
   "outputs": [],
   "source": []
  },
  {
   "cell_type": "markdown",
   "id": "bb94cf4e-1931-4f53-ae51-d34affb23deb",
   "metadata": {},
   "source": [
    "(b) [2 points] Plot this solution from $t=0$ to $t=80$ using $r=-0.01$, $m_0=0.5$, $\\delta=0.02$, and $n(0)=40$"
   ]
  },
  {
   "cell_type": "code",
   "execution_count": null,
   "id": "a313f2d7-6946-4ecb-9fb4-68147a18d26f",
   "metadata": {},
   "outputs": [],
   "source": []
  },
  {
   "cell_type": "markdown",
   "id": "10a20067-c069-448f-bc5f-818453b8f3f6",
   "metadata": {},
   "source": [
    "(c) [1 point] Plot the dynamics from just $t=0$ to $t=10$. Why, biologically, do we see these dynamics?"
   ]
  },
  {
   "cell_type": "code",
   "execution_count": null,
   "id": "330d4236-a814-4af2-bf7c-439b31bebb10",
   "metadata": {},
   "outputs": [],
   "source": []
  },
  {
   "cell_type": "markdown",
   "id": "41eabc66-e14b-4934-b2af-57a37d3239af",
   "metadata": {},
   "source": [
    "(d) [1 point] Use the general solution to solve for the time the population will go extinct under these parameter values."
   ]
  },
  {
   "cell_type": "code",
   "execution_count": null,
   "id": "8791333d-d6ae-413f-8458-3b373bf9bada",
   "metadata": {},
   "outputs": [],
   "source": []
  },
  {
   "cell_type": "markdown",
   "id": "f0dc05e0-04fd-4267-9cef-9e421112251e",
   "metadata": {},
   "source": [
    "**Q2.** (a) [3 points] Solve the haploid model of selection in continuous time, $\\frac{\\mathrm{d}p}{\\mathrm{d}t}=sp(1-p)$, under the assumption that the selection coefficient varies sinusoidally with time, $s = s_0 + a \\sin(b t)$, as might be the case in a seasonal environment. Assume b>0. [Note: first do this without specifying initial conditions, as ```dsolve``` otherwise has trouble. Then solve for the constant in terms of the initial conditions. And sub that back in to the general solution.]"
   ]
  },
  {
   "cell_type": "code",
   "execution_count": null,
   "id": "319454e9-2737-4729-a561-f7df37a8d1a1",
   "metadata": {},
   "outputs": [],
   "source": []
  },
  {
   "cell_type": "markdown",
   "id": "7c65cbb7-f4dd-4d7c-8147-b6d94133a314",
   "metadata": {},
   "source": [
    "(b) [1 point] Plot this for $s_0=0.01$, $a=0.1$, $b=1$, $p_0=0.5$ from $t=0$ to $t=100$"
   ]
  },
  {
   "cell_type": "code",
   "execution_count": null,
   "id": "c1023d5a-295c-4331-8e74-00da57bbd588",
   "metadata": {},
   "outputs": [],
   "source": []
  },
  {
   "cell_type": "markdown",
   "id": "875feb42-e46c-41b9-acfa-a53fe2d6a659",
   "metadata": {},
   "source": [
    "(c) [1 point] What happens as time goes to infinity when $s_0>0$? Why? [You may want to plot the selection coefficient, $s=s_0+a\\sin(b t)$ for these parameter values to help formulate your answer.]"
   ]
  },
  {
   "cell_type": "code",
   "execution_count": null,
   "id": "74298e71-cf6a-4209-98cf-77ff4bfc6d75",
   "metadata": {},
   "outputs": [],
   "source": []
  }
 ],
 "metadata": {
  "kernelspec": {
   "display_name": "eeb430",
   "language": "python",
   "name": "eeb430"
  },
  "language_info": {
   "codemirror_mode": {
    "name": "ipython",
    "version": 3
   },
   "file_extension": ".py",
   "mimetype": "text/x-python",
   "name": "python",
   "nbconvert_exporter": "python",
   "pygments_lexer": "ipython3",
   "version": "3.10.6"
  }
 },
 "nbformat": 4,
 "nbformat_minor": 5
}
