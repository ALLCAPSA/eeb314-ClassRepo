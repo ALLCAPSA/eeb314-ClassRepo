{
 "cells": [
  {
   "cell_type": "markdown",
   "metadata": {},
   "source": [
    "# Lab 10: Genetic drift"
   ]
  },
  {
   "cell_type": "markdown",
   "metadata": {},
   "source": [
    "In today's lab we'll see how we can simulate a model of evolution that includes stochastic changes in allele frequency -- \"genetic drift\". \n",
    "\n",
    "Recall our \"deterministic\" model of one-locus haploid selection, where the frequency of the $A$ allele in the next generation was exactly\n",
    "\n",
    "$$p_{t+1} = \\frac{p_tW_A}{p_tW_A + (1-p_t)W_a}$$\n",
    "\n",
    "with $p_t$ the frequency in the current generation and $W_A$ and $W_a$ the fitnesses of the $A$ and $a$ alleles.\n",
    "\n",
    "Now imagine that $p_{t+1}$ does not give the frequency in the next generation. Instead, imagine there are $N$ diploid individuals in generation $t$, with allele $A$ at frequency $p_t$. Each diploid produces an infinite number of haploid gametes. This does not change the allele frequency. Now let selection alter the frequency of $A$ in the gametes, such that the allele frequency among the gametes after selection is $p'_t = \\frac{p_tW_A}{p_tW_A + (1-p_t)W_a}$. This was our expression for the allele frequency in the next generation in the deterministic model. Here, the allele frequency in the next generation is determined by sampling $2N$ haploid gametes from the infinite pool with allele frequency $p'_t$. \n",
    "\n",
    "If we let $X_i$ be the number of $A$ alleles in the $i^{\\mathrm{th}}$ gamete picked (which can be 0 or 1), then the this is a Bernoulli random variable with parameter $p'_t$, i.e., $X_i\\sim\\mathrm{Ber}(p'_t)$. The total number of $A$ alleles amongst all $2N$ chosen gametes is then $X=\\sum_{i=1}^{2N}X_i$, which is a binomial random variable with parameters $2N$ and $p'_t$, i.e., $X\\sim\\mathrm{Bin}(2N,p'_t)$. We get the allele frequency in generation $t+1$ by dividing the number of sampled $A$ alleles by the total number of alleles sampled, meaning that the allele frequency in the next generation is a random variable distributed like\n",
    "\n",
    "$$p_{t+1} \\sim \\frac{\\mathrm{Bin}(2N,p'_t)}{2N}$$\n",
    "\n",
    "This model is called the haploid **Wright-Fisher model** (section 13.4 in the text). The key take-away is that the number of $A$ alleles in the next generation is a binomial random variable. This allows us to quickly calculate the expectation\n",
    "\n",
    "$$\\mathbb{E}(p_{t+1}) = p'_t$$\n",
    "\n",
    "and variance\n",
    "\n",
    "$$\\mathrm{Var}(p_{t+1}) = \\frac{p'_t(1-p'_t)}{2N}$$\n",
    "\n",
    "It also gives us a fast way to simulate allele frequency changes with genetic drift.\n",
    "\n",
    "For example, if the diploid population size was $N=100$ and the expected frequency of $A$ alleles in the next generation was $p'_t=0.1$, then we can stochastically choose the number of $A$ alleles in the next generation with a simple random draw"
   ]
  },
  {
   "cell_type": "code",
   "execution_count": null,
   "metadata": {},
   "outputs": [],
   "source": [
    "import numpy as np #load numerical library\n",
    "\n",
    "# make a draw from the binomial distribution with n=2N=200 trials and p=0.1 probability of success\n",
    "np.random.binomial(2*100,0.1) "
   ]
  },
  {
   "cell_type": "markdown",
   "metadata": {},
   "source": [
    "One interesting case is when there is no selection, $W_A=W_a$. Our deterministic recursion then gives $p_{t+1}=p_t$, i.e., no change in frequency, i.e., no evolution. But what happens in a stochastic version of this model?"
   ]
  },
  {
   "cell_type": "code",
   "execution_count": null,
   "metadata": {},
   "outputs": [],
   "source": [
    "def wf(N,p0,tmax):\n",
    "    '''simulate neutral Wright-Fisher model'''\n",
    "    t = 0 #starting time\n",
    "    p = p0 #starting frequency\n",
    "    ps = [p] #list of frequencies\n",
    "    while t < tmax:\n",
    "        pnext = p #frequency of A in gametes\n",
    "        #the numer of A alleles in the next generation is binomially distributed with 2N trials\n",
    "        #and probability of success pnext, and then we divide by 2N to get the frequency \n",
    "        p = np.random.binomial(2*N,pnext)/(2*N) \n",
    "        ps.append(p) #add frequency\n",
    "        t = t + 1 #update time\n",
    "    return np.array(ps)"
   ]
  },
  {
   "cell_type": "code",
   "execution_count": null,
   "metadata": {},
   "outputs": [],
   "source": [
    "import matplotlib.pyplot as plt\n",
    "   \n",
    "fig, ax = plt.subplots()\n",
    "\n",
    "ps = wf(N=100,p0=0.5,tmax=400) #simulate dynamics\n",
    "ax.plot(ps) #plot dynamics\n",
    "\n",
    "ax.set_ylim(0,1) #set yaxis bounds\n",
    "ax.set_xlabel('generation')\n",
    "ax.set_ylabel('allele frequency')\n",
    "plt.show()"
   ]
  },
  {
   "cell_type": "markdown",
   "metadata": {},
   "source": [
    "This is radically different than the deterministic version: we now see the frequency change dramatically in the absence of selection and in many cases we even fix an allele."
   ]
  },
  {
   "cell_type": "markdown",
   "metadata": {},
   "source": [
    "**Q1.** [2 points] To visually see the variation that genetic drift causes, simulate this process 10 times, with the same parameter values as above, and plot all the allele frequency trajectories together in one plot. In what  proportion of replicates did the $A$ allele fix?"
   ]
  },
  {
   "cell_type": "code",
   "execution_count": null,
   "metadata": {},
   "outputs": [],
   "source": []
  },
  {
   "cell_type": "markdown",
   "metadata": {},
   "source": [
    "**Q2.** [1 point] Now imagine the $A$ allele is beneficial, $W_A=1.1$ and $W_a=1$. Start with the $A$ allele at frequency $p_0=0.5$. Calculate the expected frequency in the next generation using the deterministic recursion."
   ]
  },
  {
   "cell_type": "code",
   "execution_count": null,
   "metadata": {},
   "outputs": [],
   "source": []
  },
  {
   "cell_type": "markdown",
   "metadata": {},
   "source": [
    "**Q3.** [1 point] Sample from a binomial distribution with $2N=100$ trials and the probability of success given by your answer in Q2. This gives the numeber of A alleles in the next generation."
   ]
  },
  {
   "cell_type": "code",
   "execution_count": null,
   "metadata": {},
   "outputs": [],
   "source": []
  },
  {
   "cell_type": "markdown",
   "metadata": {},
   "source": [
    "**Q4.** [1 point] Divide by $2N$ to get the allele frequency in the next generation."
   ]
  },
  {
   "cell_type": "code",
   "execution_count": null,
   "metadata": {},
   "outputs": [],
   "source": []
  },
  {
   "cell_type": "markdown",
   "metadata": {},
   "source": [
    "**Q5.** [2 points] Combine your code from Q2-Q4 in a while loop that updates the allele frequency over successive generations, thus simulating the Wright-Fisher with selection. Define this as a function. [Hint, you can also do this by changing pnext in the neutral example given above.]"
   ]
  },
  {
   "cell_type": "code",
   "execution_count": null,
   "metadata": {},
   "outputs": [],
   "source": []
  },
  {
   "cell_type": "markdown",
   "metadata": {},
   "source": [
    "**Q6.** [2 points] Run 10 replicates with the same parameters as the neutral simulations and $W_A=1.1$, $W_a=1$. Plot the allele frequency trajectories of all replicates on the same plot. Now what was the proportion of replicates in which the $A$ allele fixed?"
   ]
  },
  {
   "cell_type": "code",
   "execution_count": null,
   "metadata": {},
   "outputs": [],
   "source": []
  },
  {
   "cell_type": "markdown",
   "metadata": {},
   "source": [
    "**Q7.** [1 point] How does selection affect the variance in allele frequency dynamics?"
   ]
  },
  {
   "cell_type": "code",
   "execution_count": null,
   "metadata": {},
   "outputs": [],
   "source": []
  },
  {
   "cell_type": "markdown",
   "metadata": {},
   "source": [
    "**Bonus.** [0 points] Now simulate the same model of selection but with a rare beneficial allele, $p_0=0.01$, and 1000 replicates. In what proportion of replicates did the beneficial allele fix? It should be near $1-e^{-2(2N)p_0s}$, where $s=W_A/W_a-1$. If you're really feeling up for it, plot the proportion of replicates in which the $A$ allele fixes across a range of $s$ values, and compare to this theoretical expectation."
   ]
  },
  {
   "cell_type": "code",
   "execution_count": null,
   "metadata": {},
   "outputs": [],
   "source": []
  }
 ],
 "metadata": {
  "kernelspec": {
   "display_name": "eeb430",
   "language": "python",
   "name": "eeb430"
  },
  "language_info": {
   "codemirror_mode": {
    "name": "ipython",
    "version": 3
   },
   "file_extension": ".py",
   "mimetype": "text/x-python",
   "name": "python",
   "nbconvert_exporter": "python",
   "pygments_lexer": "ipython3",
   "version": "3.7.4"
  }
 },
 "nbformat": 4,
 "nbformat_minor": 5
}
