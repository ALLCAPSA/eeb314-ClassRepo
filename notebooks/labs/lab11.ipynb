{
 "cells": [
  {
   "cell_type": "markdown",
   "metadata": {},
   "source": [
    "# Demographic Stochasticity"
   ]
  },
  {
   "cell_type": "markdown",
   "metadata": {},
   "source": [
    "(Credits: This lab was created by PhD student Puneeth Deraje as part of a course development TA position -- thanks Puneeth!)"
   ]
  },
  {
   "cell_type": "markdown",
   "metadata": {},
   "source": [
    "Today, we will understand the effects of demographic stocahsticity through simulations. In particular, we will write code to calculate the probability of extinction.\n",
    "\n",
    "Recall from Lecture 19, we can use Poisson random variables to model stochastic population dynamics. If $R$ is the mean reproductive factor (e.g., the mean number of surviving offspring produced by each adult before dying) and there are currently $n_t$, then the number of individuals in the next generation is distributed like\n",
    "\n",
    "$$ n_{t+1} \\sim \\text{Poi}(R n_t) $$\n",
    "\n",
    "We can draw a Poisson random variable using the ```numpy.random``` library"
   ]
  },
  {
   "cell_type": "code",
   "execution_count": null,
   "metadata": {},
   "outputs": [],
   "source": [
    "import numpy as np #import the numerical library \n",
    "\n",
    "np.random.poisson(30) #draw a random number from a Poisson distribution with mean 30"
   ]
  },
  {
   "cell_type": "markdown",
   "metadata": {},
   "source": [
    "We can use this to simulate population dynamics with stochasticity. Here is a function that takes the initial population size, ```N0```, the mean population growth rate, ```R```, and the number of generations to simulate, ```NoG```, and outputs a list with the population size at each generation"
   ]
  },
  {
   "cell_type": "code",
   "execution_count": null,
   "metadata": {},
   "outputs": [],
   "source": [
    "def PD(N0,R,NoG):\n",
    "    '''simulate demographic stochasticity'''\n",
    "    Nlist = [N0] #list of population sizes over time\n",
    "    N = N0 #initial population size\n",
    "    gen = 0 #starting generation\n",
    "    while gen < NoG: \n",
    "        N = np.random.poisson(R*N) #draw population size in next time step\n",
    "        Nlist.append(N) #add to the list\n",
    "        gen = gen + 1 #update generation\n",
    "    return Nlist        "
   ]
  },
  {
   "cell_type": "markdown",
   "metadata": {},
   "source": [
    "We can plot a realization of this simulation and compare it to the deterministic solution"
   ]
  },
  {
   "cell_type": "code",
   "execution_count": null,
   "metadata": {},
   "outputs": [],
   "source": [
    "import matplotlib.pyplot as plt #import plotting library\n",
    "   \n",
    "fig, ax = plt.subplots() #set up figure\n",
    "\n",
    "N0=10\n",
    "R=1.02\n",
    "NoG=100\n",
    "\n",
    "Nlist = PD(N0,R,NoG) #simulate dynamics\n",
    "ax.plot(Nlist, label='stochastic') #plot dynamics\n",
    "ax.plot([N0*R**t for t in range(NoG)], label='deterministic') #compare with deterministic solution\n",
    "\n",
    "ax.set_xlabel('Generation')\n",
    "ax.set_ylabel('Population Size')\n",
    "ax.set_title('R=%.2f'%R)\n",
    "ax.legend()\n",
    "plt.show()"
   ]
  },
  {
   "cell_type": "markdown",
   "metadata": {},
   "source": [
    "Note that the stochastic dynamics can deviate quite a bit from the deterministic model (try running the plot code a few times if you don't believe me). However, for higher growth rates the stochastic and deterministic models are more similar"
   ]
  },
  {
   "cell_type": "code",
   "execution_count": null,
   "metadata": {},
   "outputs": [],
   "source": [
    "fig, ax = plt.subplots() #set up figure\n",
    "\n",
    "N0=10\n",
    "R=1.2\n",
    "NoG=100\n",
    "\n",
    "Nlist = PD(N0,R,NoG) #simulate dynamics\n",
    "ax.plot(Nlist, label='stochastic') #plot dynamics\n",
    "ax.plot([N0*R**t for t in range(NoG)], label='deterministic') #compare with deterministic solution\n",
    "\n",
    "ax.set_xlabel('Generation')\n",
    "ax.set_ylabel('Population Size')\n",
    "ax.set_title('R=%.2f'%R)\n",
    "ax.legend()\n",
    "plt.show()"
   ]
  },
  {
   "cell_type": "markdown",
   "metadata": {},
   "source": [
    "We will now use this simulation to compute the extinction probability as a function of the reproductive factor $R$."
   ]
  },
  {
   "cell_type": "markdown",
   "metadata": {},
   "source": [
    "## Questions"
   ]
  },
  {
   "cell_type": "markdown",
   "metadata": {},
   "source": [
    "**Q1.** [2 points] Define a function ```Ext``` that takes ```N0```, ```R``` and ```NoG``` as input and outputs 1 if the population goes extinct and 0 otherwise. [Hint: Recall that ```Nlist[-1]``` gives the last element of the list ```Nlist```.  Use the ```PD``` function defined above to get ```Nlist``` and an ```if.. else..``` statement that returns 1 if the population goes extinct, i.e., if ```Nlist[-1] == 0```, and returns 0 otherwise.]"
   ]
  },
  {
   "cell_type": "code",
   "execution_count": null,
   "metadata": {},
   "outputs": [],
   "source": []
  },
  {
   "cell_type": "markdown",
   "metadata": {},
   "source": [
    "**Q2.** [2 points] Run the ```Ext``` function 5000 times for the parameter values ```R```=1.02, ```N0```=1, ```NoG```=1000. Record the outputs in a list called ```ExtList```."
   ]
  },
  {
   "cell_type": "code",
   "execution_count": null,
   "metadata": {},
   "outputs": [],
   "source": []
  },
  {
   "cell_type": "markdown",
   "metadata": {},
   "source": [
    "**Q3.** [1 point] Find the probability of extinction for ```R```=1.02 by summing over the above list ```ExtList``` and dividing by the number of replicates, 5000. "
   ]
  },
  {
   "cell_type": "code",
   "execution_count": null,
   "metadata": {},
   "outputs": [],
   "source": []
  },
  {
   "cell_type": "markdown",
   "metadata": {},
   "source": [
    "**Q4.** [1 point] We can also calculate the survival probability which is given by one minus the extinction probability. Calculate the survival probaility for ```R``` = 1.02. Round the answer to two decimal places for simplicity [Hint:```round(x,2)``` rounds x to 2 decimal places]. "
   ]
  },
  {
   "cell_type": "code",
   "execution_count": null,
   "metadata": {},
   "outputs": [],
   "source": []
  },
  {
   "cell_type": "markdown",
   "metadata": {},
   "source": [
    "**Q5.** [2 points] Repeat Q2-Q4 for ```R``` = 0.98, 0.99, 1, 1.01, 1.02, and 1.03. You can either use a ```for``` loop over these values or do it separately for each value."
   ]
  },
  {
   "cell_type": "code",
   "execution_count": null,
   "metadata": {},
   "outputs": [],
   "source": []
  },
  {
   "cell_type": "markdown",
   "metadata": {},
   "source": [
    "**Q6.** [1 point] Based on your answer to the previous question, what do you expect the survival probability is when ```R``` = 1.04? Give the reasoning for your answer. [Hint, if there isn't a clear pattern in the previous answer, try running it again.]"
   ]
  },
  {
   "cell_type": "code",
   "execution_count": null,
   "metadata": {},
   "outputs": [],
   "source": []
  },
  {
   "cell_type": "markdown",
   "metadata": {},
   "source": [
    "**Q7.** [1 point] The expected population size in generation $t$ under this stochastic model is $\\mathbb{E}(n_t) = R^tn_0$. Therefore, for $R < 1$ we have $\\displaystyle \\lim_{t \\rightarrow \\infty}\\mathbb{E}(n_t) = 0$ and so we expect the population to go extinct with probability 1. However, for $R=1$ we have $\\displaystyle \\lim_{t \\rightarrow \\infty}\\mathbb{E}(n_t) = n_0$ (and above $n_0=1$), but we still see the population go extinct with probability 1. Why is that the case? "
   ]
  },
  {
   "cell_type": "code",
   "execution_count": null,
   "metadata": {},
   "outputs": [],
   "source": []
  }
 ],
 "metadata": {
  "kernelspec": {
   "display_name": "Python 3",
   "language": "python",
   "name": "python3"
  },
  "language_info": {
   "codemirror_mode": {
    "name": "ipython",
    "version": 3
   },
   "file_extension": ".py",
   "mimetype": "text/x-python",
   "name": "python",
   "nbconvert_exporter": "python",
   "pygments_lexer": "ipython3",
   "version": "3.7.4"
  }
 },
 "nbformat": 4,
 "nbformat_minor": 5
}
