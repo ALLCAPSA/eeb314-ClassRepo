{
 "cells": [
  {
   "cell_type": "markdown",
   "id": "1074cf3e",
   "metadata": {
    "tags": []
   },
   "source": [
    "# Lab 2: Simulating recursion equations"
   ]
  },
  {
   "cell_type": "markdown",
   "id": "f61c150e-9692-4728-9b94-ea2cbfc0c963",
   "metadata": {
    "tags": []
   },
   "source": [
    "## Logistic growth"
   ]
  },
  {
   "cell_type": "markdown",
   "id": "a59ba268-cd15-457a-8895-85f4c6c4cfdb",
   "metadata": {},
   "source": [
    "Let's explore the dynamics of the logistic model a little more by simulating it over time. \n",
    "\n",
    "Create a generator to iterate population size over time following\n",
    "\n",
    "$$n(t+1) = n(t) (1 + r(1-n(t)/K)).$$\n",
    "\n",
    "See the code for exponential growth in lecture 2 (or the migration model in lecture 1) and update that for this more complicated model. \n",
    "\n",
    "Plot $n(t)$ as a function of $t$ for $K=1000$ and the following values of $r$: 0.1, 2.1, 2.5, 2.565, 2.7, 3.1. (Again see code from lectures 1 and 2 and adopt for this purpose.)\n",
    "\n",
    "Is this consistent with what you saw in turotial 2? Why does a large intrinsic growth rate cause oscillations?"
   ]
  }
 ],
 "metadata": {
  "kernelspec": {
   "display_name": "eeb430",
   "language": "python",
   "name": "eeb430"
  },
  "language_info": {
   "codemirror_mode": {
    "name": "ipython",
    "version": 3
   },
   "file_extension": ".py",
   "mimetype": "text/x-python",
   "name": "python",
   "nbconvert_exporter": "python",
   "pygments_lexer": "ipython3",
   "version": "3.7.4"
  }
 },
 "nbformat": 4,
 "nbformat_minor": 5
}
