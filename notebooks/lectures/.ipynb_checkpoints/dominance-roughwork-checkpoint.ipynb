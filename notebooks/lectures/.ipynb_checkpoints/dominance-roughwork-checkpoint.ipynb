{
 "cells": [
  {
   "cell_type": "code",
   "execution_count": null,
   "id": "900cbe34-542c-4634-9017-41ae168fcfa2",
   "metadata": {},
   "outputs": [],
   "source": []
  },
  {
   "cell_type": "code",
   "execution_count": 1,
   "id": "37363dd1-4371-4ef2-86f8-3f4245b6b2a7",
   "metadata": {},
   "outputs": [],
   "source": [
    "from sympy import *"
   ]
  },
  {
   "cell_type": "code",
   "execution_count": 195,
   "id": "c7f505c4-aaad-4a7c-a86b-f393dff99a91",
   "metadata": {},
   "outputs": [],
   "source": [
    "x1,x2,x3,x4,w11,w12,w13,w14,w22,w23,w24,w33,w34,w44,r,u,wbar,s,h = var('x_1,x_2,x_3,x_4,w_11,w_12,w_13,w_14,w_22,w_23,w_24,w_33,w_34,w_44,r,u,w_bar,s,h')\n",
    "x1prime = x1*x1*w11/wbar + x1*x2*w12/wbar + x1*x3*w13/wbar + x1*x4*w14/wbar*(1-r) + x2*x3*w23/wbar*r\n",
    "x2prime = x2*x1*w12/wbar + x2*x2*w22/wbar + x2*x4*w24/wbar + x1*x4*w14/wbar*r + x2*x3*w23/wbar*(1-r)\n",
    "x3prime = x3*x1*w13/wbar + x3*x3*w33/wbar + x4*x3*w34/wbar + x1*x4*w14/wbar*r + x2*x3*w23/wbar*(1-r)\n",
    "x4prime = x4*x4*w44/wbar + x4*x2*w24/wbar + x3*x4*w34/wbar + x1*x4*w14/wbar*(1-r) + x2*x3*w23/wbar*r\n",
    "w = ((x1prime+x2prime+x3prime+x4prime)*wbar).factor()\n",
    "x1next = x1prime.subs(wbar,w)*(1-u)\n",
    "x2next = x2prime.subs(wbar,w)*(1-u)\n",
    "x3next = x3prime.subs(wbar,w) + x1prime.subs(wbar,w)*u\n",
    "x4next = x4prime.subs(wbar,w) + x2prime.subs(wbar,w)*u"
   ]
  },
  {
   "cell_type": "code",
   "execution_count": 196,
   "id": "05c8e25b-2c02-4824-823a-a5993dfcf35a",
   "metadata": {},
   "outputs": [
    {
     "data": {
      "text/plain": [
       "[(0, 1), ((s*u + s - 2*u)/(s*(u + 1)), 2*u/(s*(u + 1)))]"
      ]
     },
     "execution_count": 196,
     "metadata": {},
     "output_type": "execute_result"
    }
   ],
   "source": [
    "res_eq = solve([(x1next.subs(x2,0).subs(x4,0).subs(w11,1).subs(w13,1-s/2).subs(w33,1-s)-x1).factor(),\n",
    "       (x3next.subs(x2,0).subs(x4,0).subs(w11,1).subs(w13,1-s/2).subs(w33,1-s)-x3).factor()],\n",
    "      [x1,x3])\n",
    "res_eq"
   ]
  },
  {
   "cell_type": "code",
   "execution_count": 197,
   "id": "49ec0044-8458-42e8-a069-d19ce51e0e06",
   "metadata": {},
   "outputs": [
    {
     "data": {
      "text/latex": [
       "$\\displaystyle \\left[\\begin{matrix}\\frac{u \\left(s u^{2} + 2 s u + s - 2 u^{2} - 2\\right)}{s \\left(u - 1\\right) \\left(u + 1\\right)} & - \\frac{\\left(s u + s - 2 u\\right) \\left(s u^{2} + 2 s u + s - 2 u^{2} - 2\\right)}{2 s \\left(u - 1\\right) \\left(u + 1\\right)} & - \\frac{2 h r s u^{3} - 2 h r s u + 4 h s u^{2} + 4 h s u - 8 h u^{2} - 2 r u^{3} + 2 r u - s u^{3} - 3 s u^{2} - 3 s u - s + 2 u^{3} + 4 u^{2} + 2 u}{s \\left(u - 1\\right) \\left(u + 1\\right)} & \\frac{\\left(s u + s - 2 u\\right) \\left(h r s u^{2} - h r s - h s u^{2} - 2 h s u - h s + 4 h u - r u^{2} + r + u^{2} - 2 u + 1\\right)}{s \\left(u - 1\\right) \\left(u + 1\\right)}\\\\- \\frac{u \\left(s u^{2} + 2 s u + s - 2 u^{2} - 2\\right)}{s \\left(u - 1\\right) \\left(u + 1\\right)} & \\frac{\\left(s u + s - 2 u\\right) \\left(s u^{2} + 2 s u + s - 2 u^{2} - 2\\right)}{2 s \\left(u - 1\\right) \\left(u + 1\\right)} & \\frac{u \\left(2 h r s u^{2} - 2 h r s + 2 h s u + 2 h s - 8 h u - 2 r u^{2} + 2 r - s u^{2} - 2 s u - s + 2 u^{2} + 4 u + 2\\right)}{s \\left(u - 1\\right) \\left(u + 1\\right)} & - \\frac{h r s^{2} u^{3} + h r s^{2} u^{2} - h r s^{2} u - h r s^{2} - 2 h r s u^{3} + 2 h r s u - h s^{2} u^{3} - 2 h s^{2} u^{2} - h s^{2} u + 2 h s u^{3} + 6 h s u^{2} + 4 h s u - 8 h u^{2} - r s u^{3} - r s u^{2} + r s u + r s + 2 r u^{3} - 2 r u + s u^{3} - s u - 2 u^{3} + 4 u^{2} - 2 u}{s \\left(u - 1\\right) \\left(u + 1\\right)}\\\\0 & 0 & \\frac{2 h r s u - 2 h s u - 2 r u + s u + s}{s} & - \\frac{r \\left(h s - 1\\right) \\left(s u + s - 2 u\\right)}{s}\\\\0 & 0 & - \\frac{u \\left(2 h r s u - 2 h r s - 2 h s u - 2 r u + 2 r + s u + s\\right)}{s \\left(u - 1\\right)} & \\frac{h r s^{2} u^{2} - h r s^{2} - 2 h r s u^{2} + 2 h r s u + h s^{2} u + h s^{2} - 2 h s u - r s u^{2} + r s + 2 r u^{2} - 2 r u + s u - s}{s \\left(u - 1\\right)}\\end{matrix}\\right]$"
      ],
      "text/plain": [
       "Matrix([\n",
       "[ u*(s*u**2 + 2*s*u + s - 2*u**2 - 2)/(s*(u - 1)*(u + 1)), -(s*u + s - 2*u)*(s*u**2 + 2*s*u + s - 2*u**2 - 2)/(2*s*(u - 1)*(u + 1)), -(2*h*r*s*u**3 - 2*h*r*s*u + 4*h*s*u**2 + 4*h*s*u - 8*h*u**2 - 2*r*u**3 + 2*r*u - s*u**3 - 3*s*u**2 - 3*s*u - s + 2*u**3 + 4*u**2 + 2*u)/(s*(u - 1)*(u + 1)),                                                                                                                                                                     (s*u + s - 2*u)*(h*r*s*u**2 - h*r*s - h*s*u**2 - 2*h*s*u - h*s + 4*h*u - r*u**2 + r + u**2 - 2*u + 1)/(s*(u - 1)*(u + 1))],\n",
       "[-u*(s*u**2 + 2*s*u + s - 2*u**2 - 2)/(s*(u - 1)*(u + 1)),  (s*u + s - 2*u)*(s*u**2 + 2*s*u + s - 2*u**2 - 2)/(2*s*(u - 1)*(u + 1)),                            u*(2*h*r*s*u**2 - 2*h*r*s + 2*h*s*u + 2*h*s - 8*h*u - 2*r*u**2 + 2*r - s*u**2 - 2*s*u - s + 2*u**2 + 4*u + 2)/(s*(u - 1)*(u + 1)), -(h*r*s**2*u**3 + h*r*s**2*u**2 - h*r*s**2*u - h*r*s**2 - 2*h*r*s*u**3 + 2*h*r*s*u - h*s**2*u**3 - 2*h*s**2*u**2 - h*s**2*u + 2*h*s*u**3 + 6*h*s*u**2 + 4*h*s*u - 8*h*u**2 - r*s*u**3 - r*s*u**2 + r*s*u + r*s + 2*r*u**3 - 2*r*u + s*u**3 - s*u - 2*u**3 + 4*u**2 - 2*u)/(s*(u - 1)*(u + 1))],\n",
       "[                                                       0,                                                                        0,                                                                                                                    (2*h*r*s*u - 2*h*s*u - 2*r*u + s*u + s)/s,                                                                                                                                                                                                                                                                -r*(h*s - 1)*(s*u + s - 2*u)/s],\n",
       "[                                                       0,                                                                        0,                                                                                       -u*(2*h*r*s*u - 2*h*r*s - 2*h*s*u - 2*r*u + 2*r + s*u + s)/(s*(u - 1)),                                                                                                                                                 (h*r*s**2*u**2 - h*r*s**2 - 2*h*r*s*u**2 + 2*h*r*s*u + h*s**2*u + h*s**2 - 2*h*s*u - r*s*u**2 + r*s + 2*r*u**2 - 2*r*u + s*u - s)/(s*(u - 1))]])"
      ]
     },
     "execution_count": 197,
     "metadata": {},
     "output_type": "execute_result"
    }
   ],
   "source": [
    "jac = Matrix([[diff(eqn,var).subs(w11,1).subs(w13,1-s/2).subs(w33,1-s).subs(x2,0).subs(x4,0).subs(x1,res_eq[1][0]).subs(x3,res_eq[1][1]).subs(w12,1).subs(w14,1-s*h).subs(w23,1-s*h).subs(w34,1-s).factor() for var in [x1,x3,x2,x4]] for eqn in [x1next,x3next,x2next,x4next]])\n",
    "jac"
   ]
  },
  {
   "cell_type": "code",
   "execution_count": 198,
   "id": "b39dc73e-5fbf-42e3-ad83-31c3b7d4cdc8",
   "metadata": {},
   "outputs": [],
   "source": [
    "jres = jac[0:2,0:2]\n",
    "jmut = jac[2:4,2:4]"
   ]
  },
  {
   "cell_type": "code",
   "execution_count": 199,
   "id": "ade7676f-5bf2-471c-ae77-f88df4b218ae",
   "metadata": {},
   "outputs": [
    {
     "data": {
      "text/latex": [
       "$\\displaystyle \\left[\\begin{matrix}\\frac{u \\left(s u^{2} + 2 s u + s - 2 u^{2} - 2\\right)}{s \\left(u - 1\\right) \\left(u + 1\\right)} & - \\frac{\\left(s u + s - 2 u\\right) \\left(s u^{2} + 2 s u + s - 2 u^{2} - 2\\right)}{2 s \\left(u - 1\\right) \\left(u + 1\\right)}\\\\- \\frac{u \\left(s u^{2} + 2 s u + s - 2 u^{2} - 2\\right)}{s \\left(u - 1\\right) \\left(u + 1\\right)} & \\frac{\\left(s u + s - 2 u\\right) \\left(s u^{2} + 2 s u + s - 2 u^{2} - 2\\right)}{2 s \\left(u - 1\\right) \\left(u + 1\\right)}\\end{matrix}\\right]$"
      ],
      "text/plain": [
       "Matrix([\n",
       "[ u*(s*u**2 + 2*s*u + s - 2*u**2 - 2)/(s*(u - 1)*(u + 1)), -(s*u + s - 2*u)*(s*u**2 + 2*s*u + s - 2*u**2 - 2)/(2*s*(u - 1)*(u + 1))],\n",
       "[-u*(s*u**2 + 2*s*u + s - 2*u**2 - 2)/(s*(u - 1)*(u + 1)),  (s*u + s - 2*u)*(s*u**2 + 2*s*u + s - 2*u**2 - 2)/(2*s*(u - 1)*(u + 1))]])"
      ]
     },
     "execution_count": 199,
     "metadata": {},
     "output_type": "execute_result"
    }
   ],
   "source": [
    "jres"
   ]
  },
  {
   "cell_type": "code",
   "execution_count": 224,
   "id": "d3e8d8b6-18ed-438b-8919-1fe747bf586c",
   "metadata": {},
   "outputs": [
    {
     "data": {
      "text/plain": [
       "{(s*u**2 + 2*s*u + s - 2*u**2 - 2)/(2*(u - 1)): 1, 0: 1}"
      ]
     },
     "execution_count": 224,
     "metadata": {},
     "output_type": "execute_result"
    }
   ],
   "source": [
    "jres.eigenvals()"
   ]
  },
  {
   "cell_type": "code",
   "execution_count": 223,
   "id": "38191e16-bc9f-4a13-bc0a-b4c72d5a1df3",
   "metadata": {},
   "outputs": [
    {
     "data": {
      "text/latex": [
       "$\\displaystyle \\frac{\\left(u + 1\\right) \\left(s u + s - 2 u\\right)}{2 \\left(u - 1\\right)}$"
      ],
      "text/plain": [
       "(u + 1)*(s*u + s - 2*u)/(2*(u - 1))"
      ]
     },
     "execution_count": 223,
     "metadata": {},
     "output_type": "execute_result"
    }
   ],
   "source": [
    "lamres = list(jres.eigenvals().keys())[0].factor().simplify()\n",
    "(lamres-1).collect(u).collect(s).factor()"
   ]
  },
  {
   "cell_type": "code",
   "execution_count": 200,
   "id": "d24eb87d-7c01-49c8-9834-333df9d2e4ee",
   "metadata": {},
   "outputs": [
    {
     "data": {
      "text/latex": [
       "$\\displaystyle \\left[\\begin{matrix}\\frac{2 h r s u - 2 h s u - 2 r u + s u + s}{s} & - \\frac{r \\left(h s - 1\\right) \\left(s u + s - 2 u\\right)}{s}\\\\- \\frac{u \\left(2 h r s u - 2 h r s - 2 h s u - 2 r u + 2 r + s u + s\\right)}{s \\left(u - 1\\right)} & \\frac{h r s^{2} u^{2} - h r s^{2} - 2 h r s u^{2} + 2 h r s u + h s^{2} u + h s^{2} - 2 h s u - r s u^{2} + r s + 2 r u^{2} - 2 r u + s u - s}{s \\left(u - 1\\right)}\\end{matrix}\\right]$"
      ],
      "text/plain": [
       "Matrix([\n",
       "[                             (2*h*r*s*u - 2*h*s*u - 2*r*u + s*u + s)/s,                                                                                                                -r*(h*s - 1)*(s*u + s - 2*u)/s],\n",
       "[-u*(2*h*r*s*u - 2*h*r*s - 2*h*s*u - 2*r*u + 2*r + s*u + s)/(s*(u - 1)), (h*r*s**2*u**2 - h*r*s**2 - 2*h*r*s*u**2 + 2*h*r*s*u + h*s**2*u + h*s**2 - 2*h*s*u - r*s*u**2 + r*s + 2*r*u**2 - 2*r*u + s*u - s)/(s*(u - 1))]])"
      ]
     },
     "execution_count": 200,
     "metadata": {},
     "output_type": "execute_result"
    }
   ],
   "source": [
    "jmut"
   ]
  },
  {
   "cell_type": "code",
   "execution_count": 201,
   "id": "592151d4-3093-4839-9af9-c1acd801e1e0",
   "metadata": {},
   "outputs": [
    {
     "data": {
      "text/latex": [
       "$\\displaystyle 0$"
      ],
      "text/plain": [
       "0"
      ]
     },
     "execution_count": 201,
     "metadata": {},
     "output_type": "execute_result"
    }
   ],
   "source": [
    "(jmut[0,0].collect(r).collect(s).collect(u) - (1 + u*(1-2*h)-2*u*r*(1-h*s)/s)).factor()"
   ]
  },
  {
   "cell_type": "code",
   "execution_count": 202,
   "id": "69d8bf49-ca5b-4cad-8ec7-c62184e15c05",
   "metadata": {},
   "outputs": [
    {
     "data": {
      "text/latex": [
       "$\\displaystyle 0$"
      ],
      "text/plain": [
       "0"
      ]
     },
     "execution_count": 202,
     "metadata": {},
     "output_type": "execute_result"
    }
   ],
   "source": [
    "(jmut[0,1].collect(r).collect(s).collect(u) - (r*(1-h*s)*(s-2*u+s*u)/s)).factor()"
   ]
  },
  {
   "cell_type": "code",
   "execution_count": 203,
   "id": "e4b4022b-1190-42ee-aabf-3638fd14b790",
   "metadata": {},
   "outputs": [
    {
     "data": {
      "text/latex": [
       "$\\displaystyle 0$"
      ],
      "text/plain": [
       "0"
      ]
     },
     "execution_count": 203,
     "metadata": {},
     "output_type": "execute_result"
    }
   ],
   "source": [
    "(jmut[1,0].collect(r).collect(s).collect(u) - (u*(1+u-2*h*u)/(1-u)+2*u*r*(1-h*s)/s)).factor()"
   ]
  },
  {
   "cell_type": "code",
   "execution_count": 204,
   "id": "7692fb23-e942-4c22-8305-8018cf1ef7a9",
   "metadata": {},
   "outputs": [
    {
     "data": {
      "text/latex": [
       "$\\displaystyle 0$"
      ],
      "text/plain": [
       "0"
      ]
     },
     "execution_count": 204,
     "metadata": {},
     "output_type": "execute_result"
    }
   ],
   "source": [
    "(jmut[1,1].collect(r).collect(s).collect(u) - (1 - h*(s-2*u+s*u)/(1-u) - r*(1-h*s)*(s-2*u+s*u)/s)).factor()"
   ]
  },
  {
   "cell_type": "code",
   "execution_count": 206,
   "id": "85a3b527-2572-48fd-af00-3134adae4e86",
   "metadata": {},
   "outputs": [
    {
     "data": {
      "text/latex": [
       "$\\displaystyle - \\left(\\frac{2 h r s u - 2 h s u - 2 r u + s u + s}{s} + \\frac{h r s^{2} u^{2} - h r s^{2} - 2 h r s u^{2} + 2 h r s u + h s^{2} u + h s^{2} - 2 h s u - r s u^{2} + r s + 2 r u^{2} - 2 r u + s u - s}{s \\left(u - 1\\right)}\\right) f{\\left(h \\right)} + f^{2}{\\left(h \\right)} + \\frac{4 h^{2} r s^{2} u^{2} + 4 h^{2} r s^{2} u - 8 h^{2} r s u^{2} - 2 h^{2} s^{2} u^{2} - 2 h^{2} s^{2} u + 4 h^{2} s u^{2} - h r s^{2} u^{2} - 2 h r s^{2} u - h r s^{2} - 4 h r s u + 8 h r u^{2} + h s^{2} u^{2} + 2 h s^{2} u + h s^{2} - 4 h s u^{2} + r s u^{2} + 2 r s u + r s - 4 r u^{2} + s u^{2} - s}{s u - s}$"
      ],
      "text/plain": [
       "-((2*h*r*s*u - 2*h*s*u - 2*r*u + s*u + s)/s + (h*r*s**2*u**2 - h*r*s**2 - 2*h*r*s*u**2 + 2*h*r*s*u + h*s**2*u + h*s**2 - 2*h*s*u - r*s*u**2 + r*s + 2*r*u**2 - 2*r*u + s*u - s)/(s*(u - 1)))*f(h) + f(h)**2 + (4*h**2*r*s**2*u**2 + 4*h**2*r*s**2*u - 8*h**2*r*s*u**2 - 2*h**2*s**2*u**2 - 2*h**2*s**2*u + 4*h**2*s*u**2 - h*r*s**2*u**2 - 2*h*r*s**2*u - h*r*s**2 - 4*h*r*s*u + 8*h*r*u**2 + h*s**2*u**2 + 2*h*s**2*u + h*s**2 - 4*h*s*u**2 + r*s*u**2 + 2*r*s*u + r*s - 4*r*u**2 + s*u**2 - s)/(s*u - s)"
      ]
     },
     "execution_count": 206,
     "metadata": {},
     "output_type": "execute_result"
    }
   ],
   "source": [
    "f = Function('f')\n",
    "cpmut = f(h)**2 - trace(jmut)*f(h) + det(jmut)\n",
    "cpmut"
   ]
  },
  {
   "cell_type": "code",
   "execution_count": 207,
   "id": "e96152f9-1623-4dd4-aa7a-393777ba42a3",
   "metadata": {},
   "outputs": [
    {
     "data": {
      "text/latex": [
       "$\\displaystyle \\frac{2 u \\left(2 r s - 4 r - s\\right) \\left(s u + s - 2 u\\right)}{s \\left(r s u^{2} - r s - 2 r u^{2} + 2 r + s u + s - 2 u\\right)}$"
      ],
      "text/plain": [
       "2*u*(2*r*s - 4*r - s)*(s*u + s - 2*u)/(s*(r*s*u**2 - r*s - 2*r*u**2 + 2*r + s*u + s - 2*u))"
      ]
     },
     "execution_count": 207,
     "metadata": {},
     "output_type": "execute_result"
    }
   ],
   "source": [
    "sol = solve(diff(cpmut,h).factor(),diff(f(h),h))[0].subs(h,Rational(1/2)).subs(f(Rational(1/2)),1).factor()\n",
    "sol"
   ]
  },
  {
   "cell_type": "code",
   "execution_count": 208,
   "id": "e5485d9e-dd40-489d-86a9-c5575354d54b",
   "metadata": {},
   "outputs": [],
   "source": [
    "n,d=fraction(sol)"
   ]
  },
  {
   "cell_type": "code",
   "execution_count": 215,
   "id": "fdc2ceb5-c217-419f-b8d8-517276be65e8",
   "metadata": {},
   "outputs": [
    {
     "data": {
      "text/latex": [
       "$\\displaystyle 0$"
      ],
      "text/plain": [
       "0"
      ]
     },
     "execution_count": 215,
     "metadata": {},
     "output_type": "execute_result"
    }
   ],
   "source": [
    "(n - -2*(4*r + s*(1-2*r))*(s*(1+u)-2*u)*u).factor()"
   ]
  },
  {
   "cell_type": "code",
   "execution_count": 212,
   "id": "492a6f61-ce68-4865-8bc3-d0095cebdcfe",
   "metadata": {},
   "outputs": [
    {
     "data": {
      "text/latex": [
       "$\\displaystyle 0$"
      ],
      "text/plain": [
       "0"
      ]
     },
     "execution_count": 212,
     "metadata": {},
     "output_type": "execute_result"
    }
   ],
   "source": [
    "(d.collect(r).collect(s) - s*(s*(1+u)-2*u+r*(2-s)*(1-u**2))).factor()"
   ]
  },
  {
   "cell_type": "code",
   "execution_count": null,
   "id": "76e0062a-fbbb-4b94-a44e-02f9e0fde3ac",
   "metadata": {},
   "outputs": [],
   "source": []
  }
 ],
 "metadata": {
  "kernelspec": {
   "display_name": "eeb430",
   "language": "python",
   "name": "eeb430"
  },
  "language_info": {
   "codemirror_mode": {
    "name": "ipython",
    "version": 3
   },
   "file_extension": ".py",
   "mimetype": "text/x-python",
   "name": "python",
   "nbconvert_exporter": "python",
   "pygments_lexer": "ipython3",
   "version": "3.7.4"
  }
 },
 "nbformat": 4,
 "nbformat_minor": 5
}
