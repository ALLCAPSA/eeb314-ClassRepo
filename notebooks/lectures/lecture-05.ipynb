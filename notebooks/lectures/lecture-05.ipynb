{
 "cells": [
  {
   "cell_type": "markdown",
   "metadata": {},
   "source": [
    "# Lecture 5: General solutions (univariate)\n",
    "\n",
    "## Lecture overview\n",
    "\n",
    "1. [General solutions](#section1)\n",
    "2. [Example: haploid selection](#section2)\n",
    "3. [Summary](#section3)"
   ]
  },
  {
   "cell_type": "markdown",
   "metadata": {},
   "source": [
    "<span id='section1'></span>\n",
    "## 1. General solutions\n",
    "<hr>\n",
    "\n",
    "Equilibria and their stability describe the *long-term dynamics* of our models, i.e., what we expect after a long time has passed. Now we’ll look at some  cases where we can describe the *entire* dynamics, including the short-term, by solving for the variable as a function of time, $x(t) = f(t)$. This is called a **general solution**.\n",
    "\n",
    "### Linear models in discrete time\n",
    "\n",
    "With a single variable, $x$, a discrete time **linear model** can be written \n",
    "\n",
    "$$\n",
    "x(t+1) = a x(t) + b.\n",
    "$$\n",
    "\n",
    "For example, this could be our previous model of population growth with immigration.\n",
    "\n",
    "The general solution can be found with the following steps.\n",
    "\n",
    "**Step 1**: Solve for the equilibrium,\n",
    "\n",
    "$$\n",
    "\\begin{aligned}\n",
    "\\hat{x} &= a \\hat{x} + b \\\\\n",
    "\\hat{x} &= \\frac{b}{1 - a}.\n",
    "\\end{aligned}\n",
    "$$\n",
    "\n",
    "!!! note\n",
    "   \n",
    "    Note that if $a=1$ there is no equilibrium for $b\\neq0$ and instead you can use brute force iteration (see below) to show that $x(t) = x_0 + b t$.\n",
    "\n",
    "**Step 2**: Define $\\delta(t) = x(t) - \\hat{x}$, the deviation of our variable from the equilibrium (this is our transformation).\n",
    "\n",
    "**Step 3**: Write the recursion equation for the transformed variable,\n",
    "\n",
    "$$\n",
    "\\begin{aligned}\n",
    "\\delta(t+1) &= x(t+1) - \\hat{x} \\\\\n",
    "&= a x(t) + b - \\hat{x} \\\\\n",
    "&= a(\\delta(t) + \\hat{x}) + b - \\hat{x}\\\\\n",
    "&= a \\left(\\delta(t) + \\frac{b}{1 - a}\\right) + b - \\frac{b}{1 - a}\\\\\n",
    "&= a \\delta(t).\n",
    "\\end{aligned}\n",
    "$$\n",
    "\n",
    "This is, once again, exponential growth.\n",
    "\n",
    "**Step 4**: From this we can use **brute force iteration** to get the general solution for the deviation from equilibrium,\n",
    "\n",
    "$$\n",
    "\\begin{aligned}\n",
    "\\delta(t) &= a \\delta(t-1)\\\\\n",
    "&= a^2 \\delta(t-2)\\\\\n",
    "&= a^3 \\delta(t-3)\\\\ \n",
    "&\\vdots\\\\\n",
    "&= a^t \\delta(0).\n",
    "\\end{aligned}\n",
    "$$   \n",
    "\n",
    "**Step 5**: Reverse transform back to $x(t)$,\n",
    "\n",
    "$$\n",
    "\\begin{aligned}\n",
    "x(t) &= \\delta(t) + \\hat{x}\\\\\n",
    "&= a^t \\delta(0) + \\hat{x}\\\\\n",
    "&= a^t (x(0) - \\hat{x}) + \\hat{x}\\\\\n",
    "&= a^t x(0) + (1 - a^t)\\hat{x}.\n",
    "\\end{aligned}\n",
    "$$\n",
    "\n",
    "This says that our variable moves from $x(0)$ towards/away from $\\hat{x}$ by a factor $a$ per time step. Note that if $b=0$ then $\\hat{x}=0$ and this reduces to what we derived above, $x(t)=a^t x(0)$.\n",
    "\n",
    "Below we plot the general solution for a given value of $a$ and $b$ from a number of different intitial conditions. Try playing with the values of $a$ and $b$ and observe the different dynamics."
   ]
  },
  {
   "cell_type": "code",
   "execution_count": 50,
   "metadata": {},
   "outputs": [
    {
     "data": {
      "image/png": "[encoded data removed]",
      "text/plain": [
       "<Figure size 640x480 with 1 Axes>"
      ]
     },
     "metadata": {},
     "output_type": "display_data"
    }
   ],
   "source": [
    "a, b, x0 = 0.99, 1, 10 #define parameter values and initial condition\n",
    "ts = range(1000) #time values\n",
    "xs = [a**t * x0 + (1-a**t)*b/(1-a) for t in ts] #variable values from general solution\n",
    "plt.scatter(ts, xs) #plot discretely\n",
    "plt.ylabel('$x(t)$')\n",
    "plt.xlabel('$t$')\n",
    "plt.show()"
   ]
  },
  {
   "cell_type": "markdown",
   "metadata": {},
   "source": [
    "### Separation of variables in continuous time\n",
    "\n",
    "Consider the generic continuous time model,\n",
    "\n",
    "$$\n",
    "\\frac{\\mathrm{d}x}{\\mathrm{d}t} = f(x,t),\n",
    "$$\n",
    "\n",
    "where we've allowed the right-hand side to depend on time explicitly (eg, time lags, environmental change).\n",
    "\n",
    "We will try to get the general solution for $x(t)$ using a method called **separation of variables**. This will only work if we can write the right hand side as $f(x)=g(x)h(t)$, ie, if we can separate the variables, $x$ and $t$. If we can then\n",
    "\n",
    "$$\n",
    "\\begin{aligned}\n",
    "\\frac{\\mathrm{d}x}{\\mathrm{d}t} &= g(x)h(t)\\\\\n",
    "\\frac{\\mathrm{d}x}{g(x)} &= h(t)\\mathrm{d}t\\\\\n",
    "\\int\\frac{\\mathrm{d}x}{g(x)} &= \\int h(t)\\mathrm{d}t.\n",
    "\\end{aligned}\n",
    "$$\n",
    "\n",
    "If we can solve these integrals then we get a general solution. In this class we will typically not have explicit time dependence, ie, $h(t)$ is a constant. Then the right-hand integral is just the constant times $t$ and a general solution is limited by our ability to integrate $1/g(x)$."
   ]
  },
  {
   "cell_type": "markdown",
   "metadata": {},
   "source": [
    "<span id='section2'></span>\n",
    "## 2. Example: haploid selection\n",
    "<hr>\n",
    "\n",
    "To see an example of separation of variables, consider our model of haploid selection in continuous time. The frequency of the $A$ allele changes at a rate that depends on its selection coefficient, $s$, and the amount of genetic variance in the population, $p(1-p)$,\n",
    "\n",
    "$$\n",
    "\\frac{\\mathrm{d}p}{\\mathrm{d}t} = sp(1-p).\n",
    "$$\n",
    "\n",
    "Grouping the $p$ terms together, we can proceed with the above steps using $g(p)=p(1-p)$ and $h(t)=s$,\n",
    "\n",
    "$$\n",
    "\\begin{aligned}\n",
    "\\int\\frac{\\mathrm{d}p}{g(p)} &= \\int h(t)\\mathrm{d}t\\\\\n",
    "\\int\\frac{\\mathrm{d}p}{p(1-p)} &= \\int s\\mathrm{d}t\\\\\n",
    "\\int \\left(\\frac{1}{p} + \\frac{1}{1-p}\\right) \\mathrm{d}p &= \\int s\\mathrm{d}t \\;\\text{(method of partial fractions, rule A1.9 in the textbook)}\\\\\n",
    "\\ln(p) - \\ln(1 - p) + c_1 &= s t + c_2 \\;\\text{(rule A2.21 in the textbook)}\\\\\n",
    "\\ln\\left(\\frac{p}{1-p}\\right) &= s t + c \\; \\text{(where } c = c_2 - c_1\\text{)}\\\\\n",
    "\\frac{p}{1-p} &= \\exp(st + c)\\\\\n",
    "\\frac{p(t)}{1-p(t)} &= \\exp(st + c)\\; \\text{(just making the dependence on time explicit)}.\n",
    "\\end{aligned}\n",
    "$$\n",
    "\n",
    "Note that we were careful to include the essential integration constants, $c_1$ and $c_2$, which we combined into one unknown constant, $c$. We can replace $c$ with the value of $p$ at some $t$. We typically choose $t=0$, rewriting $c$ in terms of the initial condition $p(0)$. Setting $t=0$ we have,\n",
    "\n",
    "$$\n",
    "\\begin{aligned}\n",
    "\\frac{p(t)}{1-p(t)} &= \\exp(st + c) \\\\\n",
    "\\frac{p(0)}{1-p(0)} &= \\exp(c).\n",
    "\\end{aligned}\n",
    "$$\n",
    "\n",
    "Now using this to replace $c$,\n",
    "\n",
    "$$\n",
    "\\begin{aligned}\n",
    "\\frac{p(t)}{1-p(t)} &= \\exp(st + c) \\\\\n",
    "\\frac{p(t)}{1-p(t)} &= \\exp(st)\\exp(c) \\\\\n",
    "\\frac{p(t)}{1-p(t)} &= \\exp(st)\\frac{p(0)}{1-p(0)}.\n",
    "\\end{aligned}\n",
    "$$\n",
    "\n",
    "And finally we solve for $p(t)$,\n",
    "\n",
    "$$\n",
    "\\begin{aligned}\n",
    "\\frac{p(t)}{1-p(t)} &= \\exp(st)\\frac{p(0)}{1-p(0)} \\\\\n",
    "p(t) &= (1-p(t))\\exp(st)\\frac{p(0)}{1-p(0)} \\\\ \n",
    "p(t) &= \\exp(st)\\frac{p(0)}{1-p(0)} - p(t)\\exp(st)\\frac{p(0)}{1-p(0)} \\\\\n",
    "p(t) + p(t)\\exp(st)\\frac{p(0)}{1-p(0)} &= \\exp(st)\\frac{p(0)}{1-p(0)} \\\\\n",
    "p(t)\\left(1 + \\exp(st)\\frac{p(0)}{1-p(0)}\\right) &= \\exp(st)\\frac{p(0)}{1-p(0)} \\\\\n",
    "p(t) &= \\frac{\\exp(st)\\frac{p(0)}{1-p(0)}}{1 + \\exp(st)\\frac{p(0)}{1-p(0)}} \\\\\n",
    "p(t) &= \\frac{1}{1 + \\exp(-st)\\frac{1-p(0)}{p(0)}}.\n",
    "\\end{aligned}\n",
    "$$\n",
    "\n",
    "This is a very classic result in population genetics, which we plot below for an initially rare and beneficial allele A that sweeps to fixation. "
   ]
  },
  {
   "cell_type": "code",
   "execution_count": 4,
   "metadata": {},
   "outputs": [
    {
     "data": {
      "image/png": "[encoded data removed]",
      "text/plain": [
       "<Figure size 640x480 with 1 Axes>"
      ]
     },
     "metadata": {},
     "output_type": "display_data"
    }
   ],
   "source": [
    "import numpy as np\n",
    "import matplotlib.pyplot as plt\n",
    "\n",
    "s, p0 = 0.1, 0.01 #define parameter values and initial condition\n",
    "ts = range(100) #time values\n",
    "ps = [1/(1 + np.exp(-s*t)*(1-p0)/p0) for t in ts] #variable values from general solution\n",
    "\n",
    "plt.plot(ts, ps) #plot continuously\n",
    "plt.ylabel('allele frequency, $p(t)$')\n",
    "plt.xlabel('generation, $t$')\n",
    "plt.show()"
   ]
  },
  {
   "cell_type": "markdown",
   "metadata": {},
   "source": [
    "<span id='section3'></span>\n",
    "## 3. Summary\n",
    "<hr>\n",
    "\n",
    "We can sometimes solve for the entire dynamics of our variables, the ultimate solution.\n",
    "\n",
    "- for linear discrete-time models, we can always do this with a transformation and brute force integration \n",
    "- for continuous-time models, we can sometimes do this with separation of variables\n",
    "\n",
    "Unfortunately most models we encounter in research are too complex to solve for exactly. We then often rely on equilibria, stability, and simulations. \n",
    "\n",
    "Practice questions from the textbook: 6.2-6.3, 6.4a-e, 6.5-6.6, 6.7d, 6.8"
   ]
  }
 ],
 "metadata": {
  "kernelspec": {
   "display_name": "eeb430",
   "language": "python",
   "name": "eeb430"
  },
  "language_info": {
   "codemirror_mode": {
    "name": "ipython",
    "version": 3
   },
   "file_extension": ".py",
   "mimetype": "text/x-python",
   "name": "python",
   "nbconvert_exporter": "python",
   "pygments_lexer": "ipython3",
   "version": "3.7.4"
  }
 },
 "nbformat": 4,
 "nbformat_minor": 4
}
