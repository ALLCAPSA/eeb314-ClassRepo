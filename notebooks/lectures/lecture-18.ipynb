{
 "cells": [
  {
   "cell_type": "markdown",
   "id": "7cef3972",
   "metadata": {},
   "source": [
    "# Lecture 18: Evolutionary invasion analysis\n",
    "\n",
    "## Lecture overview\n",
    "\n",
    "1. [Invasion fitness](#section1)\n",
    "2. [Evolutionary singular strategies](#section2)\n",
    "3. [Evolutionary stable strategies](#section3)\n",
    "4. [Evolutionary convergence](#section4)\n",
    "5. [Pairwise invasibility plots](#section5)\n",
    "6. [Summary](#section6)"
   ]
  },
  {
   "cell_type": "markdown",
   "id": "d7ffa86c",
   "metadata": {},
   "source": [
    "In the models we've discussed so far we've taken the parameters to be fixed. In reality, many of these parameters can evolve. For example, in our model of exponential growth in discrete time \\[n(t+1)=n(t) R\\] we took $R$ to be the same for all individuals for all time. But clearly any mutation causing a larger $R$ would increase in frequency, causing the value of $R$ to increase over time. In this lecture we'll explore how to determine the direction of evolution and the stability of evolutionary endpoints for more complex models using a technique called <b>evolutionary invasion analysis</b>.\n",
    "\n",
    "The idea:\n",
    "  - determine which parameters of our model an evolving trait affects\n",
    "  - take the population to be fixed for some \"resident\" trait value\n",
    "  - determine the equilibria and stability of the system with only the resident trait\n",
    "  - derive an equation for the growth of a rare \"mutant\" allele that affects the trait\n",
    "  - ask when the mutant will invade\n",
    "  - look for potential evolutionary endpoints\n",
    "  - determine the stability of those endpoints"
   ]
  },
  {
   "cell_type": "markdown",
   "id": "44d9191c",
   "metadata": {},
   "source": [
    "<span id='section1'></span>\n",
    "## 1. Invasion fitness\n",
    "<hr>"
   ]
  },
  {
   "cell_type": "markdown",
   "id": "329b3fce-b5ce-4669-ae11-f1f8f55b65ef",
   "metadata": {},
   "source": [
    "Let's think about this analysis very generally (in discrete time).\n",
    "\n",
    "Let the number of individuals with the resident trait value be $n$ and the number of individuals with the mutant trait value $n_m$. (And we'll assume asexual reproduction for simplicity, so that residents produce residents and mutant produce mutants.)\n",
    "\n",
    "Let the potentially nonlinear dynamics of these two groups of individuals depend on their respective trait values, $z$ and $z_m$,\n",
    "\n",
    "\\[\\begin{aligned}\n",
    "n(t+1) &= n(t) R(n(t), n_m(t), z, z_m)\\\\\n",
    "n_m(t+1) &= n_m(t) R_m(n(t), n_m(t), z, z_m)\n",
    "\\end{aligned}\\]\n",
    "\n",
    "The Jacobian of this system is\n",
    "\n",
    "\\[\\begin{aligned}\n",
    "\\mathbf{J} &= \n",
    "\\begin{pmatrix}\n",
    "\\frac{\\mathrm{d}n(t+1)}{\\mathrm{d}n(t)} & \\frac{\\mathrm{d}n(t+1)}{\\mathrm{d}n_m(t)} \\\\\n",
    "\\frac{\\mathrm{d}n_m(t+1)}{\\mathrm{d}n(t)} & \\frac{\\mathrm{d}n_m(t+1)}{\\mathrm{d}n_m(t)} \n",
    "\\end{pmatrix}\n",
    "\\end{aligned}\\]\n",
    "\n",
    "Now consider some non-zero resident equilibrium, $\\hat{n}>0$, without the mutant, $\\hat{n}_m=0$.\n",
    "\n",
    "Assuming that the resident does not produce mutants, $\\frac{\\mathrm{d}n_m(t+1)}{\\mathrm{d}n(t)}\\big|_{n_m=0}=0$,\n",
    "the Jacobian evaluated at this equilibrium simplifies to\n",
    "\n",
    "\\[\\begin{aligned}\n",
    "\\mathbf{J}\\big|_{n_m=0,n=\\hat{n}} &= \n",
    "\\begin{pmatrix}\n",
    "\\frac{\\mathrm{d}n(t+1)}{\\mathrm{d}n(t)} & \\frac{\\mathrm{d}n(t+1)}{\\mathrm{d}n_m(t)} \\\\\n",
    "0 & \\frac{\\mathrm{d}n_m(t+1)}{\\mathrm{d}n_m(t)} \n",
    "\\end{pmatrix}_{n_m=0,n=\\hat{n}}\n",
    "\\end{aligned}\\]\n",
    "\n",
    "We can immediately see that the two eigenvalues of this upper triangular matrix are\n",
    "\n",
    "\\[\\begin{aligned}\n",
    "\\lambda_1 &= \\frac{\\mathrm{d}n(t+1)}{\\mathrm{d}n(t)}\\bigg|_{n_m=0,n=\\hat{n}}\\\\\n",
    "\\lambda_2 &= \\frac{\\mathrm{d}n_m(t+1)}{\\mathrm{d}n_m(t)}\\bigg|_{n_m=0,n=\\hat{n}}\\\\\n",
    "\\end{aligned}\\]\n",
    "\n",
    "The first, $\\lambda_1$, determines whether the resident equilibrium, $\\hat{n}>0$, is stable in the absence of mutants. We'll take $0< \\lambda_1 < 1$ as given.\n",
    "\n",
    "The second, $\\lambda_2$, determines whether the resident equilibrium is stable in the presence of a small number of mutants. We call $\\lambda_2$ the \\textbf{invasion fitness}, $\\lambda(z_m,z)$.\n",
    "\n",
    "In particular, the mutant will invade whenever $\\lambda(z_m,z) > 1$.\n",
    "\n",
    "In some simple cases we might be able to use the invasion criterium, $\\lambda(z_m,z)>1$, to determine what values of $z_m$ (relative to $z$) can invade. In most cases, however, $\\lambda(z_m,z)$ will be complex enough that this will not be possible, so we rely on a simple approximation."
   ]
  },
  {
   "cell_type": "markdown",
   "id": "5885bfe2-7772-48b7-8a4f-8f23659111a9",
   "metadata": {},
   "source": [
    "!!! todo\n",
    "\n",
    "    Give example where we can look at \\(\\lambda(z_m,z)>1\\) directly."
   ]
  },
  {
   "cell_type": "markdown",
   "id": "a55557c4-6885-4971-8279-6f53a5ffe45e",
   "metadata": {},
   "source": [
    "<span id='section2'></span>\n",
    "## 2. Evolutionary singular strategies\n",
    "<hr>"
   ]
  },
  {
   "cell_type": "markdown",
   "id": "b451963d-390e-436f-990e-50c791566038",
   "metadata": {},
   "source": [
    "When the mutant trait value is very close to the resident trait value, we can use a first order Taylor series approximation around $z_m = z$\n",
    "\n",
    "\\[\\begin{aligned}\n",
    "\\lambda(z_m,z) &\\approx \\lambda(z,z) + \\frac{\\partial \\lambda}{\\partial z_m}\\bigg|_{z_m=z} (z_m-z)\\\\\\pause\n",
    "&= 1 + \\frac{\\partial \\lambda}{\\partial z_m}\\bigg|_{z_m=z} (z_m-z)\n",
    "\\end{aligned}\\]\n",
    "\n",
    "This allows us to determine which direction evolution will proceed:\n",
    "\n",
    "\\begin{itemize}\n",
    "\\item[] $\\frac{\\partial \\lambda}{\\partial z_m}\\Big|_{z_m=z}>0 \\implies$ invasion, $\\lambda(z_m,z)>1$, when $z_m>z$\\pause\n",
    "\\item[] $\\frac{\\partial \\lambda}{\\partial z_m}\\Big|_{z_m=z}<0 \\implies$ invasion, $\\lambda(z_m,z)>1$, when $z_m<z$\n",
    "\\end{itemize}\n",
    "\n",
    "The direction of evolution by small steps is given by $\\frac{\\partial \\lambda}{\\partial z_m}\\Big|_{z_m=z}$, the selection gradient.\n",
    "\n",
    "Potential evolutionary endpoints, also called <b>evolutionarily singular strategies</b>, are the resident trait values $z=\\hat{z}$ where there is no directional selection\n",
    "\n",
    "\\[\\frac{\\partial \\lambda}{\\partial z_m}\\bigg|_{z_m=\\hat{z}, z=\\hat{z}} = 0\\]\n"
   ]
  },
  {
   "cell_type": "markdown",
   "id": "def66c27-5f13-40b2-8b70-88a204fe19b5",
   "metadata": {},
   "source": [
    "<span id='section3'></span>\n",
    "## 3. Evolutionary stable strategies\n",
    "<hr>"
   ]
  },
  {
   "cell_type": "markdown",
   "id": "587ae6a4-3764-4829-b7fa-3ced204f8632",
   "metadata": {},
   "source": [
    "An evolutionarily singular strategy, $\\hat{z}$, will only be an <b>evolutionarily stable strategy</b> (ESS), $z^*$, if it cannot be invaded.\n",
    "\n",
    "In the evolution of dispersal example, we could show that $\\hat{d} = \\frac{1}{1+c}$ was \\textit{globally} stable because $\\lambda(d_m,d)|_{d=\\hat{d}}<1$ for all $d_m$.\n",
    "\n",
    "Global stability will be impossible to prove for more complex models, and so we often focus on \\textit{local} stability, which requires that $\\lambda(z_m,z)|_{z=\\hat{z}}$ is concave at $z_m=\\hat{z}$\n",
    "\n",
    "\\[\\frac{\\partial^2 \\lambda}{\\partial z_m^2}\\bigg|_{z_m=\\hat{z}, z=\\hat{z}} < 0\\]\n",
    "\n",
    "To summarize, an evolutionarily stable strategy, $z^*$, satisfies both\n",
    "\n",
    "\\[\\begin{aligned}\n",
    "\\frac{\\partial \\lambda}{\\partial z_m}\\bigg|_{z_m=z^*, z=z^*} &= 0\\\\\n",
    "\\frac{\\partial^2 \\lambda}{\\partial z_m^2}\\bigg|_{z_m=z^*, z=z^*} &< 0\n",
    "\\end{aligned}\\]\n",
    "\n",
    "i.e., $z^*$ is a (local) fitness maximum."
   ]
  },
  {
   "cell_type": "markdown",
   "id": "15078f07-220e-4e06-b7b7-f4ad4516a49c",
   "metadata": {},
   "source": [
    "<span id='section4'></span>\n",
    "## 4. Evolutionary convergence\n",
    "<hr>"
   ]
  },
  {
   "cell_type": "markdown",
   "id": "155c542a-63a5-4156-9321-7004998da777",
   "metadata": {},
   "source": [
    "There is one more characteristic of evolutionarily singular strategies that we care about, and\n",
    "that is whether evolution actually leads to that strategy or not. For evolution to move the trait value towards a singular strategy, $\\hat{z}$, we need evolution to increase the trait value when it is less than $\\hat{z}$ and decrease the trait value when it is greater than $\\hat{z}$. In other words, we need the selection gradient $\\frac{\\partial \\lambda}{\\partial z_m}\\Big|_{z_m=z}$ to decrease as we move through $z=\\hat{z}$\n",
    "\n",
    "\\[\\frac{\\mathrm{d}}{\\mathrm{d} z}\\left( \\frac{\\partial \\lambda}{\\partial z_m}\\Big|_{z_m=z} \\right)_{z=\\hat{z}} < 0\\]\n",
    "\n",
    "Singular strategies that satisfy this criteria are called <b>convergence stable</b>. Interestingly, not all evolutionarily stable strategies are convergence stable and not all convergence stable singular strategies are evolutionarily stable! Evolutionarily stable strategies that are not convergence stable are called <b>Garden of Eden strategies</b>.Singular strategies that are convergence stable but not evolutionarily stable are called <b>evolutionary branching points</b>. The latter are of particular interest because the system evolves towards a state where multiple strategies can coexist, leading to diversification."
   ]
  },
  {
   "cell_type": "markdown",
   "id": "fb5c4bdd-b525-4098-ae06-910e77a91fe1",
   "metadata": {},
   "source": [
    "<span id='section5'></span>\n",
    "## 5. Pairwise invasibility plots\n",
    "<hr>"
   ]
  },
  {
   "cell_type": "markdown",
   "id": "0c0ca9b9-57f8-4461-bced-d21e6b573804",
   "metadata": {},
   "source": [
    "A helpful way to visualize the two types of stability at an evolutionarily singular strategy is called a <b>pairwise invasibility plot (PIP)</b>"
   ]
  },
  {
   "cell_type": "markdown",
   "id": "a7492cc0-f857-42de-bcf4-84f3e896d7e1",
   "metadata": {},
   "source": [
    "!!! to do\n",
    "\n",
    "    show PIP"
   ]
  },
  {
   "cell_type": "markdown",
   "id": "0cd03a72-56a8-4d16-b10e-98534b05300b",
   "metadata": {},
   "source": [
    "<span id='section6'></span>\n",
    "## 6. Summary\n",
    "<hr>"
   ]
  },
  {
   "cell_type": "markdown",
   "id": "94be1c6f-e3f2-41f9-826c-d1998b6125ca",
   "metadata": {},
   "source": [
    "There are four types of evolutionarily singular strategies $\\hat{z}$, where $\\frac{\\partial \\lambda}{\\partial z_m}\\Big|_{z_m=\\hat{z},z=\\hat{z}}=0$."
   ]
  },
  {
   "cell_type": "markdown",
   "id": "ba917e25-24be-416f-b57d-2efb28dd41ea",
   "metadata": {},
   "source": [
    "!!! to do\n",
    "\n",
    "    show PIPs for each type"
   ]
  }
 ],
 "metadata": {
  "kernelspec": {
   "display_name": "eeb430",
   "language": "python",
   "name": "eeb430"
  },
  "language_info": {
   "codemirror_mode": {
    "name": "ipython",
    "version": 3
   },
   "file_extension": ".py",
   "mimetype": "text/x-python",
   "name": "python",
   "nbconvert_exporter": "python",
   "pygments_lexer": "ipython3",
   "version": "3.7.4"
  }
 },
 "nbformat": 4,
 "nbformat_minor": 5
}
