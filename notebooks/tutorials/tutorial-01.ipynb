{
 "cells": [
  {
   "cell_type": "markdown",
   "metadata": {
    "tags": []
   },
   "source": [
    "# Tutorial 1: Building recursion equations"
   ]
  },
  {
   "cell_type": "markdown",
   "metadata": {},
   "source": [
    "Let's get some more practice building recursion equations.\n",
    "\n",
    "## Review\n",
    "\n",
    "In Lecture 1 we asked, how does immigration affect population size?\n",
    "\n",
    "We then built a model with a single variable, $n(t)$, denoting population size at time $t$. \n",
    "\n",
    "In discrete time the parameters were the average number of immigrants per time step ($M$), the average number of offspring per individual per time step ($B$), and the fraction of individuals that die each time step ($D$). \n",
    "\n",
    "Assuming migration, then birth, then death each time step, we drew the following **life-cycle diagram**:\n",
    "\n",
    "<center>\n",
    "```mermaid\n",
    "graph LR;\n",
    "    A((n)) --migration--> B((n'));\n",
    "    B --birth--> C((n''));\n",
    "    C --death--> A;\n",
    "```   \n",
    "</center>\n",
    "\n",
    "We then built an equation for the population size in the next generation, $n(t+1)$, based on the life-cycle diagram above, by constructing an equation for each event \n",
    "\n",
    "$$n' = n(t) + M$$\n",
    "\n",
    "$$n'' = n' + Bn'$$\n",
    "\n",
    "$$n(t+1) = n'' - Dn''$$\n",
    "\n",
    "We then substituted $n''$ and then $n'$ into the equation for $n(t+1)$ to write $n(t+1)$ in terms of $n(t)$\n",
    "\n",
    "$$\n",
    "\\begin{aligned}\n",
    "n(t+1) &= n'' − Dn'' \\\\\n",
    "&= (n' + Bn') − D(n' + Bn') \\\\\n",
    "&= n'(1 + B − D − DB) \\\\\n",
    "&= (n(t) + M)(1 + B − D − DB) \\\\\n",
    "\\end{aligned}\n",
    "$$\n",
    "\n",
    "This **recursion equation** correctly takes into account the order of the life cycle (migration, birth, death) and the point at which the census is taken (immediately after death).\n",
    "\n",
    "## Problem\n",
    "\n",
    "Show that the six different life-cycle orders give four distinct recursion equations."
   ]
  }
 ],
 "metadata": {
  "kernelspec": {
   "display_name": "eeb430",
   "language": "python",
   "name": "eeb430"
  },
  "language_info": {
   "codemirror_mode": {
    "name": "ipython",
    "version": 3
   },
   "file_extension": ".py",
   "mimetype": "text/x-python",
   "name": "python",
   "nbconvert_exporter": "python",
   "pygments_lexer": "ipython3",
   "version": "3.7.4"
  }
 },
 "nbformat": 4,
 "nbformat_minor": 4
}
