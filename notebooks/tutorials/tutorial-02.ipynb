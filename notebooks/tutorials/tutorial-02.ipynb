{
 "cells": [
  {
   "cell_type": "code",
   "execution_count": null,
   "id": "053a87a1-3ee9-4865-a1ec-752412356313",
   "metadata": {},
   "outputs": [],
   "source": []
  },
  {
   "cell_type": "markdown",
   "id": "01c9aae3-b842-4c70-b70d-7199d36f519c",
   "metadata": {
    "tags": []
   },
   "source": [
    "<span id='section3'></span>\n",
    "\n",
    "## 3. Logistic growth\n",
    "<hr>\n",
    "\n",
    "Here, we will solve for the equilibria in both the discrete- and continuous-time logistic-growth models.\n",
    "\n",
    "### Discrete time\n",
    "\n",
    "$$\n",
    "n(t+1) = \\left(1 + r\\left(1 - \\frac{n(t)}{K}\\right)\\right)n(t)\n",
    "$$\n",
    "\n",
    "As above, we substitute $n(t+1) = n(t) = \\hat n$ and want to solve for $\\hat{n}$.\n",
    "\n",
    "$$\n",
    "\\hat n = \\left(1 + r\\left(1 - \\frac{\\hat n}{K}\\right)\\right)\\hat{n} \n",
    "$$\n",
    "\n",
    "Notice that one equilibrium is $\\hat n = 0$. However, this isn't the only equilibrium because dividing both sides by $\\hat n$ results in\n",
    "\n",
    "$$\n",
    "\\begin{aligned}\n",
    "1 &= 1 + r\\left(1 - \\frac{\\hat n}{K}\\right)\\\\\n",
    "0 &= r\\left(1 - \\frac{\\hat n}{K}\\right)\n",
    "\\end{aligned}\n",
    "$$\n",
    "\n",
    "Here we have a special case of parameters, $r=0$, or\n",
    "\n",
    "$$\n",
    "\\begin{aligned}\n",
    "0 &= 1 - \\frac{\\hat n}{K}\\\\\n",
    "\\hat n &= K\n",
    "\\end{aligned}\n",
    "$$\n",
    "\n",
    "There are therefore two equilibria: extinction, $\\hat{n}=0$, or carrying capacity, $\\hat{n}=K$.\n",
    "\n",
    "### Continuous time\n",
    "\n",
    "$$\n",
    "\\frac{\\mathrm{d}n}{\\mathrm{d}t} = r \\left(1 - \\frac{n}{K}\\right)n\n",
    "$$\n",
    "\n",
    "We set $\\mathrm{d}n/\\mathrm{d}t=0$ and $n=\\hat{n}$\n",
    "\n",
    "$$\n",
    "0 =  r \\left(1 - \\frac{\\hat n}{K}\\right)\\hat{n}\n",
    "$$\n",
    "\n",
    "which is the same equation we had above in discrete-time, so the equilibria ($\\hat n = 0,K$) and the special case of parameters ($r = 0$) are also the same."
   ]
  }
 ],
 "metadata": {
  "kernelspec": {
   "display_name": "eeb430",
   "language": "python",
   "name": "eeb430"
  },
  "language_info": {
   "codemirror_mode": {
    "name": "ipython",
    "version": 3
   },
   "file_extension": ".py",
   "mimetype": "text/x-python",
   "name": "python",
   "nbconvert_exporter": "python",
   "pygments_lexer": "ipython3",
   "version": "3.7.4"
  }
 },
 "nbformat": 4,
 "nbformat_minor": 5
}
